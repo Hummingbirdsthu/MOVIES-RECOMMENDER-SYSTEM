{
  "cells": [
    {
      "cell_type": "code",
      "execution_count": null,
      "metadata": {
        "id": "_PTyAyeX3i_s"
      },
      "outputs": [],
      "source": [
        "import numpy as np\n",
        "import pandas as pd\n",
        "import matplotlib.pyplot as plt\n",
        "import seaborn as sns\n",
        "from ast import literal_eval\n",
        "import builtins\n",
        "\n",
        "import json\n",
        "from itertools import islice\n",
        "\n",
        "from sklearn import preprocessing\n",
        "from lightfm.evaluation import auc_score, precision_at_k\n",
        "from lightfm import LightFM\n",
        "from lightfm.data import Dataset\n",
        "from lightfm import cross_validation\n",
        "import warnings\n",
        "warnings.filterwarnings('ignore')\n",
        "pd.set_option('display.max_columns', None)"
      ]
    },
    {
      "cell_type": "markdown",
      "metadata": {
        "id": "UW87-xU73i_w"
      },
      "source": [
        "## Model 1: Simple Recommender"
      ]
    },
    {
      "cell_type": "code",
      "execution_count": null,
      "metadata": {
        "id": "ZNpm63Es3i_y",
        "outputId": "0131caa2-01eb-4605-b563-062ce57e064a"
      },
      "outputs": [
        {
          "data": {
            "text/html": [
              "<div>\n",
              "<style scoped>\n",
              "    .dataframe tbody tr th:only-of-type {\n",
              "        vertical-align: middle;\n",
              "    }\n",
              "\n",
              "    .dataframe tbody tr th {\n",
              "        vertical-align: top;\n",
              "    }\n",
              "\n",
              "    .dataframe thead th {\n",
              "        text-align: right;\n",
              "    }\n",
              "</style>\n",
              "<table border=\"1\" class=\"dataframe\">\n",
              "  <thead>\n",
              "    <tr style=\"text-align: right;\">\n",
              "      <th></th>\n",
              "      <th>id</th>\n",
              "      <th>original_language</th>\n",
              "      <th>popularity</th>\n",
              "      <th>runtime</th>\n",
              "      <th>title</th>\n",
              "      <th>vote_average</th>\n",
              "      <th>vote_count</th>\n",
              "      <th>year</th>\n",
              "      <th>genres_list</th>\n",
              "      <th>production_companies_list</th>\n",
              "      <th>actor</th>\n",
              "      <th>director_name</th>\n",
              "      <th>keywords</th>\n",
              "    </tr>\n",
              "  </thead>\n",
              "  <tbody>\n",
              "    <tr>\n",
              "      <th>0</th>\n",
              "      <td>862</td>\n",
              "      <td>en</td>\n",
              "      <td>21.946943</td>\n",
              "      <td>81.0</td>\n",
              "      <td>Toy Story</td>\n",
              "      <td>7.7</td>\n",
              "      <td>5415.0</td>\n",
              "      <td>1995.0</td>\n",
              "      <td>['Animation', 'Comedy', 'Family']</td>\n",
              "      <td>Pixar Animation Studios</td>\n",
              "      <td>['Tom Hanks', 'Tim Allen', 'Don Rickles', 'Jim...</td>\n",
              "      <td>John Lasseter</td>\n",
              "      <td>['jealousy', 'toy', 'boy', 'friendship', 'frie...</td>\n",
              "    </tr>\n",
              "    <tr>\n",
              "      <th>1</th>\n",
              "      <td>8844</td>\n",
              "      <td>en</td>\n",
              "      <td>17.015539</td>\n",
              "      <td>104.0</td>\n",
              "      <td>Jumanji</td>\n",
              "      <td>6.9</td>\n",
              "      <td>2413.0</td>\n",
              "      <td>1995.0</td>\n",
              "      <td>['Adventure', 'Fantasy', 'Family']</td>\n",
              "      <td>TriStar Pictures Teitler Film Interscope Commu...</td>\n",
              "      <td>['Robin Williams', 'Jonathan Hyde', 'Kirsten D...</td>\n",
              "      <td>Joe Johnston</td>\n",
              "      <td>['board game', 'disappearance', \"based on chil...</td>\n",
              "    </tr>\n",
              "    <tr>\n",
              "      <th>2</th>\n",
              "      <td>15602</td>\n",
              "      <td>en</td>\n",
              "      <td>11.712900</td>\n",
              "      <td>101.0</td>\n",
              "      <td>Grumpier Old Men</td>\n",
              "      <td>6.5</td>\n",
              "      <td>92.0</td>\n",
              "      <td>1995.0</td>\n",
              "      <td>['Romance', 'Comedy']</td>\n",
              "      <td>Warner Bros. Lancaster Gate</td>\n",
              "      <td>['Walter Matthau', 'Jack Lemmon', 'Ann-Margret...</td>\n",
              "      <td>Howard Deutch</td>\n",
              "      <td>['fishing', 'best friend', 'duringcreditssting...</td>\n",
              "    </tr>\n",
              "    <tr>\n",
              "      <th>3</th>\n",
              "      <td>31357</td>\n",
              "      <td>en</td>\n",
              "      <td>3.859495</td>\n",
              "      <td>127.0</td>\n",
              "      <td>Waiting to Exhale</td>\n",
              "      <td>6.1</td>\n",
              "      <td>34.0</td>\n",
              "      <td>1995.0</td>\n",
              "      <td>['Comedy', 'Drama', 'Romance']</td>\n",
              "      <td>Twentieth Century Fox Film Corporation</td>\n",
              "      <td>['Whitney Houston', 'Angela Bassett', 'Loretta...</td>\n",
              "      <td>Forest Whitaker</td>\n",
              "      <td>['based on novel', 'interracial relationship',...</td>\n",
              "    </tr>\n",
              "    <tr>\n",
              "      <th>4</th>\n",
              "      <td>11862</td>\n",
              "      <td>en</td>\n",
              "      <td>8.387519</td>\n",
              "      <td>106.0</td>\n",
              "      <td>Father of the Bride Part II</td>\n",
              "      <td>5.7</td>\n",
              "      <td>173.0</td>\n",
              "      <td>1995.0</td>\n",
              "      <td>['Comedy']</td>\n",
              "      <td>Sandollar Productions Touchstone Pictures</td>\n",
              "      <td>['Steve Martin', 'Diane Keaton', 'Martin Short...</td>\n",
              "      <td>Charles Shyer</td>\n",
              "      <td>['baby', 'midlife crisis', 'confidence', 'agin...</td>\n",
              "    </tr>\n",
              "  </tbody>\n",
              "</table>\n",
              "</div>"
            ],
            "text/plain": [
              "      id original_language  popularity  runtime                        title  \\\n",
              "0    862                en   21.946943     81.0                    Toy Story   \n",
              "1   8844                en   17.015539    104.0                      Jumanji   \n",
              "2  15602                en   11.712900    101.0             Grumpier Old Men   \n",
              "3  31357                en    3.859495    127.0            Waiting to Exhale   \n",
              "4  11862                en    8.387519    106.0  Father of the Bride Part II   \n",
              "\n",
              "   vote_average  vote_count    year                         genres_list  \\\n",
              "0           7.7      5415.0  1995.0   ['Animation', 'Comedy', 'Family']   \n",
              "1           6.9      2413.0  1995.0  ['Adventure', 'Fantasy', 'Family']   \n",
              "2           6.5        92.0  1995.0               ['Romance', 'Comedy']   \n",
              "3           6.1        34.0  1995.0      ['Comedy', 'Drama', 'Romance']   \n",
              "4           5.7       173.0  1995.0                          ['Comedy']   \n",
              "\n",
              "                           production_companies_list  \\\n",
              "0                            Pixar Animation Studios   \n",
              "1  TriStar Pictures Teitler Film Interscope Commu...   \n",
              "2                        Warner Bros. Lancaster Gate   \n",
              "3             Twentieth Century Fox Film Corporation   \n",
              "4          Sandollar Productions Touchstone Pictures   \n",
              "\n",
              "                                               actor    director_name  \\\n",
              "0  ['Tom Hanks', 'Tim Allen', 'Don Rickles', 'Jim...    John Lasseter   \n",
              "1  ['Robin Williams', 'Jonathan Hyde', 'Kirsten D...     Joe Johnston   \n",
              "2  ['Walter Matthau', 'Jack Lemmon', 'Ann-Margret...    Howard Deutch   \n",
              "3  ['Whitney Houston', 'Angela Bassett', 'Loretta...  Forest Whitaker   \n",
              "4  ['Steve Martin', 'Diane Keaton', 'Martin Short...    Charles Shyer   \n",
              "\n",
              "                                            keywords  \n",
              "0  ['jealousy', 'toy', 'boy', 'friendship', 'frie...  \n",
              "1  ['board game', 'disappearance', \"based on chil...  \n",
              "2  ['fishing', 'best friend', 'duringcreditssting...  \n",
              "3  ['based on novel', 'interracial relationship',...  \n",
              "4  ['baby', 'midlife crisis', 'confidence', 'agin...  "
            ]
          },
          "execution_count": 91,
          "metadata": {},
          "output_type": "execute_result"
        }
      ],
      "source": [
        "df_movie_features = pd.read_csv('./data/data_movies_features.csv', encoding='utf_8')\n",
        "df_movie_features.head()"
      ]
    },
    {
      "cell_type": "markdown",
      "metadata": {
        "id": "e4BXVlAq3i_z"
      },
      "source": [
        "\\begin{equation}\\large\n",
        "Weighted\\;Rating =(\\frac{v}{v+m}.R )+(\\frac{m}{v+m}.C)\n",
        "\\end{equation}\n",
        "\n",
        "\n",
        "* v is the number of votes for the movie\n",
        "\n",
        "* m is the minimum votes required to be listed in the chart\n",
        "\n",
        "* R is the average rating of the movie\n",
        "\n",
        "* C is the mean vote across the whole dataset"
      ]
    },
    {
      "cell_type": "code",
      "execution_count": null,
      "metadata": {
        "id": "IfxG98kE3i_0"
      },
      "outputs": [],
      "source": [
        "# Function caculating weighted_rating score of movie x (x is a row in the dataframe)\n",
        "def weighted_rating(x):\n",
        "    m = x['vote_count'].quantile(0.95)\n",
        "    C = x['vote_average'].mean()\n",
        "    v = x['vote_count']\n",
        "    R = x['vote_average']\n",
        "    return (v/(v+m) * R) + (m/(m+v) * C)"
      ]
    },
    {
      "cell_type": "code",
      "execution_count": null,
      "metadata": {
        "id": "xu0q1fRe3i_0"
      },
      "outputs": [],
      "source": [
        "# Divide the list of sequences into individual components corresponding to each genre of the movie\n",
        "df_movie_features['genres_list'] = df_movie_features['genres_list'].apply(eval)\n",
        "s = df_movie_features.apply(lambda x: pd.Series(x['genres_list']),axis=1).stack().reset_index(level=1, drop=True)\n",
        "s.name = 'genre'\n",
        "gen_md = df_movie_features.drop('genres_list', axis=1).join(s)"
      ]
    },
    {
      "cell_type": "code",
      "execution_count": null,
      "metadata": {
        "id": "DAFEAfgK3i_1"
      },
      "outputs": [],
      "source": [
        "# Function recommend the best rated movies to the users based on the given genre\n",
        "def build_chart(genre, percentile=0.85):\n",
        "    # Retrieve movies by genre\n",
        "    df = gen_md[gen_md['genre'] == genre]\n",
        "    # the number of votes for the movies\n",
        "    vote_counts = df[df['vote_count'].notnull()]['vote_count'].astype('int')\n",
        "    # the average rating of the movie\n",
        "    vote_averages = df[df['vote_average'].notnull()]['vote_average'].astype('int')\n",
        "    C = vote_averages.mean()\n",
        "    m = vote_counts.quantile(percentile)\n",
        "\n",
        "    # Retrieve movies that meet the conditions: m is the minimum votes required to be listed in the qualified\n",
        "    qualified = df[(df['vote_count'] >= m) & (df['vote_count'].notnull()) & (df['vote_average'].notnull())][['title', 'year', 'vote_count', 'vote_average', 'popularity']]\n",
        "    qualified['vote_count'] = qualified['vote_count'].astype('int')\n",
        "    qualified['vote_average'] = qualified['vote_average'].astype('int')\n",
        "\n",
        "    # Calculate the score for every movie\n",
        "    qualified['wr'] = qualified.apply(weighted_rating, axis=1)\n",
        "    # Sort the scores\n",
        "    qualified = qualified.sort_values('wr', ascending=False).head(250)\n",
        "\n",
        "    return qualified"
      ]
    },
    {
      "cell_type": "code",
      "execution_count": null,
      "metadata": {
        "id": "6eaqb8ho3i_2",
        "outputId": "b0276a88-eed4-46cc-a04c-9f5a2af64ff7"
      },
      "outputs": [
        {
          "data": {
            "text/html": [
              "<div>\n",
              "<style scoped>\n",
              "    .dataframe tbody tr th:only-of-type {\n",
              "        vertical-align: middle;\n",
              "    }\n",
              "\n",
              "    .dataframe tbody tr th {\n",
              "        vertical-align: top;\n",
              "    }\n",
              "\n",
              "    .dataframe thead th {\n",
              "        text-align: right;\n",
              "    }\n",
              "</style>\n",
              "<table border=\"1\" class=\"dataframe\">\n",
              "  <thead>\n",
              "    <tr style=\"text-align: right;\">\n",
              "      <th></th>\n",
              "      <th>title</th>\n",
              "      <th>year</th>\n",
              "      <th>vote_count</th>\n",
              "      <th>vote_average</th>\n",
              "      <th>popularity</th>\n",
              "      <th>wr</th>\n",
              "    </tr>\n",
              "  </thead>\n",
              "  <tbody>\n",
              "    <tr>\n",
              "      <th>300</th>\n",
              "      <td>The Lion King</td>\n",
              "      <td>1994.0</td>\n",
              "      <td>5520</td>\n",
              "      <td>8</td>\n",
              "      <td>21.605761</td>\n",
              "      <td>7.686761</td>\n",
              "    </tr>\n",
              "    <tr>\n",
              "      <th>9511</th>\n",
              "      <td>Up</td>\n",
              "      <td>2009.0</td>\n",
              "      <td>7048</td>\n",
              "      <td>7</td>\n",
              "      <td>19.330884</td>\n",
              "      <td>6.868372</td>\n",
              "    </tr>\n",
              "    <tr>\n",
              "      <th>17376</th>\n",
              "      <td>Inside Out</td>\n",
              "      <td>2015.0</td>\n",
              "      <td>6737</td>\n",
              "      <td>7</td>\n",
              "      <td>23.985587</td>\n",
              "      <td>6.863067</td>\n",
              "    </tr>\n",
              "    <tr>\n",
              "      <th>10447</th>\n",
              "      <td>Despicable Me</td>\n",
              "      <td>2010.0</td>\n",
              "      <td>6595</td>\n",
              "      <td>7</td>\n",
              "      <td>22.274502</td>\n",
              "      <td>6.860500</td>\n",
              "    </tr>\n",
              "    <tr>\n",
              "      <th>8920</th>\n",
              "      <td>WALL·E</td>\n",
              "      <td>2008.0</td>\n",
              "      <td>6439</td>\n",
              "      <td>7</td>\n",
              "      <td>16.088366</td>\n",
              "      <td>6.857566</td>\n",
              "    </tr>\n",
              "    <tr>\n",
              "      <th>...</th>\n",
              "      <td>...</td>\n",
              "      <td>...</td>\n",
              "      <td>...</td>\n",
              "      <td>...</td>\n",
              "      <td>...</td>\n",
              "      <td>...</td>\n",
              "    </tr>\n",
              "    <tr>\n",
              "      <th>8084</th>\n",
              "      <td>Happy Feet</td>\n",
              "      <td>2006.0</td>\n",
              "      <td>1457</td>\n",
              "      <td>5</td>\n",
              "      <td>15.088318</td>\n",
              "      <td>5.370165</td>\n",
              "    </tr>\n",
              "    <tr>\n",
              "      <th>6165</th>\n",
              "      <td>Shark Tale</td>\n",
              "      <td>2004.0</td>\n",
              "      <td>1612</td>\n",
              "      <td>5</td>\n",
              "      <td>17.999273</td>\n",
              "      <td>5.348022</td>\n",
              "    </tr>\n",
              "    <tr>\n",
              "      <th>11384</th>\n",
              "      <td>Cars 2</td>\n",
              "      <td>2011.0</td>\n",
              "      <td>2088</td>\n",
              "      <td>5</td>\n",
              "      <td>13.693002</td>\n",
              "      <td>5.294013</td>\n",
              "    </tr>\n",
              "    <tr>\n",
              "      <th>20066</th>\n",
              "      <td>Sausage Party</td>\n",
              "      <td>2016.0</td>\n",
              "      <td>2310</td>\n",
              "      <td>5</td>\n",
              "      <td>17.569630</td>\n",
              "      <td>5.274169</td>\n",
              "    </tr>\n",
              "    <tr>\n",
              "      <th>17430</th>\n",
              "      <td>The Secret Life of Pets</td>\n",
              "      <td>2016.0</td>\n",
              "      <td>3536</td>\n",
              "      <td>5</td>\n",
              "      <td>11.013950</td>\n",
              "      <td>5.199724</td>\n",
              "    </tr>\n",
              "  </tbody>\n",
              "</table>\n",
              "<p>151 rows × 6 columns</p>\n",
              "</div>"
            ],
            "text/plain": [
              "                         title    year  vote_count  vote_average  popularity  \\\n",
              "300              The Lion King  1994.0        5520             8   21.605761   \n",
              "9511                        Up  2009.0        7048             7   19.330884   \n",
              "17376               Inside Out  2015.0        6737             7   23.985587   \n",
              "10447            Despicable Me  2010.0        6595             7   22.274502   \n",
              "8920                    WALL·E  2008.0        6439             7   16.088366   \n",
              "...                        ...     ...         ...           ...         ...   \n",
              "8084                Happy Feet  2006.0        1457             5   15.088318   \n",
              "6165                Shark Tale  2004.0        1612             5   17.999273   \n",
              "11384                   Cars 2  2011.0        2088             5   13.693002   \n",
              "20066            Sausage Party  2016.0        2310             5   17.569630   \n",
              "17430  The Secret Life of Pets  2016.0        3536             5   11.013950   \n",
              "\n",
              "             wr  \n",
              "300    7.686761  \n",
              "9511   6.868372  \n",
              "17376  6.863067  \n",
              "10447  6.860500  \n",
              "8920   6.857566  \n",
              "...         ...  \n",
              "8084   5.370165  \n",
              "6165   5.348022  \n",
              "11384  5.294013  \n",
              "20066  5.274169  \n",
              "17430  5.199724  \n",
              "\n",
              "[151 rows x 6 columns]"
            ]
          },
          "execution_count": 95,
          "metadata": {},
          "output_type": "execute_result"
        }
      ],
      "source": [
        "build_chart('Animation')"
      ]
    },
    {
      "cell_type": "markdown",
      "metadata": {
        "id": "Y6jv2vQz3i_3"
      },
      "source": [
        "## Model 2: Content Based Recommender"
      ]
    },
    {
      "cell_type": "code",
      "execution_count": null,
      "metadata": {
        "id": "t0AoWBPN3i_3"
      },
      "outputs": [],
      "source": [
        "from sklearn.feature_extraction.text import CountVectorizer\n",
        "from sklearn.metrics.pairwise import cosine_similarity"
      ]
    },
    {
      "cell_type": "code",
      "execution_count": null,
      "metadata": {
        "id": "YTGwc7SX3i_4"
      },
      "outputs": [],
      "source": [
        "# This function takes a row from the DataFrame and creates a 'soup' string by combining the text content\n",
        "def create_soup(x):\n",
        "    return ' '.join(x['keywords']) + ' ' + ' '.join(x['actor']) + ' ' + x['director_name'] + ' ' + ' '.join(x['genres_list'])+ ' ' + ' '.join(x['title'])"
      ]
    },
    {
      "cell_type": "code",
      "execution_count": null,
      "metadata": {
        "id": "5VYk32603i_4",
        "outputId": "28f5cb86-6d8b-4051-d92b-73934da113ce"
      },
      "outputs": [
        {
          "data": {
            "text/html": [
              "<div>\n",
              "<style scoped>\n",
              "    .dataframe tbody tr th:only-of-type {\n",
              "        vertical-align: middle;\n",
              "    }\n",
              "\n",
              "    .dataframe tbody tr th {\n",
              "        vertical-align: top;\n",
              "    }\n",
              "\n",
              "    .dataframe thead th {\n",
              "        text-align: right;\n",
              "    }\n",
              "</style>\n",
              "<table border=\"1\" class=\"dataframe\">\n",
              "  <thead>\n",
              "    <tr style=\"text-align: right;\">\n",
              "      <th></th>\n",
              "      <th>id</th>\n",
              "      <th>original_language</th>\n",
              "      <th>popularity</th>\n",
              "      <th>runtime</th>\n",
              "      <th>title</th>\n",
              "      <th>vote_average</th>\n",
              "      <th>vote_count</th>\n",
              "      <th>year</th>\n",
              "      <th>genres_list</th>\n",
              "      <th>production_companies_list</th>\n",
              "      <th>actor</th>\n",
              "      <th>director_name</th>\n",
              "      <th>keywords</th>\n",
              "      <th>soup</th>\n",
              "    </tr>\n",
              "  </thead>\n",
              "  <tbody>\n",
              "    <tr>\n",
              "      <th>0</th>\n",
              "      <td>862</td>\n",
              "      <td>en</td>\n",
              "      <td>21.946943</td>\n",
              "      <td>81.0</td>\n",
              "      <td>Toy Story</td>\n",
              "      <td>7.7</td>\n",
              "      <td>5415.0</td>\n",
              "      <td>1995.0</td>\n",
              "      <td>[Animation, Comedy, Family]</td>\n",
              "      <td>Pixar Animation Studios</td>\n",
              "      <td>['Tom Hanks', 'Tim Allen', 'Don Rickles', 'Jim...</td>\n",
              "      <td>John Lasseter</td>\n",
              "      <td>['jealousy', 'toy', 'boy', 'friendship', 'frie...</td>\n",
              "      <td>[ ' j e a l o u s y ' ,   ' t o y ' ,   ' b o ...</td>\n",
              "    </tr>\n",
              "    <tr>\n",
              "      <th>1</th>\n",
              "      <td>8844</td>\n",
              "      <td>en</td>\n",
              "      <td>17.015539</td>\n",
              "      <td>104.0</td>\n",
              "      <td>Jumanji</td>\n",
              "      <td>6.9</td>\n",
              "      <td>2413.0</td>\n",
              "      <td>1995.0</td>\n",
              "      <td>[Adventure, Fantasy, Family]</td>\n",
              "      <td>TriStar Pictures Teitler Film Interscope Commu...</td>\n",
              "      <td>['Robin Williams', 'Jonathan Hyde', 'Kirsten D...</td>\n",
              "      <td>Joe Johnston</td>\n",
              "      <td>['board game', 'disappearance', \"based on chil...</td>\n",
              "      <td>[ ' b o a r d   g a m e ' ,   ' d i s a p p e ...</td>\n",
              "    </tr>\n",
              "    <tr>\n",
              "      <th>2</th>\n",
              "      <td>15602</td>\n",
              "      <td>en</td>\n",
              "      <td>11.712900</td>\n",
              "      <td>101.0</td>\n",
              "      <td>Grumpier Old Men</td>\n",
              "      <td>6.5</td>\n",
              "      <td>92.0</td>\n",
              "      <td>1995.0</td>\n",
              "      <td>[Romance, Comedy]</td>\n",
              "      <td>Warner Bros. Lancaster Gate</td>\n",
              "      <td>['Walter Matthau', 'Jack Lemmon', 'Ann-Margret...</td>\n",
              "      <td>Howard Deutch</td>\n",
              "      <td>['fishing', 'best friend', 'duringcreditssting...</td>\n",
              "      <td>[ ' f i s h i n g ' ,   ' b e s t   f r i e n ...</td>\n",
              "    </tr>\n",
              "    <tr>\n",
              "      <th>3</th>\n",
              "      <td>31357</td>\n",
              "      <td>en</td>\n",
              "      <td>3.859495</td>\n",
              "      <td>127.0</td>\n",
              "      <td>Waiting to Exhale</td>\n",
              "      <td>6.1</td>\n",
              "      <td>34.0</td>\n",
              "      <td>1995.0</td>\n",
              "      <td>[Comedy, Drama, Romance]</td>\n",
              "      <td>Twentieth Century Fox Film Corporation</td>\n",
              "      <td>['Whitney Houston', 'Angela Bassett', 'Loretta...</td>\n",
              "      <td>Forest Whitaker</td>\n",
              "      <td>['based on novel', 'interracial relationship',...</td>\n",
              "      <td>[ ' b a s e d   o n   n o v e l ' ,   ' i n t ...</td>\n",
              "    </tr>\n",
              "    <tr>\n",
              "      <th>4</th>\n",
              "      <td>11862</td>\n",
              "      <td>en</td>\n",
              "      <td>8.387519</td>\n",
              "      <td>106.0</td>\n",
              "      <td>Father of the Bride Part II</td>\n",
              "      <td>5.7</td>\n",
              "      <td>173.0</td>\n",
              "      <td>1995.0</td>\n",
              "      <td>[Comedy]</td>\n",
              "      <td>Sandollar Productions Touchstone Pictures</td>\n",
              "      <td>['Steve Martin', 'Diane Keaton', 'Martin Short...</td>\n",
              "      <td>Charles Shyer</td>\n",
              "      <td>['baby', 'midlife crisis', 'confidence', 'agin...</td>\n",
              "      <td>[ ' b a b y ' ,   ' m i d l i f e   c r i s i ...</td>\n",
              "    </tr>\n",
              "  </tbody>\n",
              "</table>\n",
              "</div>"
            ],
            "text/plain": [
              "      id original_language  popularity  runtime                        title  \\\n",
              "0    862                en   21.946943     81.0                    Toy Story   \n",
              "1   8844                en   17.015539    104.0                      Jumanji   \n",
              "2  15602                en   11.712900    101.0             Grumpier Old Men   \n",
              "3  31357                en    3.859495    127.0            Waiting to Exhale   \n",
              "4  11862                en    8.387519    106.0  Father of the Bride Part II   \n",
              "\n",
              "   vote_average  vote_count    year                   genres_list  \\\n",
              "0           7.7      5415.0  1995.0   [Animation, Comedy, Family]   \n",
              "1           6.9      2413.0  1995.0  [Adventure, Fantasy, Family]   \n",
              "2           6.5        92.0  1995.0             [Romance, Comedy]   \n",
              "3           6.1        34.0  1995.0      [Comedy, Drama, Romance]   \n",
              "4           5.7       173.0  1995.0                      [Comedy]   \n",
              "\n",
              "                           production_companies_list  \\\n",
              "0                            Pixar Animation Studios   \n",
              "1  TriStar Pictures Teitler Film Interscope Commu...   \n",
              "2                        Warner Bros. Lancaster Gate   \n",
              "3             Twentieth Century Fox Film Corporation   \n",
              "4          Sandollar Productions Touchstone Pictures   \n",
              "\n",
              "                                               actor    director_name  \\\n",
              "0  ['Tom Hanks', 'Tim Allen', 'Don Rickles', 'Jim...    John Lasseter   \n",
              "1  ['Robin Williams', 'Jonathan Hyde', 'Kirsten D...     Joe Johnston   \n",
              "2  ['Walter Matthau', 'Jack Lemmon', 'Ann-Margret...    Howard Deutch   \n",
              "3  ['Whitney Houston', 'Angela Bassett', 'Loretta...  Forest Whitaker   \n",
              "4  ['Steve Martin', 'Diane Keaton', 'Martin Short...    Charles Shyer   \n",
              "\n",
              "                                            keywords  \\\n",
              "0  ['jealousy', 'toy', 'boy', 'friendship', 'frie...   \n",
              "1  ['board game', 'disappearance', \"based on chil...   \n",
              "2  ['fishing', 'best friend', 'duringcreditssting...   \n",
              "3  ['based on novel', 'interracial relationship',...   \n",
              "4  ['baby', 'midlife crisis', 'confidence', 'agin...   \n",
              "\n",
              "                                                soup  \n",
              "0  [ ' j e a l o u s y ' ,   ' t o y ' ,   ' b o ...  \n",
              "1  [ ' b o a r d   g a m e ' ,   ' d i s a p p e ...  \n",
              "2  [ ' f i s h i n g ' ,   ' b e s t   f r i e n ...  \n",
              "3  [ ' b a s e d   o n   n o v e l ' ,   ' i n t ...  \n",
              "4  [ ' b a b y ' ,   ' m i d l i f e   c r i s i ...  "
            ]
          },
          "execution_count": 109,
          "metadata": {},
          "output_type": "execute_result"
        }
      ],
      "source": [
        "# Apply the 'create_soup' function to each row in the DataFrame to create a new column 'soup'\n",
        "df_movie_features['soup'] = df_movie_features.apply(create_soup, axis=1)\n",
        "df_movie_features.head()"
      ]
    },
    {
      "cell_type": "markdown",
      "metadata": {
        "id": "4lVvs1SR3i_4"
      },
      "source": [
        "\\begin{equation}\\large\n",
        "   \\cos\\theta = \\frac{\\overrightarrow{a}.\\overrightarrow{b}}{\\lVert{\\overrightarrow{a}}\\rVert {\\lVert{\\overrightarrow{b}}\\rVert}}\n",
        "\\end{equation}\n",
        "\n",
        "\\begin{equation}\n",
        "   \\lVert{\\overrightarrow{a}}\\rVert = \\sqrt{a_{1}^2 + a_{2}^2 +a_{3}^2 + ... + a_{n}^2}\n",
        "\\end{equation}\n",
        "   \n",
        "\\begin{equation}\n",
        "   \\lVert{\\overrightarrow{b}}\\rVert = \\sqrt{b_{1}^2 + b_{2}^2 +b_{3}^2 + ... + b_{n}^2}\n",
        "\\end{equation}"
      ]
    },
    {
      "cell_type": "code",
      "execution_count": null,
      "metadata": {
        "id": "YYA_tmu73i_5"
      },
      "outputs": [],
      "source": [
        "# Initialize a CountVectorizer\n",
        "count = CountVectorizer(stop_words='english')\n",
        "\n",
        "# Fit the CountVectorizer to the 'soup' column in the DataFrame\n",
        "# This will learn the vocabulary of the text data\n",
        "count.fit(df_movie_features['soup'])\n",
        "\n",
        "# Transform the 'soup' column into a document-term matrix\n",
        "# This will represent each document as a vector in a high-dimensional space\n",
        "count_matrix = count.transform(df_movie_features['soup'])\n",
        "\n",
        "# Compute the cosine similarity between all pairs of documents in the document-term matrix\n",
        "cosine_sim = cosine_similarity(count_matrix, count_matrix)"
      ]
    },
    {
      "cell_type": "code",
      "execution_count": null,
      "metadata": {
        "id": "UfE0GZfy3i_5"
      },
      "outputs": [],
      "source": [
        "df_movie_features = df_movie_features.reset_index()\n",
        "indices = pd.Series(df_movie_features.index, index=df_movie_features['title'])"
      ]
    },
    {
      "cell_type": "code",
      "execution_count": null,
      "metadata": {
        "id": "bRyErXWZ3i_5"
      },
      "outputs": [],
      "source": [
        "def get_recommendations(titles, cosine_sim=cosine_sim):\n",
        "    id = indices.get(titles, None)\n",
        "    if (id is None):\n",
        "        a=df_movie_features.query('title.str.contains(@titles)').sort_values(by=['vote_average', 'vote_count'], ascending=False).reset_index()\n",
        "        id = indices[a['title'][0]]\n",
        "    if (id.shape != ()):\n",
        "        id = id[0]\n",
        "\n",
        "    # Get the pairwsie similarity scores of all movies with that movie\n",
        "    sim_scores = list(enumerate(cosine_sim[id]))\n",
        "\n",
        "    # Sort the movies based on the similarity scores\n",
        "    sim_scores = sorted(sim_scores, key=lambda x: x[1], reverse=True)\n",
        "\n",
        "    # Get the scores of the 10 most similar movies\n",
        "    sim_scores = sim_scores[1:11]\n",
        "\n",
        "    # Get the movie indices\n",
        "    movie_indices = [i[0] for i in sim_scores]\n",
        "\n",
        "    # Return the top 10 most similar movies\n",
        "    return df_movie_features[['id', 'title', 'director_name', 'actor', 'genres_list', 'keywords']].iloc[movie_indices]"
      ]
    },
    {
      "cell_type": "code",
      "execution_count": null,
      "metadata": {
        "id": "xS0dbnuZ3i_5",
        "outputId": "d02ef9f4-c05c-420d-fd6d-7335647c7ae6"
      },
      "outputs": [
        {
          "data": {
            "text/html": [
              "<div>\n",
              "<style scoped>\n",
              "    .dataframe tbody tr th:only-of-type {\n",
              "        vertical-align: middle;\n",
              "    }\n",
              "\n",
              "    .dataframe tbody tr th {\n",
              "        vertical-align: top;\n",
              "    }\n",
              "\n",
              "    .dataframe thead th {\n",
              "        text-align: right;\n",
              "    }\n",
              "</style>\n",
              "<table border=\"1\" class=\"dataframe\">\n",
              "  <thead>\n",
              "    <tr style=\"text-align: right;\">\n",
              "      <th></th>\n",
              "      <th>id</th>\n",
              "      <th>title</th>\n",
              "      <th>director_name</th>\n",
              "      <th>actor</th>\n",
              "      <th>genres_list</th>\n",
              "      <th>keywords</th>\n",
              "    </tr>\n",
              "  </thead>\n",
              "  <tbody>\n",
              "    <tr>\n",
              "      <th>10784</th>\n",
              "      <td>12444</td>\n",
              "      <td>Harry Potter and the Deathly Hallows: Part 1</td>\n",
              "      <td>David Yates</td>\n",
              "      <td>['Daniel Radcliffe', 'Emma Watson', 'Rupert Gr...</td>\n",
              "      <td>[Adventure, Fantasy, Family]</td>\n",
              "      <td>['corruption', 'isolation', 'radio', 'magic', ...</td>\n",
              "    </tr>\n",
              "    <tr>\n",
              "      <th>11417</th>\n",
              "      <td>12445</td>\n",
              "      <td>Harry Potter and the Deathly Hallows: Part 2</td>\n",
              "      <td>David Yates</td>\n",
              "      <td>['Daniel Radcliffe', 'Rupert Grint', 'Emma Wat...</td>\n",
              "      <td>[Family, Fantasy, Adventure]</td>\n",
              "      <td>['self sacrifice', 'magic', 'frog', 'sorcerer'...</td>\n",
              "    </tr>\n",
              "    <tr>\n",
              "      <th>17398</th>\n",
              "      <td>259316</td>\n",
              "      <td>Fantastic Beasts and Where to Find Them</td>\n",
              "      <td>David Yates</td>\n",
              "      <td>['Eddie Redmayne', 'Colin Farrell', 'Katherine...</td>\n",
              "      <td>[Adventure, Family, Fantasy]</td>\n",
              "      <td>['robbery', 'magic', 'teleportation', 'suitcas...</td>\n",
              "    </tr>\n",
              "    <tr>\n",
              "      <th>8423</th>\n",
              "      <td>675</td>\n",
              "      <td>Harry Potter and the Order of the Phoenix</td>\n",
              "      <td>David Yates</td>\n",
              "      <td>['Daniel Radcliffe', 'Rupert Grint', 'Emma Wat...</td>\n",
              "      <td>[Adventure, Fantasy, Family, Mystery]</td>\n",
              "      <td>['prophecy', 'witch', 'loss of lover', 'magic'...</td>\n",
              "    </tr>\n",
              "    <tr>\n",
              "      <th>20299</th>\n",
              "      <td>294272</td>\n",
              "      <td>Pete's Dragon</td>\n",
              "      <td>David Lowery</td>\n",
              "      <td>['Bryce Dallas Howard', 'Oakes Fegley', 'Wes B...</td>\n",
              "      <td>[Adventure, Family, Fantasy]</td>\n",
              "      <td>['feral child', 'remake', 'dragon', 'orphan', ...</td>\n",
              "    </tr>\n",
              "    <tr>\n",
              "      <th>8531</th>\n",
              "      <td>2274</td>\n",
              "      <td>The Seeker: The Dark Is Rising</td>\n",
              "      <td>David L. Cunningham</td>\n",
              "      <td>['Ian McShane', 'Christopher Eccleston', 'Greg...</td>\n",
              "      <td>[Adventure, Drama, Fantasy, Family, Thriller]</td>\n",
              "      <td>['fight', 'dynasty', 'chosen one', 'earth', 'i...</td>\n",
              "    </tr>\n",
              "    <tr>\n",
              "      <th>13924</th>\n",
              "      <td>18224</td>\n",
              "      <td>Bionicle 3: Web of Shadows</td>\n",
              "      <td>David Molina</td>\n",
              "      <td>['Kathleen Barr', 'Trevor Devall', 'Brian Drum...</td>\n",
              "      <td>[Action, Adventure, Animation, Family, Fantasy]</td>\n",
              "      <td>['return', 'hero', 'enemy']</td>\n",
              "    </tr>\n",
              "    <tr>\n",
              "      <th>5342</th>\n",
              "      <td>10601</td>\n",
              "      <td>Peter Pan</td>\n",
              "      <td>P.J. Hogan</td>\n",
              "      <td>['Jeremy Sumpter', 'Jason Isaacs', 'Rachel Hur...</td>\n",
              "      <td>[Adventure, Fantasy, Family]</td>\n",
              "      <td>['flying', 'liberation', 'fairy', 'peter pan',...</td>\n",
              "    </tr>\n",
              "    <tr>\n",
              "      <th>20294</th>\n",
              "      <td>258489</td>\n",
              "      <td>The Legend of Tarzan</td>\n",
              "      <td>David Yates</td>\n",
              "      <td>['Alexander Skarsgård', 'Margot Robbie', 'Chri...</td>\n",
              "      <td>[Action, Adventure]</td>\n",
              "      <td>['africa', 'feral child', 'tarzan', 'jungle', ...</td>\n",
              "    </tr>\n",
              "    <tr>\n",
              "      <th>18377</th>\n",
              "      <td>34204</td>\n",
              "      <td>Return to Halloweentown</td>\n",
              "      <td>David Jackson</td>\n",
              "      <td>['Sara Paxton', 'Judith Hoag', 'Debbie Reynold...</td>\n",
              "      <td>[Adventure, Comedy, Family, Fantasy, TV Movie]</td>\n",
              "      <td>['holiday', 'witch', 'magic', 'disney channel']</td>\n",
              "    </tr>\n",
              "  </tbody>\n",
              "</table>\n",
              "</div>"
            ],
            "text/plain": [
              "           id                                         title  \\\n",
              "10784   12444  Harry Potter and the Deathly Hallows: Part 1   \n",
              "11417   12445  Harry Potter and the Deathly Hallows: Part 2   \n",
              "17398  259316       Fantastic Beasts and Where to Find Them   \n",
              "8423      675     Harry Potter and the Order of the Phoenix   \n",
              "20299  294272                                 Pete's Dragon   \n",
              "8531     2274                The Seeker: The Dark Is Rising   \n",
              "13924   18224                    Bionicle 3: Web of Shadows   \n",
              "5342    10601                                     Peter Pan   \n",
              "20294  258489                          The Legend of Tarzan   \n",
              "18377   34204                       Return to Halloweentown   \n",
              "\n",
              "             director_name                                              actor  \\\n",
              "10784          David Yates  ['Daniel Radcliffe', 'Emma Watson', 'Rupert Gr...   \n",
              "11417          David Yates  ['Daniel Radcliffe', 'Rupert Grint', 'Emma Wat...   \n",
              "17398          David Yates  ['Eddie Redmayne', 'Colin Farrell', 'Katherine...   \n",
              "8423           David Yates  ['Daniel Radcliffe', 'Rupert Grint', 'Emma Wat...   \n",
              "20299         David Lowery  ['Bryce Dallas Howard', 'Oakes Fegley', 'Wes B...   \n",
              "8531   David L. Cunningham  ['Ian McShane', 'Christopher Eccleston', 'Greg...   \n",
              "13924         David Molina  ['Kathleen Barr', 'Trevor Devall', 'Brian Drum...   \n",
              "5342            P.J. Hogan  ['Jeremy Sumpter', 'Jason Isaacs', 'Rachel Hur...   \n",
              "20294          David Yates  ['Alexander Skarsgård', 'Margot Robbie', 'Chri...   \n",
              "18377        David Jackson  ['Sara Paxton', 'Judith Hoag', 'Debbie Reynold...   \n",
              "\n",
              "                                           genres_list  \\\n",
              "10784                     [Adventure, Fantasy, Family]   \n",
              "11417                     [Family, Fantasy, Adventure]   \n",
              "17398                     [Adventure, Family, Fantasy]   \n",
              "8423             [Adventure, Fantasy, Family, Mystery]   \n",
              "20299                     [Adventure, Family, Fantasy]   \n",
              "8531     [Adventure, Drama, Fantasy, Family, Thriller]   \n",
              "13924  [Action, Adventure, Animation, Family, Fantasy]   \n",
              "5342                      [Adventure, Fantasy, Family]   \n",
              "20294                              [Action, Adventure]   \n",
              "18377   [Adventure, Comedy, Family, Fantasy, TV Movie]   \n",
              "\n",
              "                                                keywords  \n",
              "10784  ['corruption', 'isolation', 'radio', 'magic', ...  \n",
              "11417  ['self sacrifice', 'magic', 'frog', 'sorcerer'...  \n",
              "17398  ['robbery', 'magic', 'teleportation', 'suitcas...  \n",
              "8423   ['prophecy', 'witch', 'loss of lover', 'magic'...  \n",
              "20299  ['feral child', 'remake', 'dragon', 'orphan', ...  \n",
              "8531   ['fight', 'dynasty', 'chosen one', 'earth', 'i...  \n",
              "13924                        ['return', 'hero', 'enemy']  \n",
              "5342   ['flying', 'liberation', 'fairy', 'peter pan',...  \n",
              "20294  ['africa', 'feral child', 'tarzan', 'jungle', ...  \n",
              "18377    ['holiday', 'witch', 'magic', 'disney channel']  "
            ]
          },
          "execution_count": 120,
          "metadata": {},
          "output_type": "execute_result"
        }
      ],
      "source": [
        "get_recommendations('Harry Potter', cosine_sim)"
      ]
    },
    {
      "cell_type": "code",
      "execution_count": null,
      "metadata": {
        "id": "Yq1aMNLv3i_5",
        "outputId": "4833cbe3-f0a3-4025-8241-beec40afd819"
      },
      "outputs": [
        {
          "data": {
            "text/html": [
              "<div>\n",
              "<style scoped>\n",
              "    .dataframe tbody tr th:only-of-type {\n",
              "        vertical-align: middle;\n",
              "    }\n",
              "\n",
              "    .dataframe tbody tr th {\n",
              "        vertical-align: top;\n",
              "    }\n",
              "\n",
              "    .dataframe thead th {\n",
              "        text-align: right;\n",
              "    }\n",
              "</style>\n",
              "<table border=\"1\" class=\"dataframe\">\n",
              "  <thead>\n",
              "    <tr style=\"text-align: right;\">\n",
              "      <th></th>\n",
              "      <th>id</th>\n",
              "      <th>title</th>\n",
              "      <th>director_name</th>\n",
              "      <th>actor</th>\n",
              "      <th>genres_list</th>\n",
              "      <th>keywords</th>\n",
              "    </tr>\n",
              "  </thead>\n",
              "  <tbody>\n",
              "    <tr>\n",
              "      <th>3557</th>\n",
              "      <td>9942</td>\n",
              "      <td>Major League</td>\n",
              "      <td>David S. Ward</td>\n",
              "      <td>['Tom Berenger', 'Charlie Sheen', 'Corbin Bern...</td>\n",
              "      <td>[Comedy]</td>\n",
              "      <td>['baseball', 'sport', 'sabotage', 'sombrero', ...</td>\n",
              "    </tr>\n",
              "    <tr>\n",
              "      <th>6764</th>\n",
              "      <td>11067</td>\n",
              "      <td>Major League II</td>\n",
              "      <td>David S. Ward</td>\n",
              "      <td>['Charlie Sheen', 'Tom Berenger', 'Corbin Bern...</td>\n",
              "      <td>[Comedy]</td>\n",
              "      <td>['baseball', 'sport', 'sequel', 'sports league']</td>\n",
              "    </tr>\n",
              "    <tr>\n",
              "      <th>5222</th>\n",
              "      <td>10804</td>\n",
              "      <td>King Ralph</td>\n",
              "      <td>David S. Ward</td>\n",
              "      <td>['John Goodman', \"Peter O'Toole\", 'John Hurt',...</td>\n",
              "      <td>[Comedy, Family]</td>\n",
              "      <td>['love at first sight', \"love of one's life\", ...</td>\n",
              "    </tr>\n",
              "    <tr>\n",
              "      <th>433</th>\n",
              "      <td>18133</td>\n",
              "      <td>The Program</td>\n",
              "      <td>David S. Ward</td>\n",
              "      <td>['James Caan', 'Halle Berry', 'Omar Epps', 'Cr...</td>\n",
              "      <td>[Drama]</td>\n",
              "      <td>['american football', 'sport']</td>\n",
              "    </tr>\n",
              "    <tr>\n",
              "      <th>1135</th>\n",
              "      <td>9611</td>\n",
              "      <td>Romy and Michele's High School Reunion</td>\n",
              "      <td>David Mirkin</td>\n",
              "      <td>['Mira Sorvino', 'Lisa Kudrow', 'Janeane Garof...</td>\n",
              "      <td>[Comedy]</td>\n",
              "      <td>['smoking', 'overweight child', 'graduation', ...</td>\n",
              "    </tr>\n",
              "    <tr>\n",
              "      <th>1367</th>\n",
              "      <td>24560</td>\n",
              "      <td>Sour Grapes</td>\n",
              "      <td>Larry David</td>\n",
              "      <td>['Steven Weber', 'Craig Bierko', 'Viola Harris...</td>\n",
              "      <td>[Comedy]</td>\n",
              "      <td>['greed', 'dollar', 'jackpot', 'atlantic city'...</td>\n",
              "    </tr>\n",
              "    <tr>\n",
              "      <th>1535</th>\n",
              "      <td>14013</td>\n",
              "      <td>BASEketball</td>\n",
              "      <td>David Zucker</td>\n",
              "      <td>['Trey Parker', 'Matt Stone', 'Yasmine Bleeth'...</td>\n",
              "      <td>[Comedy]</td>\n",
              "      <td>['stadium', 'invention', 'sport', 'mascot', 'p...</td>\n",
              "    </tr>\n",
              "    <tr>\n",
              "      <th>3577</th>\n",
              "      <td>2171</td>\n",
              "      <td>Wet Hot American Summer</td>\n",
              "      <td>David Wain</td>\n",
              "      <td>['Janeane Garofalo', 'David Hyde Pierce', 'Mic...</td>\n",
              "      <td>[Comedy]</td>\n",
              "      <td>['adolescence', 'summer camp', 'independent fi...</td>\n",
              "    </tr>\n",
              "    <tr>\n",
              "      <th>4020</th>\n",
              "      <td>31805</td>\n",
              "      <td>Road to Morocco</td>\n",
              "      <td>David Butler</td>\n",
              "      <td>['Bing Crosby', 'Bob Hope', 'Dorothy Lamour', ...</td>\n",
              "      <td>[Comedy]</td>\n",
              "      <td>['morocco', 'castaway', 'road movie']</td>\n",
              "    </tr>\n",
              "    <tr>\n",
              "      <th>4494</th>\n",
              "      <td>25297</td>\n",
              "      <td>Cannery Row</td>\n",
              "      <td>David S. Ward</td>\n",
              "      <td>['Nick Nolte', 'Debra Winger', 'Audra Lindley'...</td>\n",
              "      <td>[Drama]</td>\n",
              "      <td>['cannery']</td>\n",
              "    </tr>\n",
              "  </tbody>\n",
              "</table>\n",
              "</div>"
            ],
            "text/plain": [
              "         id                                   title  director_name  \\\n",
              "3557   9942                            Major League  David S. Ward   \n",
              "6764  11067                         Major League II  David S. Ward   \n",
              "5222  10804                              King Ralph  David S. Ward   \n",
              "433   18133                             The Program  David S. Ward   \n",
              "1135   9611  Romy and Michele's High School Reunion   David Mirkin   \n",
              "1367  24560                             Sour Grapes    Larry David   \n",
              "1535  14013                             BASEketball   David Zucker   \n",
              "3577   2171                 Wet Hot American Summer     David Wain   \n",
              "4020  31805                         Road to Morocco   David Butler   \n",
              "4494  25297                             Cannery Row  David S. Ward   \n",
              "\n",
              "                                                  actor       genres_list  \\\n",
              "3557  ['Tom Berenger', 'Charlie Sheen', 'Corbin Bern...          [Comedy]   \n",
              "6764  ['Charlie Sheen', 'Tom Berenger', 'Corbin Bern...          [Comedy]   \n",
              "5222  ['John Goodman', \"Peter O'Toole\", 'John Hurt',...  [Comedy, Family]   \n",
              "433   ['James Caan', 'Halle Berry', 'Omar Epps', 'Cr...           [Drama]   \n",
              "1135  ['Mira Sorvino', 'Lisa Kudrow', 'Janeane Garof...          [Comedy]   \n",
              "1367  ['Steven Weber', 'Craig Bierko', 'Viola Harris...          [Comedy]   \n",
              "1535  ['Trey Parker', 'Matt Stone', 'Yasmine Bleeth'...          [Comedy]   \n",
              "3577  ['Janeane Garofalo', 'David Hyde Pierce', 'Mic...          [Comedy]   \n",
              "4020  ['Bing Crosby', 'Bob Hope', 'Dorothy Lamour', ...          [Comedy]   \n",
              "4494  ['Nick Nolte', 'Debra Winger', 'Audra Lindley'...           [Drama]   \n",
              "\n",
              "                                               keywords  \n",
              "3557  ['baseball', 'sport', 'sabotage', 'sombrero', ...  \n",
              "6764   ['baseball', 'sport', 'sequel', 'sports league']  \n",
              "5222  ['love at first sight', \"love of one's life\", ...  \n",
              "433                      ['american football', 'sport']  \n",
              "1135  ['smoking', 'overweight child', 'graduation', ...  \n",
              "1367  ['greed', 'dollar', 'jackpot', 'atlantic city'...  \n",
              "1535  ['stadium', 'invention', 'sport', 'mascot', 'p...  \n",
              "3577  ['adolescence', 'summer camp', 'independent fi...  \n",
              "4020              ['morocco', 'castaway', 'road movie']  \n",
              "4494                                        ['cannery']  "
            ]
          },
          "execution_count": 114,
          "metadata": {},
          "output_type": "execute_result"
        }
      ],
      "source": [
        "get_recommendations('Down Periscope', cosine_sim)"
      ]
    },
    {
      "cell_type": "markdown",
      "metadata": {
        "id": "6Th_KqWP3i_6"
      },
      "source": [
        "## Model 3 & 4: Collaborative model and Hybrid model using LightFM"
      ]
    },
    {
      "cell_type": "code",
      "execution_count": null,
      "metadata": {
        "id": "1wfSoOJJ3i_6",
        "outputId": "89396467-194c-439d-9e49-25a53e5858d0"
      },
      "outputs": [
        {
          "data": {
            "text/html": [
              "<div>\n",
              "<style scoped>\n",
              "    .dataframe tbody tr th:only-of-type {\n",
              "        vertical-align: middle;\n",
              "    }\n",
              "\n",
              "    .dataframe tbody tr th {\n",
              "        vertical-align: top;\n",
              "    }\n",
              "\n",
              "    .dataframe thead th {\n",
              "        text-align: right;\n",
              "    }\n",
              "</style>\n",
              "<table border=\"1\" class=\"dataframe\">\n",
              "  <thead>\n",
              "    <tr style=\"text-align: right;\">\n",
              "      <th></th>\n",
              "      <th>userId</th>\n",
              "      <th>movieId</th>\n",
              "      <th>rating</th>\n",
              "      <th>timestamp</th>\n",
              "    </tr>\n",
              "  </thead>\n",
              "  <tbody>\n",
              "    <tr>\n",
              "      <th>0</th>\n",
              "      <td>1</td>\n",
              "      <td>110</td>\n",
              "      <td>1.0</td>\n",
              "      <td>1425941529</td>\n",
              "    </tr>\n",
              "    <tr>\n",
              "      <th>1</th>\n",
              "      <td>1</td>\n",
              "      <td>147</td>\n",
              "      <td>4.5</td>\n",
              "      <td>1425942435</td>\n",
              "    </tr>\n",
              "    <tr>\n",
              "      <th>2</th>\n",
              "      <td>1</td>\n",
              "      <td>858</td>\n",
              "      <td>5.0</td>\n",
              "      <td>1425941523</td>\n",
              "    </tr>\n",
              "    <tr>\n",
              "      <th>3</th>\n",
              "      <td>1</td>\n",
              "      <td>1221</td>\n",
              "      <td>5.0</td>\n",
              "      <td>1425941546</td>\n",
              "    </tr>\n",
              "    <tr>\n",
              "      <th>4</th>\n",
              "      <td>1</td>\n",
              "      <td>1246</td>\n",
              "      <td>5.0</td>\n",
              "      <td>1425941556</td>\n",
              "    </tr>\n",
              "  </tbody>\n",
              "</table>\n",
              "</div>"
            ],
            "text/plain": [
              "   userId  movieId  rating   timestamp\n",
              "0       1      110     1.0  1425941529\n",
              "1       1      147     4.5  1425942435\n",
              "2       1      858     5.0  1425941523\n",
              "3       1     1221     5.0  1425941546\n",
              "4       1     1246     5.0  1425941556"
            ]
          },
          "execution_count": 58,
          "metadata": {},
          "output_type": "execute_result"
        }
      ],
      "source": [
        "df_rating = pd.read_csv('./data/ratings.csv')\n",
        "df_rating.head()"
      ]
    },
    {
      "cell_type": "code",
      "execution_count": null,
      "metadata": {
        "id": "vC6_RvzP3i_6",
        "outputId": "9ad65577-0e7d-4a4e-940b-c6f9c26d229b"
      },
      "outputs": [
        {
          "data": {
            "text/html": [
              "<div>\n",
              "<style scoped>\n",
              "    .dataframe tbody tr th:only-of-type {\n",
              "        vertical-align: middle;\n",
              "    }\n",
              "\n",
              "    .dataframe tbody tr th {\n",
              "        vertical-align: top;\n",
              "    }\n",
              "\n",
              "    .dataframe thead th {\n",
              "        text-align: right;\n",
              "    }\n",
              "</style>\n",
              "<table border=\"1\" class=\"dataframe\">\n",
              "  <thead>\n",
              "    <tr style=\"text-align: right;\">\n",
              "      <th></th>\n",
              "      <th>user_id</th>\n",
              "      <th>movie_id</th>\n",
              "      <th>rating</th>\n",
              "    </tr>\n",
              "  </thead>\n",
              "  <tbody>\n",
              "    <tr>\n",
              "      <th>0</th>\n",
              "      <td>1</td>\n",
              "      <td>110</td>\n",
              "      <td>1.0</td>\n",
              "    </tr>\n",
              "    <tr>\n",
              "      <th>1</th>\n",
              "      <td>1</td>\n",
              "      <td>147</td>\n",
              "      <td>4.5</td>\n",
              "    </tr>\n",
              "    <tr>\n",
              "      <th>2</th>\n",
              "      <td>1</td>\n",
              "      <td>858</td>\n",
              "      <td>5.0</td>\n",
              "    </tr>\n",
              "    <tr>\n",
              "      <th>3</th>\n",
              "      <td>1</td>\n",
              "      <td>1221</td>\n",
              "      <td>5.0</td>\n",
              "    </tr>\n",
              "    <tr>\n",
              "      <th>4</th>\n",
              "      <td>1</td>\n",
              "      <td>1246</td>\n",
              "      <td>5.0</td>\n",
              "    </tr>\n",
              "  </tbody>\n",
              "</table>\n",
              "</div>"
            ],
            "text/plain": [
              "   user_id  movie_id  rating\n",
              "0        1       110     1.0\n",
              "1        1       147     4.5\n",
              "2        1       858     5.0\n",
              "3        1      1221     5.0\n",
              "4        1      1246     5.0"
            ]
          },
          "execution_count": 59,
          "metadata": {},
          "output_type": "execute_result"
        }
      ],
      "source": [
        "df_rating.drop(columns = 'timestamp', inplace=True)\n",
        "df_rating.columns = ['user_id','movie_id','rating']\n",
        "df_rating.head()"
      ]
    },
    {
      "cell_type": "code",
      "execution_count": null,
      "metadata": {
        "id": "HYE_IXGb3i_6",
        "outputId": "c74440ea-2b23-421d-ff1b-fc0bae54bb1e"
      },
      "outputs": [
        {
          "data": {
            "text/plain": [
              "(270896, 45115)"
            ]
          },
          "execution_count": 60,
          "metadata": {},
          "output_type": "execute_result"
        }
      ],
      "source": [
        "df_rating.user_id.nunique(), df_rating.movie_id.nunique()"
      ]
    },
    {
      "cell_type": "markdown",
      "metadata": {
        "id": "Abr3YHX93i_6"
      },
      "source": [
        "### Prepare movie features"
      ]
    },
    {
      "cell_type": "markdown",
      "metadata": {
        "id": "u5Z6p35W3i_6"
      },
      "source": [
        "1. Apply the same encoder that we used to split train/test data\n",
        "\n",
        "2. Columns refer to the column names of the item features (product_id excluded)\n",
        "\n",
        "3. To prepare the item_features, need to use the Dataset class in LightFM API.\n",
        "\n",
        "4. First fit the dataset instance and then call function build_item_features to generate the item features for modeling."
      ]
    },
    {
      "cell_type": "code",
      "execution_count": null,
      "metadata": {
        "id": "GRT7fsPH3i_6",
        "outputId": "c75d2b48-87c6-495a-85ff-858f4fff9f07"
      },
      "outputs": [
        {
          "data": {
            "text/html": [
              "<div>\n",
              "<style scoped>\n",
              "    .dataframe tbody tr th:only-of-type {\n",
              "        vertical-align: middle;\n",
              "    }\n",
              "\n",
              "    .dataframe tbody tr th {\n",
              "        vertical-align: top;\n",
              "    }\n",
              "\n",
              "    .dataframe thead th {\n",
              "        text-align: right;\n",
              "    }\n",
              "</style>\n",
              "<table border=\"1\" class=\"dataframe\">\n",
              "  <thead>\n",
              "    <tr style=\"text-align: right;\">\n",
              "      <th></th>\n",
              "      <th>movie_id</th>\n",
              "      <th>original_language</th>\n",
              "      <th>popularity</th>\n",
              "      <th>runtime</th>\n",
              "      <th>title</th>\n",
              "      <th>vote_average</th>\n",
              "      <th>vote_count</th>\n",
              "      <th>year</th>\n",
              "      <th>genres_list</th>\n",
              "      <th>production_companies_list</th>\n",
              "      <th>actor</th>\n",
              "      <th>director_name</th>\n",
              "      <th>keywords</th>\n",
              "    </tr>\n",
              "  </thead>\n",
              "  <tbody>\n",
              "    <tr>\n",
              "      <th>0</th>\n",
              "      <td>862</td>\n",
              "      <td>en</td>\n",
              "      <td>21.946943</td>\n",
              "      <td>81.0</td>\n",
              "      <td>Toy Story</td>\n",
              "      <td>7.7</td>\n",
              "      <td>5415.0</td>\n",
              "      <td>1995.0</td>\n",
              "      <td>['Animation', 'Comedy', 'Family']</td>\n",
              "      <td>Pixar Animation Studios</td>\n",
              "      <td>['Tom Hanks', 'Tim Allen', 'Don Rickles', 'Jim...</td>\n",
              "      <td>John Lasseter</td>\n",
              "      <td>['jealousy', 'toy', 'boy', 'friendship', 'frie...</td>\n",
              "    </tr>\n",
              "    <tr>\n",
              "      <th>1</th>\n",
              "      <td>8844</td>\n",
              "      <td>en</td>\n",
              "      <td>17.015539</td>\n",
              "      <td>104.0</td>\n",
              "      <td>Jumanji</td>\n",
              "      <td>6.9</td>\n",
              "      <td>2413.0</td>\n",
              "      <td>1995.0</td>\n",
              "      <td>['Adventure', 'Fantasy', 'Family']</td>\n",
              "      <td>TriStar Pictures Teitler Film Interscope Commu...</td>\n",
              "      <td>['Robin Williams', 'Jonathan Hyde', 'Kirsten D...</td>\n",
              "      <td>Joe Johnston</td>\n",
              "      <td>['board game', 'disappearance', \"based on chil...</td>\n",
              "    </tr>\n",
              "    <tr>\n",
              "      <th>2</th>\n",
              "      <td>15602</td>\n",
              "      <td>en</td>\n",
              "      <td>11.712900</td>\n",
              "      <td>101.0</td>\n",
              "      <td>Grumpier Old Men</td>\n",
              "      <td>6.5</td>\n",
              "      <td>92.0</td>\n",
              "      <td>1995.0</td>\n",
              "      <td>['Romance', 'Comedy']</td>\n",
              "      <td>Warner Bros. Lancaster Gate</td>\n",
              "      <td>['Walter Matthau', 'Jack Lemmon', 'Ann-Margret...</td>\n",
              "      <td>Howard Deutch</td>\n",
              "      <td>['fishing', 'best friend', 'duringcreditssting...</td>\n",
              "    </tr>\n",
              "    <tr>\n",
              "      <th>3</th>\n",
              "      <td>31357</td>\n",
              "      <td>en</td>\n",
              "      <td>3.859495</td>\n",
              "      <td>127.0</td>\n",
              "      <td>Waiting to Exhale</td>\n",
              "      <td>6.1</td>\n",
              "      <td>34.0</td>\n",
              "      <td>1995.0</td>\n",
              "      <td>['Comedy', 'Drama', 'Romance']</td>\n",
              "      <td>Twentieth Century Fox Film Corporation</td>\n",
              "      <td>['Whitney Houston', 'Angela Bassett', 'Loretta...</td>\n",
              "      <td>Forest Whitaker</td>\n",
              "      <td>['based on novel', 'interracial relationship',...</td>\n",
              "    </tr>\n",
              "    <tr>\n",
              "      <th>4</th>\n",
              "      <td>11862</td>\n",
              "      <td>en</td>\n",
              "      <td>8.387519</td>\n",
              "      <td>106.0</td>\n",
              "      <td>Father of the Bride Part II</td>\n",
              "      <td>5.7</td>\n",
              "      <td>173.0</td>\n",
              "      <td>1995.0</td>\n",
              "      <td>['Comedy']</td>\n",
              "      <td>Sandollar Productions Touchstone Pictures</td>\n",
              "      <td>['Steve Martin', 'Diane Keaton', 'Martin Short...</td>\n",
              "      <td>Charles Shyer</td>\n",
              "      <td>['baby', 'midlife crisis', 'confidence', 'agin...</td>\n",
              "    </tr>\n",
              "    <tr>\n",
              "      <th>...</th>\n",
              "      <td>...</td>\n",
              "      <td>...</td>\n",
              "      <td>...</td>\n",
              "      <td>...</td>\n",
              "      <td>...</td>\n",
              "      <td>...</td>\n",
              "      <td>...</td>\n",
              "      <td>...</td>\n",
              "      <td>...</td>\n",
              "      <td>...</td>\n",
              "      <td>...</td>\n",
              "      <td>...</td>\n",
              "      <td>...</td>\n",
              "    </tr>\n",
              "    <tr>\n",
              "      <th>22452</th>\n",
              "      <td>84419</td>\n",
              "      <td>en</td>\n",
              "      <td>0.222814</td>\n",
              "      <td>65.0</td>\n",
              "      <td>House of Horrors</td>\n",
              "      <td>6.3</td>\n",
              "      <td>8.0</td>\n",
              "      <td>1946.0</td>\n",
              "      <td>['Horror', 'Mystery', 'Thriller']</td>\n",
              "      <td>Universal Pictures</td>\n",
              "      <td>['Rondo Hatton', 'Robert Lowery', 'Virginia Gr...</td>\n",
              "      <td>Jean Yarbrough</td>\n",
              "      <td>['revenge', 'murder', 'serial killer', 'new yo...</td>\n",
              "    </tr>\n",
              "    <tr>\n",
              "      <th>22453</th>\n",
              "      <td>289923</td>\n",
              "      <td>en</td>\n",
              "      <td>0.386450</td>\n",
              "      <td>30.0</td>\n",
              "      <td>The Burkittsville 7</td>\n",
              "      <td>7.0</td>\n",
              "      <td>1.0</td>\n",
              "      <td>2000.0</td>\n",
              "      <td>['Horror']</td>\n",
              "      <td>Neptune Salad Entertainment Pirie Productions</td>\n",
              "      <td>['Monty Bane', 'Lucy Butler', 'David Grammer',...</td>\n",
              "      <td>Ben Rock</td>\n",
              "      <td>['witch', 'mythology', 'legend', 'serial kille...</td>\n",
              "    </tr>\n",
              "    <tr>\n",
              "      <th>22454</th>\n",
              "      <td>222848</td>\n",
              "      <td>en</td>\n",
              "      <td>0.661558</td>\n",
              "      <td>85.0</td>\n",
              "      <td>Caged Heat 3000</td>\n",
              "      <td>3.5</td>\n",
              "      <td>1.0</td>\n",
              "      <td>1995.0</td>\n",
              "      <td>['Science Fiction']</td>\n",
              "      <td>Concorde-New Horizons</td>\n",
              "      <td>['Lisa Boyle', 'Kena Land', 'Zaneta Polard', '...</td>\n",
              "      <td>Aaron Osborne</td>\n",
              "      <td>[]</td>\n",
              "    </tr>\n",
              "    <tr>\n",
              "      <th>22455</th>\n",
              "      <td>30840</td>\n",
              "      <td>en</td>\n",
              "      <td>5.683753</td>\n",
              "      <td>104.0</td>\n",
              "      <td>Robin Hood</td>\n",
              "      <td>5.7</td>\n",
              "      <td>26.0</td>\n",
              "      <td>1991.0</td>\n",
              "      <td>['Drama', 'Action', 'Romance']</td>\n",
              "      <td>Westdeutscher Rundfunk (WDR) Working Title Fil...</td>\n",
              "      <td>['Patrick Bergin', 'Uma Thurman', 'David Morri...</td>\n",
              "      <td>John Irvin</td>\n",
              "      <td>[]</td>\n",
              "    </tr>\n",
              "    <tr>\n",
              "      <th>22456</th>\n",
              "      <td>67758</td>\n",
              "      <td>en</td>\n",
              "      <td>0.903007</td>\n",
              "      <td>90.0</td>\n",
              "      <td>Betrayal</td>\n",
              "      <td>3.8</td>\n",
              "      <td>6.0</td>\n",
              "      <td>2003.0</td>\n",
              "      <td>['Action', 'Drama', 'Thriller']</td>\n",
              "      <td>American World Pictures</td>\n",
              "      <td>['Erika Eleniak', 'Adam Baldwin', 'Julie du Pa...</td>\n",
              "      <td>Mark L. Lester</td>\n",
              "      <td>[]</td>\n",
              "    </tr>\n",
              "  </tbody>\n",
              "</table>\n",
              "<p>22457 rows × 13 columns</p>\n",
              "</div>"
            ],
            "text/plain": [
              "       movie_id original_language  popularity  runtime  \\\n",
              "0           862                en   21.946943     81.0   \n",
              "1          8844                en   17.015539    104.0   \n",
              "2         15602                en   11.712900    101.0   \n",
              "3         31357                en    3.859495    127.0   \n",
              "4         11862                en    8.387519    106.0   \n",
              "...         ...               ...         ...      ...   \n",
              "22452     84419                en    0.222814     65.0   \n",
              "22453    289923                en    0.386450     30.0   \n",
              "22454    222848                en    0.661558     85.0   \n",
              "22455     30840                en    5.683753    104.0   \n",
              "22456     67758                en    0.903007     90.0   \n",
              "\n",
              "                             title  vote_average  vote_count    year  \\\n",
              "0                        Toy Story           7.7      5415.0  1995.0   \n",
              "1                          Jumanji           6.9      2413.0  1995.0   \n",
              "2                 Grumpier Old Men           6.5        92.0  1995.0   \n",
              "3                Waiting to Exhale           6.1        34.0  1995.0   \n",
              "4      Father of the Bride Part II           5.7       173.0  1995.0   \n",
              "...                            ...           ...         ...     ...   \n",
              "22452             House of Horrors           6.3         8.0  1946.0   \n",
              "22453          The Burkittsville 7           7.0         1.0  2000.0   \n",
              "22454              Caged Heat 3000           3.5         1.0  1995.0   \n",
              "22455                   Robin Hood           5.7        26.0  1991.0   \n",
              "22456                     Betrayal           3.8         6.0  2003.0   \n",
              "\n",
              "                              genres_list  \\\n",
              "0       ['Animation', 'Comedy', 'Family']   \n",
              "1      ['Adventure', 'Fantasy', 'Family']   \n",
              "2                   ['Romance', 'Comedy']   \n",
              "3          ['Comedy', 'Drama', 'Romance']   \n",
              "4                              ['Comedy']   \n",
              "...                                   ...   \n",
              "22452   ['Horror', 'Mystery', 'Thriller']   \n",
              "22453                          ['Horror']   \n",
              "22454                 ['Science Fiction']   \n",
              "22455      ['Drama', 'Action', 'Romance']   \n",
              "22456     ['Action', 'Drama', 'Thriller']   \n",
              "\n",
              "                               production_companies_list  \\\n",
              "0                                Pixar Animation Studios   \n",
              "1      TriStar Pictures Teitler Film Interscope Commu...   \n",
              "2                            Warner Bros. Lancaster Gate   \n",
              "3                 Twentieth Century Fox Film Corporation   \n",
              "4              Sandollar Productions Touchstone Pictures   \n",
              "...                                                  ...   \n",
              "22452                                 Universal Pictures   \n",
              "22453      Neptune Salad Entertainment Pirie Productions   \n",
              "22454                              Concorde-New Horizons   \n",
              "22455  Westdeutscher Rundfunk (WDR) Working Title Fil...   \n",
              "22456                            American World Pictures   \n",
              "\n",
              "                                                   actor    director_name  \\\n",
              "0      ['Tom Hanks', 'Tim Allen', 'Don Rickles', 'Jim...    John Lasseter   \n",
              "1      ['Robin Williams', 'Jonathan Hyde', 'Kirsten D...     Joe Johnston   \n",
              "2      ['Walter Matthau', 'Jack Lemmon', 'Ann-Margret...    Howard Deutch   \n",
              "3      ['Whitney Houston', 'Angela Bassett', 'Loretta...  Forest Whitaker   \n",
              "4      ['Steve Martin', 'Diane Keaton', 'Martin Short...    Charles Shyer   \n",
              "...                                                  ...              ...   \n",
              "22452  ['Rondo Hatton', 'Robert Lowery', 'Virginia Gr...   Jean Yarbrough   \n",
              "22453  ['Monty Bane', 'Lucy Butler', 'David Grammer',...         Ben Rock   \n",
              "22454  ['Lisa Boyle', 'Kena Land', 'Zaneta Polard', '...    Aaron Osborne   \n",
              "22455  ['Patrick Bergin', 'Uma Thurman', 'David Morri...       John Irvin   \n",
              "22456  ['Erika Eleniak', 'Adam Baldwin', 'Julie du Pa...   Mark L. Lester   \n",
              "\n",
              "                                                keywords  \n",
              "0      ['jealousy', 'toy', 'boy', 'friendship', 'frie...  \n",
              "1      ['board game', 'disappearance', \"based on chil...  \n",
              "2      ['fishing', 'best friend', 'duringcreditssting...  \n",
              "3      ['based on novel', 'interracial relationship',...  \n",
              "4      ['baby', 'midlife crisis', 'confidence', 'agin...  \n",
              "...                                                  ...  \n",
              "22452  ['revenge', 'murder', 'serial killer', 'new yo...  \n",
              "22453  ['witch', 'mythology', 'legend', 'serial kille...  \n",
              "22454                                                 []  \n",
              "22455                                                 []  \n",
              "22456                                                 []  \n",
              "\n",
              "[22457 rows x 13 columns]"
            ]
          },
          "execution_count": 61,
          "metadata": {},
          "output_type": "execute_result"
        }
      ],
      "source": [
        "# df_movie_features = pd.read_csv('./data/data.csv', encoding='utf_8')\n",
        "df_movie_features = pd.read_csv('./data/data_movies_features.csv', encoding='utf_8')\n",
        "df_movie_features.rename(columns = {'id':'movie_id'}, inplace=True)\n",
        "df_movie_features"
      ]
    },
    {
      "cell_type": "code",
      "execution_count": null,
      "metadata": {
        "id": "iBcwVhq93i_7"
      },
      "outputs": [],
      "source": [
        "all_movie_ids = __builtins__.list(set(df_rating['movie_id']))\n",
        "\n",
        "df_movie_features['movie_id'] = df_movie_features['movie_id'].apply(lambda x: 'other' if x not in all_movie_ids else x)\n",
        "df_movie_features = df_movie_features[df_movie_features['movie_id'] != 'other']"
      ]
    },
    {
      "cell_type": "code",
      "execution_count": null,
      "metadata": {
        "id": "60hjqHSs3i_7",
        "outputId": "a0339aa4-957d-408f-921e-efdcb47840bb"
      },
      "outputs": [
        {
          "data": {
            "text/plain": [
              "False"
            ]
          },
          "execution_count": 63,
          "metadata": {},
          "output_type": "execute_result"
        }
      ],
      "source": [
        "len(__builtins__.list(set(df_movie_features['movie_id']))) == len(__builtins__.list(set(df_rating['movie_id'])))"
      ]
    },
    {
      "cell_type": "code",
      "execution_count": null,
      "metadata": {
        "id": "VRe-2ytS3i_7"
      },
      "outputs": [],
      "source": [
        "all_movie_ids_features = __builtins__.list(set(df_movie_features['movie_id']))\n",
        "\n",
        "df_rating['movie_id'] = df_rating['movie_id'].apply(lambda x: 'other' if x not in all_movie_ids_features else x)\n",
        "df_rating = df_rating[df_rating['movie_id'] != 'other']"
      ]
    },
    {
      "cell_type": "code",
      "execution_count": null,
      "metadata": {
        "id": "Onhe0J9F3i_7",
        "outputId": "4f86bcd0-88df-415e-c0d7-6cb75e9e7b7e"
      },
      "outputs": [
        {
          "data": {
            "text/plain": [
              "True"
            ]
          },
          "execution_count": 65,
          "metadata": {},
          "output_type": "execute_result"
        }
      ],
      "source": [
        "len(__builtins__.list(set(df_movie_features['movie_id']))) == len(__builtins__.list(set(df_rating['movie_id'])))"
      ]
    },
    {
      "cell_type": "code",
      "execution_count": null,
      "metadata": {
        "id": "rRWYEWva3i_7",
        "outputId": "a5856f1c-b9d5-4882-9768-b0dfaafc9083"
      },
      "outputs": [
        {
          "name": "stdout",
          "output_type": "stream",
          "text": [
            "{\n",
            "    \"user_id\": 1,\n",
            "    \"movie_id\": 858,\n",
            "    \"rating\": 5.0\n",
            "}\n",
            "{\n",
            "    \"user_id\": 1,\n",
            "    \"movie_id\": 1246,\n",
            "    \"rating\": 5.0\n",
            "}\n"
          ]
        }
      ],
      "source": [
        "ratings = df_rating.to_dict('records')\n",
        "\n",
        "for line in islice(ratings, 2):\n",
        "    print(json.dumps(line, indent=4))"
      ]
    },
    {
      "cell_type": "markdown",
      "metadata": {
        "id": "o1tSgC8D3i_8"
      },
      "source": [
        "### Building the ID mapping"
      ]
    },
    {
      "cell_type": "markdown",
      "metadata": {
        "id": "nbyI_YkM3i_8"
      },
      "source": [
        "#### CF model"
      ]
    },
    {
      "cell_type": "code",
      "execution_count": null,
      "metadata": {
        "id": "SvOqQMrw3i_8",
        "outputId": "07ddbdfb-4482-4209-ff08-eb0c0e8ee747"
      },
      "outputs": [
        {
          "name": "stdout",
          "output_type": "stream",
          "text": [
            "Num users: 261810, num_movies: 4125.\n"
          ]
        }
      ],
      "source": [
        "# the Dataset class in LightFM API\n",
        "dataset = Dataset()\n",
        "\n",
        "# Fit the dataset instance\n",
        "dataset.fit((x['user_id'] for x in ratings), (x['movie_id'] for x in ratings))\n",
        "\n",
        "# quick check to determine the number of unique users and items in the data\n",
        "num_users, num_movies = dataset.interactions_shape()\n",
        "print(f'Num users: {num_users}, num_movies: {num_movies}.')"
      ]
    },
    {
      "cell_type": "markdown",
      "metadata": {
        "id": "Ljd2XSOn3i_8"
      },
      "source": [
        "#### Hybrid model"
      ]
    },
    {
      "cell_type": "markdown",
      "metadata": {
        "id": "-_d9Mp0I3i_8"
      },
      "source": [
        "1. Columns refer to the column names of the item features used to fit model (movies_id excluded)\n",
        "\n",
        "2. To prepare the item_features, need to use the Dataset class in LightFM API.\n",
        "\n",
        "3. First fit the dataset instance and then call function build_item_features to generate the item features for modeling."
      ]
    },
    {
      "cell_type": "code",
      "execution_count": null,
      "metadata": {
        "id": "6yC0DOCl3i_8"
      },
      "outputs": [],
      "source": [
        "def generate_feature_list(df, columns):\n",
        "    '''\n",
        "    Generate the list of features of corresponding columns to list\n",
        "    In order to fit the lightfm Dataset\n",
        "    '''\n",
        "    features = df[columns].apply(lambda x: ','.join(x.map(str)), axis = 1)\n",
        "    features = features.str.split(',')\n",
        "    features = features.apply(pd.Series).stack().reset_index(drop = True)\n",
        "    return features\n",
        "\n",
        "def prepare_item_features(df, columns, id_col_name):\n",
        "    '''\n",
        "    Prepare the corresponding feature formats for\n",
        "    the lightfm.dataset's build_item_features function\n",
        "    '''\n",
        "    features = df[columns].apply(lambda x: ','.join(x.map(str)), axis = 1)\n",
        "    features = features.str.split(',')\n",
        "    features = __builtins__.list(zip(df[id_col_name], features))\n",
        "    return features"
      ]
    },
    {
      "cell_type": "code",
      "execution_count": null,
      "metadata": {
        "id": "uvZjeifI3i_8"
      },
      "outputs": [],
      "source": [
        "# Retrieve column names of the item features used to fit model (movies_id excluded)\n",
        "columns = df_movie_features.columns.to_list()\n",
        "columns.remove('movie_id')"
      ]
    },
    {
      "cell_type": "code",
      "execution_count": null,
      "metadata": {
        "id": "-hHz3OND3i_8"
      },
      "outputs": [],
      "source": [
        "# the Dataset class in LightFM API\n",
        "dataset2 = Dataset()\n",
        "\n",
        "fitting_item_features = generate_feature_list(df_movie_features, columns)\n",
        "lightfm_features = prepare_item_features(df_movie_features, columns, 'movie_id')\n",
        "\n",
        "# Fit the dataset instance\n",
        "dataset2.fit((x['user_id'] for x in ratings), (x['movie_id'] for x in ratings), item_features = fitting_item_features)\n",
        "\n",
        "# Call function build_item_features to generate the item features for modeling\n",
        "item_features = dataset2.build_item_features(lightfm_features, normalize = True)"
      ]
    },
    {
      "cell_type": "markdown",
      "metadata": {
        "id": "g27Oztyz3i_9"
      },
      "source": [
        "### Building the Interaction matrix"
      ]
    },
    {
      "cell_type": "markdown",
      "metadata": {
        "id": "MeC9LcSq3jAC"
      },
      "source": [
        "#### CF model"
      ]
    },
    {
      "cell_type": "markdown",
      "metadata": {
        "id": "q1CfRXZM3jAC"
      },
      "source": [
        "The build_interactions method returns 2 COO sparse matrices, namely the interactions and weights matrices."
      ]
    },
    {
      "cell_type": "code",
      "execution_count": null,
      "metadata": {
        "id": "n3uEHCxl3jAC",
        "outputId": "21378c03-fd4f-4660-b824-0883aeb31f44"
      },
      "outputs": [
        {
          "name": "stdout",
          "output_type": "stream",
          "text": [
            "<261810x4125 sparse matrix of type '<class 'numpy.int32'>'\n",
            "\twith 8058110 stored elements in COOrdinate format>\n"
          ]
        }
      ],
      "source": [
        "(interactions, weights) = dataset.build_interactions(((x['user_id'], x['movie_id'], x['rating']) for x in ratings))\n",
        "\n",
        "print(repr(interactions))"
      ]
    },
    {
      "cell_type": "markdown",
      "metadata": {
        "id": "zXfXm4oU3jAC"
      },
      "source": [
        "Split train - test set"
      ]
    },
    {
      "cell_type": "code",
      "execution_count": null,
      "metadata": {
        "id": "G4EG4q6e3jAC"
      },
      "outputs": [],
      "source": [
        "train_interactions, test_interactions = cross_validation.random_train_test_split(\n",
        "    weights, test_percentage=0.2,\n",
        "    random_state=np.random.RandomState(42))"
      ]
    },
    {
      "cell_type": "code",
      "execution_count": null,
      "metadata": {
        "id": "jqVrIOHt3jAD",
        "outputId": "823ebb91-58bc-4d55-94bd-48125b3bd8a3"
      },
      "outputs": [
        {
          "name": "stdout",
          "output_type": "stream",
          "text": [
            "Shape of train interactions: (261810, 4125)\n",
            "Shape of test interactions: (261810, 4125)\n"
          ]
        }
      ],
      "source": [
        "print(f\"Shape of train interactions: {train_interactions.shape}\")\n",
        "print(f\"Shape of test interactions: {test_interactions.shape}\")"
      ]
    },
    {
      "cell_type": "markdown",
      "metadata": {
        "id": "TcrOV3nj3jAD"
      },
      "source": [
        "#### Hybrid model"
      ]
    },
    {
      "cell_type": "code",
      "execution_count": null,
      "metadata": {
        "id": "BP8lmRsB3jAD",
        "outputId": "13127f80-cb66-452d-81bd-0a523864b9dc"
      },
      "outputs": [
        {
          "name": "stdout",
          "output_type": "stream",
          "text": [
            "<261810x4125 sparse matrix of type '<class 'numpy.int32'>'\n",
            "\twith 8058110 stored elements in COOrdinate format>\n"
          ]
        }
      ],
      "source": [
        "(interactions2, weights2) = dataset2.build_interactions(((x['user_id'], x['movie_id'], x['rating']) for x in ratings))\n",
        "\n",
        "print(repr(interactions2))"
      ]
    },
    {
      "cell_type": "code",
      "execution_count": null,
      "metadata": {
        "id": "89igH_mT3jAD"
      },
      "outputs": [],
      "source": [
        "train_interactions2, test_interactions2 = cross_validation.random_train_test_split(\n",
        "    weights2, test_percentage=0.2,\n",
        "    random_state=np.random.RandomState(42))"
      ]
    },
    {
      "cell_type": "code",
      "execution_count": null,
      "metadata": {
        "id": "NHuWSOMN3jAD",
        "outputId": "12b7ac85-e4d5-4dd6-dbfb-33866e8fe405"
      },
      "outputs": [
        {
          "name": "stdout",
          "output_type": "stream",
          "text": [
            "Shape of train interactions: (261810, 4125)\n",
            "Shape of test interactions: (261810, 4125)\n"
          ]
        }
      ],
      "source": [
        "print(f\"Shape of train interactions: {train_interactions2.shape}\")\n",
        "print(f\"Shape of test interactions: {test_interactions2.shape}\")"
      ]
    },
    {
      "cell_type": "markdown",
      "metadata": {
        "id": "3HyT4i3a3jAE"
      },
      "source": [
        "### Building model"
      ]
    },
    {
      "cell_type": "markdown",
      "metadata": {
        "id": "1VcWc1KI3jAE"
      },
      "source": [
        "#### CF model"
      ]
    },
    {
      "cell_type": "code",
      "execution_count": null,
      "metadata": {
        "id": "01TEAYsh3jAE",
        "outputId": "c17059e5-563c-4642-e8b1-7e22b2303191"
      },
      "outputs": [
        {
          "data": {
            "text/plain": [
              "<lightfm.lightfm.LightFM at 0x4b95a2dd0>"
            ]
          },
          "execution_count": 77,
          "metadata": {},
          "output_type": "execute_result"
        }
      ],
      "source": [
        "model_cf = LightFM(loss = 'warp',\n",
        "                   no_components = 160,\n",
        "                   item_alpha = 1e-7,\n",
        "                   learning_rate = 0.02,\n",
        "                   max_sampled = 50)\n",
        "\n",
        "model_cf.fit(interactions=train_interactions, epochs = 20, num_threads = 4)"
      ]
    },
    {
      "cell_type": "markdown",
      "metadata": {
        "id": "ajaK14aO3jAE"
      },
      "source": [
        "#### Hybrid model"
      ]
    },
    {
      "cell_type": "code",
      "execution_count": null,
      "metadata": {
        "id": "PXDqa1qm3jAE",
        "outputId": "cea3d595-996b-4905-930c-4d6f30a10728"
      },
      "outputs": [
        {
          "data": {
            "text/plain": [
              "<lightfm.lightfm.LightFM at 0x4b95a2380>"
            ]
          },
          "execution_count": 78,
          "metadata": {},
          "output_type": "execute_result"
        }
      ],
      "source": [
        "model_hybrid = LightFM(loss = 'warp',\n",
        "                no_components = 160,\n",
        "                item_alpha = 1e-7,\n",
        "                learning_rate = 0.02,\n",
        "                max_sampled = 50)\n",
        "\n",
        "model_hybrid.fit(interactions=train_interactions2, item_features = item_features, epochs = 50, num_threads = 4)"
      ]
    },
    {
      "cell_type": "markdown",
      "metadata": {
        "id": "T624q-o23jAE"
      },
      "source": [
        "### Evaluation"
      ]
    },
    {
      "cell_type": "markdown",
      "metadata": {
        "id": "6BULURwm3jAF"
      },
      "source": [
        "#### CF model"
      ]
    },
    {
      "cell_type": "code",
      "execution_count": null,
      "metadata": {
        "id": "zQSJajwI3jAF"
      },
      "outputs": [],
      "source": [
        "df_result = pd.DataFrame(columns = ['Method', 'Evaluation Metric', 'Train', 'Test'])\n",
        "\n",
        "auc_train = auc_score(model_cf, train_interactions).mean()\n",
        "auc_test = auc_score(model_cf, test_interactions).mean()\n",
        "\n",
        "precision_train = precision_at_k(model_cf, train_interactions, k = 10).mean()\n",
        "precision_test = precision_at_k(model_cf, test_interactions, k = 10).mean()\n",
        "\n",
        "df_result = df_result.append(pd.DataFrame([['CF', 'AUC', auc_train, auc_test],\n",
        "                                           ['CF', 'Precision@10', precision_train, precision_test]],\n",
        "                                          columns = df_result.columns))"
      ]
    },
    {
      "cell_type": "code",
      "execution_count": null,
      "metadata": {
        "id": "v_MjVSme3jAF",
        "outputId": "f6e42180-6570-4851-bb9e-ae67dcd0dae3"
      },
      "outputs": [
        {
          "data": {
            "text/html": [
              "<div>\n",
              "<style scoped>\n",
              "    .dataframe tbody tr th:only-of-type {\n",
              "        vertical-align: middle;\n",
              "    }\n",
              "\n",
              "    .dataframe tbody tr th {\n",
              "        vertical-align: top;\n",
              "    }\n",
              "\n",
              "    .dataframe thead th {\n",
              "        text-align: right;\n",
              "    }\n",
              "</style>\n",
              "<table border=\"1\" class=\"dataframe\">\n",
              "  <thead>\n",
              "    <tr style=\"text-align: right;\">\n",
              "      <th></th>\n",
              "      <th>Method</th>\n",
              "      <th>Evaluation Metric</th>\n",
              "      <th>Train</th>\n",
              "      <th>Test</th>\n",
              "    </tr>\n",
              "  </thead>\n",
              "  <tbody>\n",
              "    <tr>\n",
              "      <th>0</th>\n",
              "      <td>CF</td>\n",
              "      <td>AUC</td>\n",
              "      <td>0.994330</td>\n",
              "      <td>0.962841</td>\n",
              "    </tr>\n",
              "    <tr>\n",
              "      <th>1</th>\n",
              "      <td>CF</td>\n",
              "      <td>Precision@10</td>\n",
              "      <td>0.594967</td>\n",
              "      <td>0.049118</td>\n",
              "    </tr>\n",
              "  </tbody>\n",
              "</table>\n",
              "</div>"
            ],
            "text/plain": [
              "  Method Evaluation Metric     Train      Test\n",
              "0     CF               AUC  0.994330  0.962841\n",
              "1     CF      Precision@10  0.594967  0.049118"
            ]
          },
          "execution_count": 80,
          "metadata": {},
          "output_type": "execute_result"
        }
      ],
      "source": [
        "df_result"
      ]
    },
    {
      "cell_type": "markdown",
      "metadata": {
        "id": "_0iuROfU3jAF"
      },
      "source": [
        "#### Hybrid model"
      ]
    },
    {
      "cell_type": "code",
      "execution_count": null,
      "metadata": {
        "id": "T6qcLPso3jAF"
      },
      "outputs": [],
      "source": [
        "auc_train = auc_score(model_hybrid, train_interactions2, item_features = item_features).mean()\n",
        "auc_test = auc_score(model_hybrid, test_interactions2, item_features = item_features).mean()\n",
        "\n",
        "precision_train = precision_at_k(model_hybrid, train_interactions2, item_features = item_features, k = 10).mean()\n",
        "precision_test = precision_at_k(model_hybrid, test_interactions2, item_features = item_features, k = 10).mean()\n",
        "\n",
        "df_result = df_result.append(pd.DataFrame([['Hybrid', 'AUC', auc_train, auc_test],\n",
        "                                           ['Hybrid', 'Precision@10', precision_train, precision_test]],\n",
        "                                          columns = df_result.columns))"
      ]
    },
    {
      "cell_type": "code",
      "execution_count": null,
      "metadata": {
        "id": "UyUng7w23jAF",
        "outputId": "a395fa31-adff-41d5-c24d-1bc1dd6b6df7"
      },
      "outputs": [
        {
          "data": {
            "text/html": [
              "<div>\n",
              "<style scoped>\n",
              "    .dataframe tbody tr th:only-of-type {\n",
              "        vertical-align: middle;\n",
              "    }\n",
              "\n",
              "    .dataframe tbody tr th {\n",
              "        vertical-align: top;\n",
              "    }\n",
              "\n",
              "    .dataframe thead th {\n",
              "        text-align: right;\n",
              "    }\n",
              "</style>\n",
              "<table border=\"1\" class=\"dataframe\">\n",
              "  <thead>\n",
              "    <tr style=\"text-align: right;\">\n",
              "      <th></th>\n",
              "      <th>Method</th>\n",
              "      <th>Evaluation Metric</th>\n",
              "      <th>Train</th>\n",
              "      <th>Test</th>\n",
              "    </tr>\n",
              "  </thead>\n",
              "  <tbody>\n",
              "    <tr>\n",
              "      <th>0</th>\n",
              "      <td>CF</td>\n",
              "      <td>AUC</td>\n",
              "      <td>0.994330</td>\n",
              "      <td>0.962841</td>\n",
              "    </tr>\n",
              "    <tr>\n",
              "      <th>1</th>\n",
              "      <td>CF</td>\n",
              "      <td>Precision@10</td>\n",
              "      <td>0.594967</td>\n",
              "      <td>0.049118</td>\n",
              "    </tr>\n",
              "    <tr>\n",
              "      <th>0</th>\n",
              "      <td>Hybrid</td>\n",
              "      <td>AUC</td>\n",
              "      <td>0.994585</td>\n",
              "      <td>0.961460</td>\n",
              "    </tr>\n",
              "    <tr>\n",
              "      <th>1</th>\n",
              "      <td>Hybrid</td>\n",
              "      <td>Precision@10</td>\n",
              "      <td>0.599013</td>\n",
              "      <td>0.046722</td>\n",
              "    </tr>\n",
              "  </tbody>\n",
              "</table>\n",
              "</div>"
            ],
            "text/plain": [
              "   Method Evaluation Metric     Train      Test\n",
              "0      CF               AUC  0.994330  0.962841\n",
              "1      CF      Precision@10  0.594967  0.049118\n",
              "0  Hybrid               AUC  0.994585  0.961460\n",
              "1  Hybrid      Precision@10  0.599013  0.046722"
            ]
          },
          "execution_count": 82,
          "metadata": {},
          "output_type": "execute_result"
        }
      ],
      "source": [
        "df_result"
      ]
    },
    {
      "cell_type": "markdown",
      "metadata": {
        "id": "P032OfLy3jAF"
      },
      "source": [
        "### Recommendation"
      ]
    },
    {
      "cell_type": "code",
      "execution_count": null,
      "metadata": {
        "id": "8X7VZtAP3jAG"
      },
      "outputs": [],
      "source": [
        "def get_positive_movie_id(weighted_interactions, user_id, movie_id_mapping):\n",
        "    # list is a np.array which save IDs of books that user, whose id is user_id, rated greater than or equal to 4 stars\n",
        "    list = []\n",
        "    for i in weighted_interactions.tocsr()[user_id].indices:\n",
        "        if weighted_interactions.tocsr()[user_id, i] >= 4:\n",
        "            list.append(movie_id_mapping[i])\n",
        "\n",
        "    return np.array(list)\n",
        "\n",
        "# these are users we want to generate recommendations for\n",
        "def sample_recommendation(model, weighted_interactions, dataset, user_ids, items_data):\n",
        "\n",
        "    # number of users and books in data\n",
        "    n_users, n_items = weighted_interactions.shape\n",
        "    items_data.set_index(['movie_id'], inplace=True)\n",
        "\n",
        "    # generate recommendations for each user we input\n",
        "    for user_id in user_ids:\n",
        "\n",
        "        # considers ratings that are 5 'positive' and ratings that are 4 or below 'negative'\n",
        "        # to make the problem binary -> much simple\n",
        "\n",
        "        # In this dictionary, the Values are the internal indices and the Keys are external ids.\n",
        "        movie_id_mapping = dataset.mapping()[2]\n",
        "        # Invert these to map internal indices to external ids.\n",
        "        inv_movie_id_mapping = {v: k for k, v in movie_id_mapping.items()}\n",
        "\n",
        "        # books they already like\n",
        "        known_positives = get_positive_movie_id(weighted_interactions, user_id, inv_movie_id_mapping)\n",
        "\n",
        "        # books our model predicts they will like\n",
        "        user_x = dataset.mapping()[0][user_id]\n",
        "        scores = model.predict(user_x, np.arange(n_items))\n",
        "        # np.argsort(-score) rank them in order of most like to least\n",
        "        # mapping internal indices to external ids of top_items\n",
        "        top_recommendations = np.array([inv_movie_id_mapping[i] for i in np.argsort(-scores)])\n",
        "\n",
        "        # print out the results\n",
        "        print(\"User %s --------------------------------------- \\n\" % user_id)\n",
        "\n",
        "        print(\"    Known positives:\")\n",
        "        display(items_data.loc[known_positives[:3]])\n",
        "\n",
        "        print(\"    Recommended:\")\n",
        "        display(items_data.loc[top_recommendations[:3]])"
      ]
    },
    {
      "cell_type": "markdown",
      "metadata": {
        "id": "fpw6n-2b3jAG"
      },
      "source": [
        "#### CF model"
      ]
    },
    {
      "cell_type": "code",
      "execution_count": null,
      "metadata": {
        "id": "ZBGvep4E3jAG",
        "outputId": "ca9ed6d5-8f0a-42aa-a935-7bb3fc2bb5b4"
      },
      "outputs": [
        {
          "name": "stdout",
          "output_type": "stream",
          "text": [
            "User 5 --------------------------------------- \n",
            "\n",
            "    Known positives:\n"
          ]
        },
        {
          "data": {
            "text/html": [
              "<div>\n",
              "<style scoped>\n",
              "    .dataframe tbody tr th:only-of-type {\n",
              "        vertical-align: middle;\n",
              "    }\n",
              "\n",
              "    .dataframe tbody tr th {\n",
              "        vertical-align: top;\n",
              "    }\n",
              "\n",
              "    .dataframe thead th {\n",
              "        text-align: right;\n",
              "    }\n",
              "</style>\n",
              "<table border=\"1\" class=\"dataframe\">\n",
              "  <thead>\n",
              "    <tr style=\"text-align: right;\">\n",
              "      <th></th>\n",
              "      <th>title</th>\n",
              "      <th>year</th>\n",
              "      <th>director_name</th>\n",
              "    </tr>\n",
              "    <tr>\n",
              "      <th>movie_id</th>\n",
              "      <th></th>\n",
              "      <th></th>\n",
              "      <th></th>\n",
              "    </tr>\n",
              "  </thead>\n",
              "  <tbody>\n",
              "    <tr>\n",
              "      <th>2565</th>\n",
              "      <td>Joe Versus the Volcano</td>\n",
              "      <td>1990.0</td>\n",
              "      <td>John Patrick Shanley</td>\n",
              "    </tr>\n",
              "  </tbody>\n",
              "</table>\n",
              "</div>"
            ],
            "text/plain": [
              "                           title    year         director_name\n",
              "movie_id                                                      \n",
              "2565      Joe Versus the Volcano  1990.0  John Patrick Shanley"
            ]
          },
          "metadata": {},
          "output_type": "display_data"
        },
        {
          "name": "stdout",
          "output_type": "stream",
          "text": [
            "    Recommended:\n"
          ]
        },
        {
          "data": {
            "text/html": [
              "<div>\n",
              "<style scoped>\n",
              "    .dataframe tbody tr th:only-of-type {\n",
              "        vertical-align: middle;\n",
              "    }\n",
              "\n",
              "    .dataframe tbody tr th {\n",
              "        vertical-align: top;\n",
              "    }\n",
              "\n",
              "    .dataframe thead th {\n",
              "        text-align: right;\n",
              "    }\n",
              "</style>\n",
              "<table border=\"1\" class=\"dataframe\">\n",
              "  <thead>\n",
              "    <tr style=\"text-align: right;\">\n",
              "      <th></th>\n",
              "      <th>title</th>\n",
              "      <th>year</th>\n",
              "      <th>director_name</th>\n",
              "    </tr>\n",
              "    <tr>\n",
              "      <th>movie_id</th>\n",
              "      <th></th>\n",
              "      <th></th>\n",
              "      <th></th>\n",
              "    </tr>\n",
              "  </thead>\n",
              "  <tbody>\n",
              "    <tr>\n",
              "      <th>541</th>\n",
              "      <td>The Man with the Golden Arm</td>\n",
              "      <td>1955.0</td>\n",
              "      <td>Otto Preminger</td>\n",
              "    </tr>\n",
              "    <tr>\n",
              "      <th>750</th>\n",
              "      <td>Murder She Said</td>\n",
              "      <td>1961.0</td>\n",
              "      <td>George Pollock</td>\n",
              "    </tr>\n",
              "    <tr>\n",
              "      <th>3114</th>\n",
              "      <td>The Searchers</td>\n",
              "      <td>1956.0</td>\n",
              "      <td>John Ford</td>\n",
              "    </tr>\n",
              "  </tbody>\n",
              "</table>\n",
              "</div>"
            ],
            "text/plain": [
              "                                title    year   director_name\n",
              "movie_id                                                     \n",
              "541       The Man with the Golden Arm  1955.0  Otto Preminger\n",
              "750                   Murder She Said  1961.0  George Pollock\n",
              "3114                    The Searchers  1956.0       John Ford"
            ]
          },
          "metadata": {},
          "output_type": "display_data"
        },
        {
          "name": "stdout",
          "output_type": "stream",
          "text": [
            "User 21 --------------------------------------- \n",
            "\n",
            "    Known positives:\n"
          ]
        },
        {
          "data": {
            "text/html": [
              "<div>\n",
              "<style scoped>\n",
              "    .dataframe tbody tr th:only-of-type {\n",
              "        vertical-align: middle;\n",
              "    }\n",
              "\n",
              "    .dataframe tbody tr th {\n",
              "        vertical-align: top;\n",
              "    }\n",
              "\n",
              "    .dataframe thead th {\n",
              "        text-align: right;\n",
              "    }\n",
              "</style>\n",
              "<table border=\"1\" class=\"dataframe\">\n",
              "  <thead>\n",
              "    <tr style=\"text-align: right;\">\n",
              "      <th></th>\n",
              "      <th>title</th>\n",
              "      <th>year</th>\n",
              "      <th>director_name</th>\n",
              "    </tr>\n",
              "    <tr>\n",
              "      <th>movie_id</th>\n",
              "      <th></th>\n",
              "      <th></th>\n",
              "      <th></th>\n",
              "    </tr>\n",
              "  </thead>\n",
              "  <tbody>\n",
              "    <tr>\n",
              "      <th>260</th>\n",
              "      <td>The 39 Steps</td>\n",
              "      <td>1935.0</td>\n",
              "      <td>Alfred Hitchcock</td>\n",
              "    </tr>\n",
              "    <tr>\n",
              "      <th>4993</th>\n",
              "      <td>5 Card Stud</td>\n",
              "      <td>1968.0</td>\n",
              "      <td>Henry Hathaway</td>\n",
              "    </tr>\n",
              "    <tr>\n",
              "      <th>1610</th>\n",
              "      <td>Fever Pitch</td>\n",
              "      <td>1997.0</td>\n",
              "      <td>David Evans</td>\n",
              "    </tr>\n",
              "  </tbody>\n",
              "</table>\n",
              "</div>"
            ],
            "text/plain": [
              "                 title    year     director_name\n",
              "movie_id                                        \n",
              "260       The 39 Steps  1935.0  Alfred Hitchcock\n",
              "4993       5 Card Stud  1968.0    Henry Hathaway\n",
              "1610       Fever Pitch  1997.0       David Evans"
            ]
          },
          "metadata": {},
          "output_type": "display_data"
        },
        {
          "name": "stdout",
          "output_type": "stream",
          "text": [
            "    Recommended:\n"
          ]
        },
        {
          "data": {
            "text/html": [
              "<div>\n",
              "<style scoped>\n",
              "    .dataframe tbody tr th:only-of-type {\n",
              "        vertical-align: middle;\n",
              "    }\n",
              "\n",
              "    .dataframe tbody tr th {\n",
              "        vertical-align: top;\n",
              "    }\n",
              "\n",
              "    .dataframe thead th {\n",
              "        text-align: right;\n",
              "    }\n",
              "</style>\n",
              "<table border=\"1\" class=\"dataframe\">\n",
              "  <thead>\n",
              "    <tr style=\"text-align: right;\">\n",
              "      <th></th>\n",
              "      <th>title</th>\n",
              "      <th>year</th>\n",
              "      <th>director_name</th>\n",
              "    </tr>\n",
              "    <tr>\n",
              "      <th>movie_id</th>\n",
              "      <th></th>\n",
              "      <th></th>\n",
              "      <th></th>\n",
              "    </tr>\n",
              "  </thead>\n",
              "  <tbody>\n",
              "    <tr>\n",
              "      <th>1645</th>\n",
              "      <td>A Time to Kill</td>\n",
              "      <td>1996.0</td>\n",
              "      <td>Joel Schumacher</td>\n",
              "    </tr>\n",
              "    <tr>\n",
              "      <th>2006</th>\n",
              "      <td>Bell, Book and Candle</td>\n",
              "      <td>1958.0</td>\n",
              "      <td>Richard Quine</td>\n",
              "    </tr>\n",
              "    <tr>\n",
              "      <th>31696</th>\n",
              "      <td>A Kiss Before Dying</td>\n",
              "      <td>1991.0</td>\n",
              "      <td>James Dearden</td>\n",
              "    </tr>\n",
              "  </tbody>\n",
              "</table>\n",
              "</div>"
            ],
            "text/plain": [
              "                          title    year    director_name\n",
              "movie_id                                                \n",
              "1645             A Time to Kill  1996.0  Joel Schumacher\n",
              "2006      Bell, Book and Candle  1958.0    Richard Quine\n",
              "31696       A Kiss Before Dying  1991.0    James Dearden"
            ]
          },
          "metadata": {},
          "output_type": "display_data"
        }
      ],
      "source": [
        "sample_recommendation(model_cf, weights, dataset, [5, 21], df_movie_features[['movie_id', 'title', 'year', 'director_name']])"
      ]
    },
    {
      "cell_type": "markdown",
      "metadata": {
        "id": "RGAZifxv3jAG"
      },
      "source": [
        "#### Hybrid model"
      ]
    },
    {
      "cell_type": "code",
      "execution_count": null,
      "metadata": {
        "id": "YZbytY1k3jAH",
        "outputId": "692d573f-26a7-4e92-ae18-3dfa2534d99f"
      },
      "outputs": [
        {
          "name": "stdout",
          "output_type": "stream",
          "text": [
            "User 5 --------------------------------------- \n",
            "\n",
            "    Known positives:\n"
          ]
        },
        {
          "data": {
            "text/html": [
              "<div>\n",
              "<style scoped>\n",
              "    .dataframe tbody tr th:only-of-type {\n",
              "        vertical-align: middle;\n",
              "    }\n",
              "\n",
              "    .dataframe tbody tr th {\n",
              "        vertical-align: top;\n",
              "    }\n",
              "\n",
              "    .dataframe thead th {\n",
              "        text-align: right;\n",
              "    }\n",
              "</style>\n",
              "<table border=\"1\" class=\"dataframe\">\n",
              "  <thead>\n",
              "    <tr style=\"text-align: right;\">\n",
              "      <th></th>\n",
              "      <th>title</th>\n",
              "      <th>year</th>\n",
              "      <th>director_name</th>\n",
              "    </tr>\n",
              "    <tr>\n",
              "      <th>movie_id</th>\n",
              "      <th></th>\n",
              "      <th></th>\n",
              "      <th></th>\n",
              "    </tr>\n",
              "  </thead>\n",
              "  <tbody>\n",
              "    <tr>\n",
              "      <th>2565</th>\n",
              "      <td>Joe Versus the Volcano</td>\n",
              "      <td>1990.0</td>\n",
              "      <td>John Patrick Shanley</td>\n",
              "    </tr>\n",
              "  </tbody>\n",
              "</table>\n",
              "</div>"
            ],
            "text/plain": [
              "                           title    year         director_name\n",
              "movie_id                                                      \n",
              "2565      Joe Versus the Volcano  1990.0  John Patrick Shanley"
            ]
          },
          "metadata": {},
          "output_type": "display_data"
        },
        {
          "name": "stdout",
          "output_type": "stream",
          "text": [
            "    Recommended:\n"
          ]
        },
        {
          "data": {
            "text/html": [
              "<div>\n",
              "<style scoped>\n",
              "    .dataframe tbody tr th:only-of-type {\n",
              "        vertical-align: middle;\n",
              "    }\n",
              "\n",
              "    .dataframe tbody tr th {\n",
              "        vertical-align: top;\n",
              "    }\n",
              "\n",
              "    .dataframe thead th {\n",
              "        text-align: right;\n",
              "    }\n",
              "</style>\n",
              "<table border=\"1\" class=\"dataframe\">\n",
              "  <thead>\n",
              "    <tr style=\"text-align: right;\">\n",
              "      <th></th>\n",
              "      <th>title</th>\n",
              "      <th>year</th>\n",
              "      <th>director_name</th>\n",
              "    </tr>\n",
              "    <tr>\n",
              "      <th>movie_id</th>\n",
              "      <th></th>\n",
              "      <th></th>\n",
              "      <th></th>\n",
              "    </tr>\n",
              "  </thead>\n",
              "  <tbody>\n",
              "    <tr>\n",
              "      <th>750</th>\n",
              "      <td>Murder She Said</td>\n",
              "      <td>1961.0</td>\n",
              "      <td>George Pollock</td>\n",
              "    </tr>\n",
              "    <tr>\n",
              "      <th>541</th>\n",
              "      <td>The Man with the Golden Arm</td>\n",
              "      <td>1955.0</td>\n",
              "      <td>Otto Preminger</td>\n",
              "    </tr>\n",
              "    <tr>\n",
              "      <th>4993</th>\n",
              "      <td>5 Card Stud</td>\n",
              "      <td>1968.0</td>\n",
              "      <td>Henry Hathaway</td>\n",
              "    </tr>\n",
              "  </tbody>\n",
              "</table>\n",
              "</div>"
            ],
            "text/plain": [
              "                                title    year   director_name\n",
              "movie_id                                                     \n",
              "750                   Murder She Said  1961.0  George Pollock\n",
              "541       The Man with the Golden Arm  1955.0  Otto Preminger\n",
              "4993                      5 Card Stud  1968.0  Henry Hathaway"
            ]
          },
          "metadata": {},
          "output_type": "display_data"
        },
        {
          "name": "stdout",
          "output_type": "stream",
          "text": [
            "User 21 --------------------------------------- \n",
            "\n",
            "    Known positives:\n"
          ]
        },
        {
          "data": {
            "text/html": [
              "<div>\n",
              "<style scoped>\n",
              "    .dataframe tbody tr th:only-of-type {\n",
              "        vertical-align: middle;\n",
              "    }\n",
              "\n",
              "    .dataframe tbody tr th {\n",
              "        vertical-align: top;\n",
              "    }\n",
              "\n",
              "    .dataframe thead th {\n",
              "        text-align: right;\n",
              "    }\n",
              "</style>\n",
              "<table border=\"1\" class=\"dataframe\">\n",
              "  <thead>\n",
              "    <tr style=\"text-align: right;\">\n",
              "      <th></th>\n",
              "      <th>title</th>\n",
              "      <th>year</th>\n",
              "      <th>director_name</th>\n",
              "    </tr>\n",
              "    <tr>\n",
              "      <th>movie_id</th>\n",
              "      <th></th>\n",
              "      <th></th>\n",
              "      <th></th>\n",
              "    </tr>\n",
              "  </thead>\n",
              "  <tbody>\n",
              "    <tr>\n",
              "      <th>260</th>\n",
              "      <td>The 39 Steps</td>\n",
              "      <td>1935.0</td>\n",
              "      <td>Alfred Hitchcock</td>\n",
              "    </tr>\n",
              "    <tr>\n",
              "      <th>4993</th>\n",
              "      <td>5 Card Stud</td>\n",
              "      <td>1968.0</td>\n",
              "      <td>Henry Hathaway</td>\n",
              "    </tr>\n",
              "    <tr>\n",
              "      <th>1610</th>\n",
              "      <td>Fever Pitch</td>\n",
              "      <td>1997.0</td>\n",
              "      <td>David Evans</td>\n",
              "    </tr>\n",
              "  </tbody>\n",
              "</table>\n",
              "</div>"
            ],
            "text/plain": [
              "                 title    year     director_name\n",
              "movie_id                                        \n",
              "260       The 39 Steps  1935.0  Alfred Hitchcock\n",
              "4993       5 Card Stud  1968.0    Henry Hathaway\n",
              "1610       Fever Pitch  1997.0       David Evans"
            ]
          },
          "metadata": {},
          "output_type": "display_data"
        },
        {
          "name": "stdout",
          "output_type": "stream",
          "text": [
            "    Recommended:\n"
          ]
        },
        {
          "data": {
            "text/html": [
              "<div>\n",
              "<style scoped>\n",
              "    .dataframe tbody tr th:only-of-type {\n",
              "        vertical-align: middle;\n",
              "    }\n",
              "\n",
              "    .dataframe tbody tr th {\n",
              "        vertical-align: top;\n",
              "    }\n",
              "\n",
              "    .dataframe thead th {\n",
              "        text-align: right;\n",
              "    }\n",
              "</style>\n",
              "<table border=\"1\" class=\"dataframe\">\n",
              "  <thead>\n",
              "    <tr style=\"text-align: right;\">\n",
              "      <th></th>\n",
              "      <th>title</th>\n",
              "      <th>year</th>\n",
              "      <th>director_name</th>\n",
              "    </tr>\n",
              "    <tr>\n",
              "      <th>movie_id</th>\n",
              "      <th></th>\n",
              "      <th></th>\n",
              "      <th></th>\n",
              "    </tr>\n",
              "  </thead>\n",
              "  <tbody>\n",
              "    <tr>\n",
              "      <th>4643</th>\n",
              "      <td>The Guardian</td>\n",
              "      <td>2006.0</td>\n",
              "      <td>Andrew Davis</td>\n",
              "    </tr>\n",
              "    <tr>\n",
              "      <th>31696</th>\n",
              "      <td>A Kiss Before Dying</td>\n",
              "      <td>1991.0</td>\n",
              "      <td>James Dearden</td>\n",
              "    </tr>\n",
              "    <tr>\n",
              "      <th>1645</th>\n",
              "      <td>A Time to Kill</td>\n",
              "      <td>1996.0</td>\n",
              "      <td>Joel Schumacher</td>\n",
              "    </tr>\n",
              "  </tbody>\n",
              "</table>\n",
              "</div>"
            ],
            "text/plain": [
              "                        title    year    director_name\n",
              "movie_id                                              \n",
              "4643             The Guardian  2006.0     Andrew Davis\n",
              "31696     A Kiss Before Dying  1991.0    James Dearden\n",
              "1645           A Time to Kill  1996.0  Joel Schumacher"
            ]
          },
          "metadata": {},
          "output_type": "display_data"
        }
      ],
      "source": [
        "sample_recommendation(model_hybrid, weights2, dataset2, [5, 21], df_movie_features[['movie_id', 'title', 'year', 'director_name']])"
      ]
    }
  ],
  "metadata": {
    "colab": {
      "provenance": []
    },
    "kernelspec": {
      "display_name": "base",
      "language": "python",
      "name": "python3"
    },
    "language_info": {
      "codemirror_mode": {
        "name": "ipython",
        "version": 3
      },
      "file_extension": ".py",
      "mimetype": "text/x-python",
      "name": "python",
      "nbconvert_exporter": "python",
      "pygments_lexer": "ipython3",
      "version": "3.10.11"
    }
  },
  "nbformat": 4,
  "nbformat_minor": 0
}
