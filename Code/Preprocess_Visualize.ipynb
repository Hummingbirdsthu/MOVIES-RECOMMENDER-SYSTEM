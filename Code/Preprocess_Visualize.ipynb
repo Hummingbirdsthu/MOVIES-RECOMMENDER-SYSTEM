{
 "cells": [
  {
   "cell_type": "code",
   "execution_count": 3,
   "metadata": {},
   "outputs": [],
   "source": [
    "import pandas as pd\n",
    "import numpy as np\n",
    "import matplotlib.pyplot as plt\n",
    "import plotly.express as px\n",
    "import seaborn as sns\n",
    "from ast import literal_eval\n",
    "import warnings; warnings.simplefilter('ignore')\n",
    "pd.set_option('display.max_columns', None)"
   ]
  },
  {
   "cell_type": "markdown",
   "metadata": {},
   "source": [
    "### Preproccessing metadata"
   ]
  },
  {
   "cell_type": "markdown",
   "metadata": {},
   "source": [
    "##### Read"
   ]
  },
  {
   "cell_type": "code",
   "execution_count": 4,
   "metadata": {},
   "outputs": [
    {
     "data": {
      "text/html": [
       "<div>\n",
       "<style scoped>\n",
       "    .dataframe tbody tr th:only-of-type {\n",
       "        vertical-align: middle;\n",
       "    }\n",
       "\n",
       "    .dataframe tbody tr th {\n",
       "        vertical-align: top;\n",
       "    }\n",
       "\n",
       "    .dataframe thead th {\n",
       "        text-align: right;\n",
       "    }\n",
       "</style>\n",
       "<table border=\"1\" class=\"dataframe\">\n",
       "  <thead>\n",
       "    <tr style=\"text-align: right;\">\n",
       "      <th></th>\n",
       "      <th>adult</th>\n",
       "      <th>belongs_to_collection</th>\n",
       "      <th>budget</th>\n",
       "      <th>genres</th>\n",
       "      <th>homepage</th>\n",
       "      <th>id</th>\n",
       "      <th>imdb_id</th>\n",
       "      <th>original_language</th>\n",
       "      <th>original_title</th>\n",
       "      <th>overview</th>\n",
       "      <th>popularity</th>\n",
       "      <th>poster_path</th>\n",
       "      <th>production_companies</th>\n",
       "      <th>production_countries</th>\n",
       "      <th>release_date</th>\n",
       "      <th>revenue</th>\n",
       "      <th>runtime</th>\n",
       "      <th>spoken_languages</th>\n",
       "      <th>status</th>\n",
       "      <th>tagline</th>\n",
       "      <th>title</th>\n",
       "      <th>video</th>\n",
       "      <th>vote_average</th>\n",
       "      <th>vote_count</th>\n",
       "    </tr>\n",
       "  </thead>\n",
       "  <tbody>\n",
       "    <tr>\n",
       "      <th>0</th>\n",
       "      <td>False</td>\n",
       "      <td>{'id': 10194, 'name': 'Toy Story Collection', ...</td>\n",
       "      <td>30000000</td>\n",
       "      <td>[{'id': 16, 'name': 'Animation'}, {'id': 35, '...</td>\n",
       "      <td>http://toystory.disney.com/toy-story</td>\n",
       "      <td>862</td>\n",
       "      <td>tt0114709</td>\n",
       "      <td>en</td>\n",
       "      <td>Toy Story</td>\n",
       "      <td>Led by Woody, Andy's toys live happily in his ...</td>\n",
       "      <td>21.946943</td>\n",
       "      <td>/rhIRbceoE9lR4veEXuwCC2wARtG.jpg</td>\n",
       "      <td>[{'name': 'Pixar Animation Studios', 'id': 3}]</td>\n",
       "      <td>[{'iso_3166_1': 'US', 'name': 'United States o...</td>\n",
       "      <td>1995-10-30</td>\n",
       "      <td>373554033.0</td>\n",
       "      <td>81.0</td>\n",
       "      <td>[{'iso_639_1': 'en', 'name': 'English'}]</td>\n",
       "      <td>Released</td>\n",
       "      <td>NaN</td>\n",
       "      <td>Toy Story</td>\n",
       "      <td>False</td>\n",
       "      <td>7.7</td>\n",
       "      <td>5415.0</td>\n",
       "    </tr>\n",
       "    <tr>\n",
       "      <th>1</th>\n",
       "      <td>False</td>\n",
       "      <td>NaN</td>\n",
       "      <td>65000000</td>\n",
       "      <td>[{'id': 12, 'name': 'Adventure'}, {'id': 14, '...</td>\n",
       "      <td>NaN</td>\n",
       "      <td>8844</td>\n",
       "      <td>tt0113497</td>\n",
       "      <td>en</td>\n",
       "      <td>Jumanji</td>\n",
       "      <td>When siblings Judy and Peter discover an encha...</td>\n",
       "      <td>17.015539</td>\n",
       "      <td>/vzmL6fP7aPKNKPRTFnZmiUfciyV.jpg</td>\n",
       "      <td>[{'name': 'TriStar Pictures', 'id': 559}, {'na...</td>\n",
       "      <td>[{'iso_3166_1': 'US', 'name': 'United States o...</td>\n",
       "      <td>1995-12-15</td>\n",
       "      <td>262797249.0</td>\n",
       "      <td>104.0</td>\n",
       "      <td>[{'iso_639_1': 'en', 'name': 'English'}, {'iso...</td>\n",
       "      <td>Released</td>\n",
       "      <td>Roll the dice and unleash the excitement!</td>\n",
       "      <td>Jumanji</td>\n",
       "      <td>False</td>\n",
       "      <td>6.9</td>\n",
       "      <td>2413.0</td>\n",
       "    </tr>\n",
       "    <tr>\n",
       "      <th>2</th>\n",
       "      <td>False</td>\n",
       "      <td>{'id': 119050, 'name': 'Grumpy Old Men Collect...</td>\n",
       "      <td>0</td>\n",
       "      <td>[{'id': 10749, 'name': 'Romance'}, {'id': 35, ...</td>\n",
       "      <td>NaN</td>\n",
       "      <td>15602</td>\n",
       "      <td>tt0113228</td>\n",
       "      <td>en</td>\n",
       "      <td>Grumpier Old Men</td>\n",
       "      <td>A family wedding reignites the ancient feud be...</td>\n",
       "      <td>11.7129</td>\n",
       "      <td>/6ksm1sjKMFLbO7UY2i6G1ju9SML.jpg</td>\n",
       "      <td>[{'name': 'Warner Bros.', 'id': 6194}, {'name'...</td>\n",
       "      <td>[{'iso_3166_1': 'US', 'name': 'United States o...</td>\n",
       "      <td>1995-12-22</td>\n",
       "      <td>0.0</td>\n",
       "      <td>101.0</td>\n",
       "      <td>[{'iso_639_1': 'en', 'name': 'English'}]</td>\n",
       "      <td>Released</td>\n",
       "      <td>Still Yelling. Still Fighting. Still Ready for...</td>\n",
       "      <td>Grumpier Old Men</td>\n",
       "      <td>False</td>\n",
       "      <td>6.5</td>\n",
       "      <td>92.0</td>\n",
       "    </tr>\n",
       "    <tr>\n",
       "      <th>3</th>\n",
       "      <td>False</td>\n",
       "      <td>NaN</td>\n",
       "      <td>16000000</td>\n",
       "      <td>[{'id': 35, 'name': 'Comedy'}, {'id': 18, 'nam...</td>\n",
       "      <td>NaN</td>\n",
       "      <td>31357</td>\n",
       "      <td>tt0114885</td>\n",
       "      <td>en</td>\n",
       "      <td>Waiting to Exhale</td>\n",
       "      <td>Cheated on, mistreated and stepped on, the wom...</td>\n",
       "      <td>3.859495</td>\n",
       "      <td>/16XOMpEaLWkrcPqSQqhTmeJuqQl.jpg</td>\n",
       "      <td>[{'name': 'Twentieth Century Fox Film Corporat...</td>\n",
       "      <td>[{'iso_3166_1': 'US', 'name': 'United States o...</td>\n",
       "      <td>1995-12-22</td>\n",
       "      <td>81452156.0</td>\n",
       "      <td>127.0</td>\n",
       "      <td>[{'iso_639_1': 'en', 'name': 'English'}]</td>\n",
       "      <td>Released</td>\n",
       "      <td>Friends are the people who let you be yourself...</td>\n",
       "      <td>Waiting to Exhale</td>\n",
       "      <td>False</td>\n",
       "      <td>6.1</td>\n",
       "      <td>34.0</td>\n",
       "    </tr>\n",
       "    <tr>\n",
       "      <th>4</th>\n",
       "      <td>False</td>\n",
       "      <td>{'id': 96871, 'name': 'Father of the Bride Col...</td>\n",
       "      <td>0</td>\n",
       "      <td>[{'id': 35, 'name': 'Comedy'}]</td>\n",
       "      <td>NaN</td>\n",
       "      <td>11862</td>\n",
       "      <td>tt0113041</td>\n",
       "      <td>en</td>\n",
       "      <td>Father of the Bride Part II</td>\n",
       "      <td>Just when George Banks has recovered from his ...</td>\n",
       "      <td>8.387519</td>\n",
       "      <td>/e64sOI48hQXyru7naBFyssKFxVd.jpg</td>\n",
       "      <td>[{'name': 'Sandollar Productions', 'id': 5842}...</td>\n",
       "      <td>[{'iso_3166_1': 'US', 'name': 'United States o...</td>\n",
       "      <td>1995-02-10</td>\n",
       "      <td>76578911.0</td>\n",
       "      <td>106.0</td>\n",
       "      <td>[{'iso_639_1': 'en', 'name': 'English'}]</td>\n",
       "      <td>Released</td>\n",
       "      <td>Just When His World Is Back To Normal... He's ...</td>\n",
       "      <td>Father of the Bride Part II</td>\n",
       "      <td>False</td>\n",
       "      <td>5.7</td>\n",
       "      <td>173.0</td>\n",
       "    </tr>\n",
       "    <tr>\n",
       "      <th>...</th>\n",
       "      <td>...</td>\n",
       "      <td>...</td>\n",
       "      <td>...</td>\n",
       "      <td>...</td>\n",
       "      <td>...</td>\n",
       "      <td>...</td>\n",
       "      <td>...</td>\n",
       "      <td>...</td>\n",
       "      <td>...</td>\n",
       "      <td>...</td>\n",
       "      <td>...</td>\n",
       "      <td>...</td>\n",
       "      <td>...</td>\n",
       "      <td>...</td>\n",
       "      <td>...</td>\n",
       "      <td>...</td>\n",
       "      <td>...</td>\n",
       "      <td>...</td>\n",
       "      <td>...</td>\n",
       "      <td>...</td>\n",
       "      <td>...</td>\n",
       "      <td>...</td>\n",
       "      <td>...</td>\n",
       "      <td>...</td>\n",
       "    </tr>\n",
       "    <tr>\n",
       "      <th>45461</th>\n",
       "      <td>False</td>\n",
       "      <td>NaN</td>\n",
       "      <td>0</td>\n",
       "      <td>[{'id': 18, 'name': 'Drama'}, {'id': 10751, 'n...</td>\n",
       "      <td>http://www.imdb.com/title/tt6209470/</td>\n",
       "      <td>439050</td>\n",
       "      <td>tt6209470</td>\n",
       "      <td>fa</td>\n",
       "      <td>رگ خواب</td>\n",
       "      <td>Rising and falling between a man and woman.</td>\n",
       "      <td>0.072051</td>\n",
       "      <td>/jldsYflnId4tTWPx8es3uzsB1I8.jpg</td>\n",
       "      <td>[]</td>\n",
       "      <td>[{'iso_3166_1': 'IR', 'name': 'Iran'}]</td>\n",
       "      <td>NaN</td>\n",
       "      <td>0.0</td>\n",
       "      <td>90.0</td>\n",
       "      <td>[{'iso_639_1': 'fa', 'name': 'فارسی'}]</td>\n",
       "      <td>Released</td>\n",
       "      <td>Rising and falling between a man and woman</td>\n",
       "      <td>Subdue</td>\n",
       "      <td>False</td>\n",
       "      <td>4.0</td>\n",
       "      <td>1.0</td>\n",
       "    </tr>\n",
       "    <tr>\n",
       "      <th>45462</th>\n",
       "      <td>False</td>\n",
       "      <td>NaN</td>\n",
       "      <td>0</td>\n",
       "      <td>[{'id': 18, 'name': 'Drama'}]</td>\n",
       "      <td>NaN</td>\n",
       "      <td>111109</td>\n",
       "      <td>tt2028550</td>\n",
       "      <td>tl</td>\n",
       "      <td>Siglo ng Pagluluwal</td>\n",
       "      <td>An artist struggles to finish his work while a...</td>\n",
       "      <td>0.178241</td>\n",
       "      <td>/xZkmxsNmYXJbKVsTRLLx3pqGHx7.jpg</td>\n",
       "      <td>[{'name': 'Sine Olivia', 'id': 19653}]</td>\n",
       "      <td>[{'iso_3166_1': 'PH', 'name': 'Philippines'}]</td>\n",
       "      <td>2011-11-17</td>\n",
       "      <td>0.0</td>\n",
       "      <td>360.0</td>\n",
       "      <td>[{'iso_639_1': 'tl', 'name': ''}]</td>\n",
       "      <td>Released</td>\n",
       "      <td>NaN</td>\n",
       "      <td>Century of Birthing</td>\n",
       "      <td>False</td>\n",
       "      <td>9.0</td>\n",
       "      <td>3.0</td>\n",
       "    </tr>\n",
       "    <tr>\n",
       "      <th>45463</th>\n",
       "      <td>False</td>\n",
       "      <td>NaN</td>\n",
       "      <td>0</td>\n",
       "      <td>[{'id': 28, 'name': 'Action'}, {'id': 18, 'nam...</td>\n",
       "      <td>NaN</td>\n",
       "      <td>67758</td>\n",
       "      <td>tt0303758</td>\n",
       "      <td>en</td>\n",
       "      <td>Betrayal</td>\n",
       "      <td>When one of her hits goes wrong, a professiona...</td>\n",
       "      <td>0.903007</td>\n",
       "      <td>/d5bX92nDsISNhu3ZT69uHwmfCGw.jpg</td>\n",
       "      <td>[{'name': 'American World Pictures', 'id': 6165}]</td>\n",
       "      <td>[{'iso_3166_1': 'US', 'name': 'United States o...</td>\n",
       "      <td>2003-08-01</td>\n",
       "      <td>0.0</td>\n",
       "      <td>90.0</td>\n",
       "      <td>[{'iso_639_1': 'en', 'name': 'English'}]</td>\n",
       "      <td>Released</td>\n",
       "      <td>A deadly game of wits.</td>\n",
       "      <td>Betrayal</td>\n",
       "      <td>False</td>\n",
       "      <td>3.8</td>\n",
       "      <td>6.0</td>\n",
       "    </tr>\n",
       "    <tr>\n",
       "      <th>45464</th>\n",
       "      <td>False</td>\n",
       "      <td>NaN</td>\n",
       "      <td>0</td>\n",
       "      <td>[]</td>\n",
       "      <td>NaN</td>\n",
       "      <td>227506</td>\n",
       "      <td>tt0008536</td>\n",
       "      <td>en</td>\n",
       "      <td>Satana likuyushchiy</td>\n",
       "      <td>In a small town live two brothers, one a minis...</td>\n",
       "      <td>0.003503</td>\n",
       "      <td>/aorBPO7ak8e8iJKT5OcqYxU3jlK.jpg</td>\n",
       "      <td>[{'name': 'Yermoliev', 'id': 88753}]</td>\n",
       "      <td>[{'iso_3166_1': 'RU', 'name': 'Russia'}]</td>\n",
       "      <td>1917-10-21</td>\n",
       "      <td>0.0</td>\n",
       "      <td>87.0</td>\n",
       "      <td>[]</td>\n",
       "      <td>Released</td>\n",
       "      <td>NaN</td>\n",
       "      <td>Satan Triumphant</td>\n",
       "      <td>False</td>\n",
       "      <td>0.0</td>\n",
       "      <td>0.0</td>\n",
       "    </tr>\n",
       "    <tr>\n",
       "      <th>45465</th>\n",
       "      <td>False</td>\n",
       "      <td>NaN</td>\n",
       "      <td>0</td>\n",
       "      <td>[]</td>\n",
       "      <td>NaN</td>\n",
       "      <td>461257</td>\n",
       "      <td>tt6980792</td>\n",
       "      <td>en</td>\n",
       "      <td>Queerama</td>\n",
       "      <td>50 years after decriminalisation of homosexual...</td>\n",
       "      <td>0.163015</td>\n",
       "      <td>/s5UkZt6NTsrS7ZF0Rh8nzupRlIU.jpg</td>\n",
       "      <td>[]</td>\n",
       "      <td>[{'iso_3166_1': 'GB', 'name': 'United Kingdom'}]</td>\n",
       "      <td>2017-06-09</td>\n",
       "      <td>0.0</td>\n",
       "      <td>75.0</td>\n",
       "      <td>[{'iso_639_1': 'en', 'name': 'English'}]</td>\n",
       "      <td>Released</td>\n",
       "      <td>NaN</td>\n",
       "      <td>Queerama</td>\n",
       "      <td>False</td>\n",
       "      <td>0.0</td>\n",
       "      <td>0.0</td>\n",
       "    </tr>\n",
       "  </tbody>\n",
       "</table>\n",
       "<p>45466 rows × 24 columns</p>\n",
       "</div>"
      ],
      "text/plain": [
       "       adult                              belongs_to_collection    budget   \n",
       "0      False  {'id': 10194, 'name': 'Toy Story Collection', ...  30000000  \\\n",
       "1      False                                                NaN  65000000   \n",
       "2      False  {'id': 119050, 'name': 'Grumpy Old Men Collect...         0   \n",
       "3      False                                                NaN  16000000   \n",
       "4      False  {'id': 96871, 'name': 'Father of the Bride Col...         0   \n",
       "...      ...                                                ...       ...   \n",
       "45461  False                                                NaN         0   \n",
       "45462  False                                                NaN         0   \n",
       "45463  False                                                NaN         0   \n",
       "45464  False                                                NaN         0   \n",
       "45465  False                                                NaN         0   \n",
       "\n",
       "                                                  genres   \n",
       "0      [{'id': 16, 'name': 'Animation'}, {'id': 35, '...  \\\n",
       "1      [{'id': 12, 'name': 'Adventure'}, {'id': 14, '...   \n",
       "2      [{'id': 10749, 'name': 'Romance'}, {'id': 35, ...   \n",
       "3      [{'id': 35, 'name': 'Comedy'}, {'id': 18, 'nam...   \n",
       "4                         [{'id': 35, 'name': 'Comedy'}]   \n",
       "...                                                  ...   \n",
       "45461  [{'id': 18, 'name': 'Drama'}, {'id': 10751, 'n...   \n",
       "45462                      [{'id': 18, 'name': 'Drama'}]   \n",
       "45463  [{'id': 28, 'name': 'Action'}, {'id': 18, 'nam...   \n",
       "45464                                                 []   \n",
       "45465                                                 []   \n",
       "\n",
       "                                   homepage      id    imdb_id   \n",
       "0      http://toystory.disney.com/toy-story     862  tt0114709  \\\n",
       "1                                       NaN    8844  tt0113497   \n",
       "2                                       NaN   15602  tt0113228   \n",
       "3                                       NaN   31357  tt0114885   \n",
       "4                                       NaN   11862  tt0113041   \n",
       "...                                     ...     ...        ...   \n",
       "45461  http://www.imdb.com/title/tt6209470/  439050  tt6209470   \n",
       "45462                                   NaN  111109  tt2028550   \n",
       "45463                                   NaN   67758  tt0303758   \n",
       "45464                                   NaN  227506  tt0008536   \n",
       "45465                                   NaN  461257  tt6980792   \n",
       "\n",
       "      original_language               original_title   \n",
       "0                    en                    Toy Story  \\\n",
       "1                    en                      Jumanji   \n",
       "2                    en             Grumpier Old Men   \n",
       "3                    en            Waiting to Exhale   \n",
       "4                    en  Father of the Bride Part II   \n",
       "...                 ...                          ...   \n",
       "45461                fa                      رگ خواب   \n",
       "45462                tl          Siglo ng Pagluluwal   \n",
       "45463                en                     Betrayal   \n",
       "45464                en          Satana likuyushchiy   \n",
       "45465                en                     Queerama   \n",
       "\n",
       "                                                overview popularity   \n",
       "0      Led by Woody, Andy's toys live happily in his ...  21.946943  \\\n",
       "1      When siblings Judy and Peter discover an encha...  17.015539   \n",
       "2      A family wedding reignites the ancient feud be...    11.7129   \n",
       "3      Cheated on, mistreated and stepped on, the wom...   3.859495   \n",
       "4      Just when George Banks has recovered from his ...   8.387519   \n",
       "...                                                  ...        ...   \n",
       "45461        Rising and falling between a man and woman.   0.072051   \n",
       "45462  An artist struggles to finish his work while a...   0.178241   \n",
       "45463  When one of her hits goes wrong, a professiona...   0.903007   \n",
       "45464  In a small town live two brothers, one a minis...   0.003503   \n",
       "45465  50 years after decriminalisation of homosexual...   0.163015   \n",
       "\n",
       "                            poster_path   \n",
       "0      /rhIRbceoE9lR4veEXuwCC2wARtG.jpg  \\\n",
       "1      /vzmL6fP7aPKNKPRTFnZmiUfciyV.jpg   \n",
       "2      /6ksm1sjKMFLbO7UY2i6G1ju9SML.jpg   \n",
       "3      /16XOMpEaLWkrcPqSQqhTmeJuqQl.jpg   \n",
       "4      /e64sOI48hQXyru7naBFyssKFxVd.jpg   \n",
       "...                                 ...   \n",
       "45461  /jldsYflnId4tTWPx8es3uzsB1I8.jpg   \n",
       "45462  /xZkmxsNmYXJbKVsTRLLx3pqGHx7.jpg   \n",
       "45463  /d5bX92nDsISNhu3ZT69uHwmfCGw.jpg   \n",
       "45464  /aorBPO7ak8e8iJKT5OcqYxU3jlK.jpg   \n",
       "45465  /s5UkZt6NTsrS7ZF0Rh8nzupRlIU.jpg   \n",
       "\n",
       "                                    production_companies   \n",
       "0         [{'name': 'Pixar Animation Studios', 'id': 3}]  \\\n",
       "1      [{'name': 'TriStar Pictures', 'id': 559}, {'na...   \n",
       "2      [{'name': 'Warner Bros.', 'id': 6194}, {'name'...   \n",
       "3      [{'name': 'Twentieth Century Fox Film Corporat...   \n",
       "4      [{'name': 'Sandollar Productions', 'id': 5842}...   \n",
       "...                                                  ...   \n",
       "45461                                                 []   \n",
       "45462             [{'name': 'Sine Olivia', 'id': 19653}]   \n",
       "45463  [{'name': 'American World Pictures', 'id': 6165}]   \n",
       "45464               [{'name': 'Yermoliev', 'id': 88753}]   \n",
       "45465                                                 []   \n",
       "\n",
       "                                    production_countries release_date   \n",
       "0      [{'iso_3166_1': 'US', 'name': 'United States o...   1995-10-30  \\\n",
       "1      [{'iso_3166_1': 'US', 'name': 'United States o...   1995-12-15   \n",
       "2      [{'iso_3166_1': 'US', 'name': 'United States o...   1995-12-22   \n",
       "3      [{'iso_3166_1': 'US', 'name': 'United States o...   1995-12-22   \n",
       "4      [{'iso_3166_1': 'US', 'name': 'United States o...   1995-02-10   \n",
       "...                                                  ...          ...   \n",
       "45461             [{'iso_3166_1': 'IR', 'name': 'Iran'}]          NaN   \n",
       "45462      [{'iso_3166_1': 'PH', 'name': 'Philippines'}]   2011-11-17   \n",
       "45463  [{'iso_3166_1': 'US', 'name': 'United States o...   2003-08-01   \n",
       "45464           [{'iso_3166_1': 'RU', 'name': 'Russia'}]   1917-10-21   \n",
       "45465   [{'iso_3166_1': 'GB', 'name': 'United Kingdom'}]   2017-06-09   \n",
       "\n",
       "           revenue  runtime   \n",
       "0      373554033.0     81.0  \\\n",
       "1      262797249.0    104.0   \n",
       "2              0.0    101.0   \n",
       "3       81452156.0    127.0   \n",
       "4       76578911.0    106.0   \n",
       "...            ...      ...   \n",
       "45461          0.0     90.0   \n",
       "45462          0.0    360.0   \n",
       "45463          0.0     90.0   \n",
       "45464          0.0     87.0   \n",
       "45465          0.0     75.0   \n",
       "\n",
       "                                        spoken_languages    status   \n",
       "0               [{'iso_639_1': 'en', 'name': 'English'}]  Released  \\\n",
       "1      [{'iso_639_1': 'en', 'name': 'English'}, {'iso...  Released   \n",
       "2               [{'iso_639_1': 'en', 'name': 'English'}]  Released   \n",
       "3               [{'iso_639_1': 'en', 'name': 'English'}]  Released   \n",
       "4               [{'iso_639_1': 'en', 'name': 'English'}]  Released   \n",
       "...                                                  ...       ...   \n",
       "45461             [{'iso_639_1': 'fa', 'name': 'فارسی'}]  Released   \n",
       "45462                  [{'iso_639_1': 'tl', 'name': ''}]  Released   \n",
       "45463           [{'iso_639_1': 'en', 'name': 'English'}]  Released   \n",
       "45464                                                 []  Released   \n",
       "45465           [{'iso_639_1': 'en', 'name': 'English'}]  Released   \n",
       "\n",
       "                                                 tagline   \n",
       "0                                                    NaN  \\\n",
       "1              Roll the dice and unleash the excitement!   \n",
       "2      Still Yelling. Still Fighting. Still Ready for...   \n",
       "3      Friends are the people who let you be yourself...   \n",
       "4      Just When His World Is Back To Normal... He's ...   \n",
       "...                                                  ...   \n",
       "45461         Rising and falling between a man and woman   \n",
       "45462                                                NaN   \n",
       "45463                             A deadly game of wits.   \n",
       "45464                                                NaN   \n",
       "45465                                                NaN   \n",
       "\n",
       "                             title  video  vote_average  vote_count  \n",
       "0                        Toy Story  False           7.7      5415.0  \n",
       "1                          Jumanji  False           6.9      2413.0  \n",
       "2                 Grumpier Old Men  False           6.5        92.0  \n",
       "3                Waiting to Exhale  False           6.1        34.0  \n",
       "4      Father of the Bride Part II  False           5.7       173.0  \n",
       "...                            ...    ...           ...         ...  \n",
       "45461                       Subdue  False           4.0         1.0  \n",
       "45462          Century of Birthing  False           9.0         3.0  \n",
       "45463                     Betrayal  False           3.8         6.0  \n",
       "45464             Satan Triumphant  False           0.0         0.0  \n",
       "45465                     Queerama  False           0.0         0.0  \n",
       "\n",
       "[45466 rows x 24 columns]"
      ]
     },
     "execution_count": 4,
     "metadata": {},
     "output_type": "execute_result"
    }
   ],
   "source": [
    "meta = pd.read_csv('movies_metadata.csv', encoding='utf-8')\n",
    "meta"
   ]
  },
  {
   "cell_type": "markdown",
   "metadata": {},
   "source": [
    "##### Year"
   ]
  },
  {
   "cell_type": "code",
   "execution_count": 5,
   "metadata": {},
   "outputs": [
    {
     "data": {
      "text/plain": [
       "year\n",
       "1874.0       1\n",
       "1878.0       1\n",
       "1883.0       1\n",
       "1887.0       1\n",
       "1888.0       2\n",
       "          ... \n",
       "2015.0    1905\n",
       "2016.0    1604\n",
       "2017.0     532\n",
       "2018.0       5\n",
       "2020.0       1\n",
       "Name: count, Length: 135, dtype: int64"
      ]
     },
     "execution_count": 5,
     "metadata": {},
     "output_type": "execute_result"
    }
   ],
   "source": [
    "meta['release_date'] = pd.to_datetime(meta['release_date'], errors='coerce')\n",
    "meta['year'] = meta['release_date'].dt.year\n",
    "meta['year'].value_counts().sort_index()"
   ]
  },
  {
   "cell_type": "markdown",
   "metadata": {},
   "source": [
    "##### Adult"
   ]
  },
  {
   "cell_type": "code",
   "execution_count": 6,
   "metadata": {},
   "outputs": [
    {
     "name": "stdout",
     "output_type": "stream",
     "text": [
      "False\n",
      "True\n",
      " - Written by Ørnås\n",
      " Rune Balot goes to a casino connected to the October corporation to try to wrap up her case once and for all.\n",
      " Avalanche Sharks tells the story of a bikini contest that turns into a horrifying affair when it is hit by a shark avalanche.\n"
     ]
    }
   ],
   "source": [
    "print(*(i for i in meta['adult'].unique()), sep=\"\\n\")"
   ]
  },
  {
   "cell_type": "markdown",
   "metadata": {},
   "source": [
    "Ánh xạ chuỗi 'True' hoặc 'False' trong meta['adult'] về thành kiểu boolean.\n",
    "\n",
    "Nếu meta['adult'] không phải True hoặc False thì drop do dòng đó các giá trị trong dòng đó đảo lộn trật tự  "
   ]
  },
  {
   "cell_type": "code",
   "execution_count": 7,
   "metadata": {},
   "outputs": [],
   "source": [
    "meta['adult'] = meta['adult'].map({'True': True, 'False': False})\n",
    "meta.drop(meta[~meta['adult'].isin([True, False])].index, inplace=True)"
   ]
  },
  {
   "cell_type": "markdown",
   "metadata": {},
   "source": [
    "##### original_language"
   ]
  },
  {
   "cell_type": "code",
   "execution_count": 8,
   "metadata": {},
   "outputs": [
    {
     "data": {
      "text/plain": [
       "array(['en', 'fr', 'zh', 'it', 'fa', 'nl', 'de', 'cn', 'ar', 'es', 'ru',\n",
       "       'sv', 'ja', 'ko', 'sr', 'bn', 'he', 'pt', 'wo', 'ro', 'hu', 'cy',\n",
       "       'vi', 'cs', 'da', 'no', 'nb', 'pl', 'el', 'sh', 'xx', 'mk', 'bo',\n",
       "       'ca', 'fi', 'th', 'sk', 'bs', 'hi', 'tr', 'is', 'ps', 'ab', 'eo',\n",
       "       'ka', 'mn', 'bm', 'zu', 'uk', 'af', 'la', 'et', 'ku', 'fy', 'lv',\n",
       "       'ta', 'sl', 'tl', 'ur', 'rw', 'id', 'bg', 'mr', 'lt', 'kk', 'ms',\n",
       "       'sq', nan, 'qu', 'te', 'am', 'jv', 'tg', 'ml', 'hr', 'lo', 'ay',\n",
       "       'kn', 'eu', 'ne', 'pa', 'ky', 'gl', 'uz', 'sm', 'mt', 'hy', 'iu',\n",
       "       'lb', 'si'], dtype=object)"
      ]
     },
     "execution_count": 8,
     "metadata": {},
     "output_type": "execute_result"
    }
   ],
   "source": [
    "meta['original_language'].unique()"
   ]
  },
  {
   "cell_type": "code",
   "execution_count": 9,
   "metadata": {},
   "outputs": [
    {
     "data": {
      "text/plain": [
       "32269"
      ]
     },
     "execution_count": 9,
     "metadata": {},
     "output_type": "execute_result"
    }
   ],
   "source": [
    "(meta['original_language'] == 'en').sum()"
   ]
  },
  {
   "cell_type": "markdown",
   "metadata": {},
   "source": [
    "Chỉ lấy những movies có original_language là tiếng Anh"
   ]
  },
  {
   "cell_type": "code",
   "execution_count": 10,
   "metadata": {},
   "outputs": [],
   "source": [
    "meta = meta[meta['original_language'] == 'en']\n",
    "meta = meta.reset_index(drop=True)"
   ]
  },
  {
   "cell_type": "markdown",
   "metadata": {},
   "source": [
    "##### Status & Video"
   ]
  },
  {
   "cell_type": "code",
   "execution_count": 11,
   "metadata": {},
   "outputs": [
    {
     "data": {
      "text/plain": [
       "array(['Released', nan, 'Rumored', 'Post Production', 'In Production',\n",
       "       'Planned', 'Canceled'], dtype=object)"
      ]
     },
     "execution_count": 11,
     "metadata": {},
     "output_type": "execute_result"
    }
   ],
   "source": [
    "meta['status'].unique()"
   ]
  },
  {
   "cell_type": "code",
   "execution_count": 12,
   "metadata": {},
   "outputs": [
    {
     "name": "stdout",
     "output_type": "stream",
     "text": [
      "False\n",
      "True\n",
      "nan\n"
     ]
    }
   ],
   "source": [
    "print(*(i for i in meta['video'].unique()), sep=\"\\n\")\n"
   ]
  },
  {
   "cell_type": "markdown",
   "metadata": {},
   "source": [
    "##### Budget, runtime, popularity, revenue, vote_count, vote_average"
   ]
  },
  {
   "cell_type": "markdown",
   "metadata": {},
   "source": [
    "với budget <= 0 chuyển thành np.nan\n",
    "làm tương tự với runtime, popularity, revenue, vote_count, vote_average"
   ]
  },
  {
   "cell_type": "code",
   "execution_count": 13,
   "metadata": {},
   "outputs": [],
   "source": [
    "meta['budget'] = meta['budget'].astype(str).apply(lambda x: int(x) if x.isdigit() else np.nan)\n",
    "meta['popularity'] = pd.to_numeric(meta['popularity'], errors='coerce')"
   ]
  },
  {
   "cell_type": "code",
   "execution_count": 14,
   "metadata": {},
   "outputs": [],
   "source": [
    "list_cols=['budget','runtime','popularity','revenue','vote_count','vote_average']\n",
    "for i in list_cols:\n",
    "    meta.loc[meta[i] <= 0, i] = np.nan"
   ]
  },
  {
   "cell_type": "markdown",
   "metadata": {},
   "source": [
    "##### genres"
   ]
  },
  {
   "cell_type": "code",
   "execution_count": 15,
   "metadata": {},
   "outputs": [],
   "source": [
    "meta['genres_list'] = meta['genres'].fillna('[]').apply(literal_eval).apply(lambda x: [i['name'] for i in x] if isinstance(x, list) else [])\n",
    "meta['genres_list'] = meta['genres_list'].apply(lambda x: x if x else ['other'])"
   ]
  },
  {
   "cell_type": "markdown",
   "metadata": {},
   "source": [
    "##### production_companies & production_countries"
   ]
  },
  {
   "cell_type": "code",
   "execution_count": 16,
   "metadata": {},
   "outputs": [],
   "source": [
    "meta['production_countries'] = meta['production_countries'].fillna('[]').apply(literal_eval).apply(lambda x: [i['name'] for i in x] if isinstance(x, list) else [])\n",
    "meta['production_countries'] = meta['production_countries'].apply(lambda x: x if x else ['other'])\n",
    "\n",
    "meta['production_companies'] = meta['production_companies'].fillna('[]').apply(literal_eval).apply(lambda x: [i['name'] for i in x] if isinstance(x, list) else [])\n",
    "meta['production_companies'] = meta['production_companies'].apply(lambda x: x if x else ['other'])"
   ]
  },
  {
   "cell_type": "markdown",
   "metadata": {},
   "source": [
    "#### New data"
   ]
  },
  {
   "cell_type": "code",
   "execution_count": 17,
   "metadata": {},
   "outputs": [
    {
     "data": {
      "text/plain": [
       "adult                        0\n",
       "belongs_to_collection    29156\n",
       "budget                   24835\n",
       "genres                       0\n",
       "homepage                 26103\n",
       "id                           0\n",
       "imdb_id                     13\n",
       "original_language            0\n",
       "original_title               0\n",
       "overview                    69\n",
       "popularity                  50\n",
       "poster_path                323\n",
       "production_companies         0\n",
       "production_countries         0\n",
       "release_date                67\n",
       "revenue                  25913\n",
       "runtime                    757\n",
       "spoken_languages             2\n",
       "status                      70\n",
       "tagline                  14336\n",
       "title                        2\n",
       "video                        2\n",
       "vote_average              2252\n",
       "vote_count                2165\n",
       "year                        67\n",
       "genres_list                  0\n",
       "dtype: int64"
      ]
     },
     "execution_count": 17,
     "metadata": {},
     "output_type": "execute_result"
    }
   ],
   "source": [
    "meta.isnull().sum()"
   ]
  },
  {
   "cell_type": "code",
   "execution_count": 18,
   "metadata": {},
   "outputs": [
    {
     "data": {
      "image/png": "[encoded data removed]",
      "text/plain": [
       "<Figure size 640x480 with 1 Axes>"
      ]
     },
     "metadata": {},
     "output_type": "display_data"
    }
   ],
   "source": [
    "_ = sns.heatmap(meta.isnull(), yticklabels=False, cbar=False)"
   ]
  },
  {
   "cell_type": "code",
   "execution_count": 19,
   "metadata": {},
   "outputs": [
    {
     "data": {
      "text/html": [
       "<div>\n",
       "<style scoped>\n",
       "    .dataframe tbody tr th:only-of-type {\n",
       "        vertical-align: middle;\n",
       "    }\n",
       "\n",
       "    .dataframe tbody tr th {\n",
       "        vertical-align: top;\n",
       "    }\n",
       "\n",
       "    .dataframe thead th {\n",
       "        text-align: right;\n",
       "    }\n",
       "</style>\n",
       "<table border=\"1\" class=\"dataframe\">\n",
       "  <thead>\n",
       "    <tr style=\"text-align: right;\">\n",
       "      <th></th>\n",
       "      <th>id</th>\n",
       "      <th>popularity</th>\n",
       "      <th>production_companies</th>\n",
       "      <th>production_countries</th>\n",
       "      <th>runtime</th>\n",
       "      <th>title</th>\n",
       "      <th>vote_average</th>\n",
       "      <th>vote_count</th>\n",
       "      <th>year</th>\n",
       "      <th>genres_list</th>\n",
       "    </tr>\n",
       "  </thead>\n",
       "  <tbody>\n",
       "    <tr>\n",
       "      <th>0</th>\n",
       "      <td>862</td>\n",
       "      <td>21.946943</td>\n",
       "      <td>[Pixar Animation Studios]</td>\n",
       "      <td>[United States of America]</td>\n",
       "      <td>81.0</td>\n",
       "      <td>Toy Story</td>\n",
       "      <td>7.7</td>\n",
       "      <td>5415.0</td>\n",
       "      <td>1995.0</td>\n",
       "      <td>[Animation, Comedy, Family]</td>\n",
       "    </tr>\n",
       "    <tr>\n",
       "      <th>1</th>\n",
       "      <td>8844</td>\n",
       "      <td>17.015539</td>\n",
       "      <td>[TriStar Pictures, Teitler Film, Interscope Co...</td>\n",
       "      <td>[United States of America]</td>\n",
       "      <td>104.0</td>\n",
       "      <td>Jumanji</td>\n",
       "      <td>6.9</td>\n",
       "      <td>2413.0</td>\n",
       "      <td>1995.0</td>\n",
       "      <td>[Adventure, Fantasy, Family]</td>\n",
       "    </tr>\n",
       "    <tr>\n",
       "      <th>2</th>\n",
       "      <td>15602</td>\n",
       "      <td>11.712900</td>\n",
       "      <td>[Warner Bros., Lancaster Gate]</td>\n",
       "      <td>[United States of America]</td>\n",
       "      <td>101.0</td>\n",
       "      <td>Grumpier Old Men</td>\n",
       "      <td>6.5</td>\n",
       "      <td>92.0</td>\n",
       "      <td>1995.0</td>\n",
       "      <td>[Romance, Comedy]</td>\n",
       "    </tr>\n",
       "    <tr>\n",
       "      <th>3</th>\n",
       "      <td>31357</td>\n",
       "      <td>3.859495</td>\n",
       "      <td>[Twentieth Century Fox Film Corporation]</td>\n",
       "      <td>[United States of America]</td>\n",
       "      <td>127.0</td>\n",
       "      <td>Waiting to Exhale</td>\n",
       "      <td>6.1</td>\n",
       "      <td>34.0</td>\n",
       "      <td>1995.0</td>\n",
       "      <td>[Comedy, Drama, Romance]</td>\n",
       "    </tr>\n",
       "    <tr>\n",
       "      <th>4</th>\n",
       "      <td>11862</td>\n",
       "      <td>8.387519</td>\n",
       "      <td>[Sandollar Productions, Touchstone Pictures]</td>\n",
       "      <td>[United States of America]</td>\n",
       "      <td>106.0</td>\n",
       "      <td>Father of the Bride Part II</td>\n",
       "      <td>5.7</td>\n",
       "      <td>173.0</td>\n",
       "      <td>1995.0</td>\n",
       "      <td>[Comedy]</td>\n",
       "    </tr>\n",
       "  </tbody>\n",
       "</table>\n",
       "</div>"
      ],
      "text/plain": [
       "      id  popularity                               production_companies   \n",
       "0    862   21.946943                          [Pixar Animation Studios]  \\\n",
       "1   8844   17.015539  [TriStar Pictures, Teitler Film, Interscope Co...   \n",
       "2  15602   11.712900                     [Warner Bros., Lancaster Gate]   \n",
       "3  31357    3.859495           [Twentieth Century Fox Film Corporation]   \n",
       "4  11862    8.387519       [Sandollar Productions, Touchstone Pictures]   \n",
       "\n",
       "         production_countries  runtime                        title   \n",
       "0  [United States of America]     81.0                    Toy Story  \\\n",
       "1  [United States of America]    104.0                      Jumanji   \n",
       "2  [United States of America]    101.0             Grumpier Old Men   \n",
       "3  [United States of America]    127.0            Waiting to Exhale   \n",
       "4  [United States of America]    106.0  Father of the Bride Part II   \n",
       "\n",
       "   vote_average  vote_count    year                   genres_list  \n",
       "0           7.7      5415.0  1995.0   [Animation, Comedy, Family]  \n",
       "1           6.9      2413.0  1995.0  [Adventure, Fantasy, Family]  \n",
       "2           6.5        92.0  1995.0             [Romance, Comedy]  \n",
       "3           6.1        34.0  1995.0      [Comedy, Drama, Romance]  \n",
       "4           5.7       173.0  1995.0                      [Comedy]  "
      ]
     },
     "execution_count": 19,
     "metadata": {},
     "output_type": "execute_result"
    }
   ],
   "source": [
    "new = meta.drop(columns = ['imdb_id', 'adult', 'video', 'status', 'belongs_to_collection','budget', 'homepage', 'original_title', 'overview', 'spoken_languages', 'tagline', 'release_date', 'original_language', 'poster_path', 'revenue', 'genres'])\n",
    "new.head()"
   ]
  },
  {
   "cell_type": "markdown",
   "metadata": {},
   "source": [
    "### credits.csv"
   ]
  },
  {
   "cell_type": "markdown",
   "metadata": {},
   "source": [
    "##### Read"
   ]
  },
  {
   "cell_type": "code",
   "execution_count": 20,
   "metadata": {},
   "outputs": [
    {
     "data": {
      "text/html": [
       "<div>\n",
       "<style scoped>\n",
       "    .dataframe tbody tr th:only-of-type {\n",
       "        vertical-align: middle;\n",
       "    }\n",
       "\n",
       "    .dataframe tbody tr th {\n",
       "        vertical-align: top;\n",
       "    }\n",
       "\n",
       "    .dataframe thead th {\n",
       "        text-align: right;\n",
       "    }\n",
       "</style>\n",
       "<table border=\"1\" class=\"dataframe\">\n",
       "  <thead>\n",
       "    <tr style=\"text-align: right;\">\n",
       "      <th></th>\n",
       "      <th>cast</th>\n",
       "      <th>crew</th>\n",
       "      <th>id</th>\n",
       "    </tr>\n",
       "  </thead>\n",
       "  <tbody>\n",
       "    <tr>\n",
       "      <th>0</th>\n",
       "      <td>[{'cast_id': 14, 'character': 'Woody (voice)',...</td>\n",
       "      <td>[{'credit_id': '52fe4284c3a36847f8024f49', 'de...</td>\n",
       "      <td>862</td>\n",
       "    </tr>\n",
       "    <tr>\n",
       "      <th>1</th>\n",
       "      <td>[{'cast_id': 1, 'character': 'Alan Parrish', '...</td>\n",
       "      <td>[{'credit_id': '52fe44bfc3a36847f80a7cd1', 'de...</td>\n",
       "      <td>8844</td>\n",
       "    </tr>\n",
       "    <tr>\n",
       "      <th>2</th>\n",
       "      <td>[{'cast_id': 2, 'character': 'Max Goldman', 'c...</td>\n",
       "      <td>[{'credit_id': '52fe466a9251416c75077a89', 'de...</td>\n",
       "      <td>15602</td>\n",
       "    </tr>\n",
       "    <tr>\n",
       "      <th>3</th>\n",
       "      <td>[{'cast_id': 1, 'character': \"Savannah 'Vannah...</td>\n",
       "      <td>[{'credit_id': '52fe44779251416c91011acb', 'de...</td>\n",
       "      <td>31357</td>\n",
       "    </tr>\n",
       "    <tr>\n",
       "      <th>4</th>\n",
       "      <td>[{'cast_id': 1, 'character': 'George Banks', '...</td>\n",
       "      <td>[{'credit_id': '52fe44959251416c75039ed7', 'de...</td>\n",
       "      <td>11862</td>\n",
       "    </tr>\n",
       "    <tr>\n",
       "      <th>...</th>\n",
       "      <td>...</td>\n",
       "      <td>...</td>\n",
       "      <td>...</td>\n",
       "    </tr>\n",
       "    <tr>\n",
       "      <th>45471</th>\n",
       "      <td>[{'cast_id': 0, 'character': '', 'credit_id': ...</td>\n",
       "      <td>[{'credit_id': '5894a97d925141426c00818c', 'de...</td>\n",
       "      <td>439050</td>\n",
       "    </tr>\n",
       "    <tr>\n",
       "      <th>45472</th>\n",
       "      <td>[{'cast_id': 1002, 'character': 'Sister Angela...</td>\n",
       "      <td>[{'credit_id': '52fe4af1c3a36847f81e9b15', 'de...</td>\n",
       "      <td>111109</td>\n",
       "    </tr>\n",
       "    <tr>\n",
       "      <th>45473</th>\n",
       "      <td>[{'cast_id': 6, 'character': 'Emily Shaw', 'cr...</td>\n",
       "      <td>[{'credit_id': '52fe4776c3a368484e0c8387', 'de...</td>\n",
       "      <td>67758</td>\n",
       "    </tr>\n",
       "    <tr>\n",
       "      <th>45474</th>\n",
       "      <td>[{'cast_id': 2, 'character': '', 'credit_id': ...</td>\n",
       "      <td>[{'credit_id': '533bccebc3a36844cf0011a7', 'de...</td>\n",
       "      <td>227506</td>\n",
       "    </tr>\n",
       "    <tr>\n",
       "      <th>45475</th>\n",
       "      <td>[]</td>\n",
       "      <td>[{'credit_id': '593e676c92514105b702e68e', 'de...</td>\n",
       "      <td>461257</td>\n",
       "    </tr>\n",
       "  </tbody>\n",
       "</table>\n",
       "<p>45476 rows × 3 columns</p>\n",
       "</div>"
      ],
      "text/plain": [
       "                                                    cast   \n",
       "0      [{'cast_id': 14, 'character': 'Woody (voice)',...  \\\n",
       "1      [{'cast_id': 1, 'character': 'Alan Parrish', '...   \n",
       "2      [{'cast_id': 2, 'character': 'Max Goldman', 'c...   \n",
       "3      [{'cast_id': 1, 'character': \"Savannah 'Vannah...   \n",
       "4      [{'cast_id': 1, 'character': 'George Banks', '...   \n",
       "...                                                  ...   \n",
       "45471  [{'cast_id': 0, 'character': '', 'credit_id': ...   \n",
       "45472  [{'cast_id': 1002, 'character': 'Sister Angela...   \n",
       "45473  [{'cast_id': 6, 'character': 'Emily Shaw', 'cr...   \n",
       "45474  [{'cast_id': 2, 'character': '', 'credit_id': ...   \n",
       "45475                                                 []   \n",
       "\n",
       "                                                    crew      id  \n",
       "0      [{'credit_id': '52fe4284c3a36847f8024f49', 'de...     862  \n",
       "1      [{'credit_id': '52fe44bfc3a36847f80a7cd1', 'de...    8844  \n",
       "2      [{'credit_id': '52fe466a9251416c75077a89', 'de...   15602  \n",
       "3      [{'credit_id': '52fe44779251416c91011acb', 'de...   31357  \n",
       "4      [{'credit_id': '52fe44959251416c75039ed7', 'de...   11862  \n",
       "...                                                  ...     ...  \n",
       "45471  [{'credit_id': '5894a97d925141426c00818c', 'de...  439050  \n",
       "45472  [{'credit_id': '52fe4af1c3a36847f81e9b15', 'de...  111109  \n",
       "45473  [{'credit_id': '52fe4776c3a368484e0c8387', 'de...   67758  \n",
       "45474  [{'credit_id': '533bccebc3a36844cf0011a7', 'de...  227506  \n",
       "45475  [{'credit_id': '593e676c92514105b702e68e', 'de...  461257  \n",
       "\n",
       "[45476 rows x 3 columns]"
      ]
     },
     "execution_count": 20,
     "metadata": {},
     "output_type": "execute_result"
    }
   ],
   "source": [
    "credits = pd.read_csv('credits.csv', encoding='utf-8')\n",
    "credits"
   ]
  },
  {
   "cell_type": "markdown",
   "metadata": {},
   "source": [
    "##### Actors"
   ]
  },
  {
   "cell_type": "code",
   "execution_count": 21,
   "metadata": {},
   "outputs": [],
   "source": [
    "credits['actor'] = credits['cast'].fillna('[]').apply(literal_eval).apply(lambda x: [i['name'] for i in x[:5]] if isinstance(x, list) else [])\n",
    "credits['actor'] = credits['actor'].apply(lambda x: x if x else ['unknown'])"
   ]
  },
  {
   "cell_type": "markdown",
   "metadata": {},
   "source": [
    "##### Director"
   ]
  },
  {
   "cell_type": "code",
   "execution_count": 22,
   "metadata": {},
   "outputs": [],
   "source": [
    "def get_director(x):\n",
    "    for i in x:\n",
    "        if i['job'] == 'Director':\n",
    "            return i['name']\n",
    "    return 'unknown'"
   ]
  },
  {
   "cell_type": "code",
   "execution_count": 23,
   "metadata": {},
   "outputs": [],
   "source": [
    "credits['director_name'] = credits['crew'].apply(literal_eval).map(lambda x: get_director(x))"
   ]
  },
  {
   "cell_type": "markdown",
   "metadata": {},
   "source": [
    "##### new"
   ]
  },
  {
   "cell_type": "code",
   "execution_count": 24,
   "metadata": {},
   "outputs": [
    {
     "data": {
      "text/html": [
       "<div>\n",
       "<style scoped>\n",
       "    .dataframe tbody tr th:only-of-type {\n",
       "        vertical-align: middle;\n",
       "    }\n",
       "\n",
       "    .dataframe tbody tr th {\n",
       "        vertical-align: top;\n",
       "    }\n",
       "\n",
       "    .dataframe thead th {\n",
       "        text-align: right;\n",
       "    }\n",
       "</style>\n",
       "<table border=\"1\" class=\"dataframe\">\n",
       "  <thead>\n",
       "    <tr style=\"text-align: right;\">\n",
       "      <th></th>\n",
       "      <th>id</th>\n",
       "      <th>actor</th>\n",
       "      <th>director_name</th>\n",
       "    </tr>\n",
       "  </thead>\n",
       "  <tbody>\n",
       "    <tr>\n",
       "      <th>0</th>\n",
       "      <td>862</td>\n",
       "      <td>[Tom Hanks, Tim Allen, Don Rickles, Jim Varney...</td>\n",
       "      <td>John Lasseter</td>\n",
       "    </tr>\n",
       "    <tr>\n",
       "      <th>1</th>\n",
       "      <td>8844</td>\n",
       "      <td>[Robin Williams, Jonathan Hyde, Kirsten Dunst,...</td>\n",
       "      <td>Joe Johnston</td>\n",
       "    </tr>\n",
       "    <tr>\n",
       "      <th>2</th>\n",
       "      <td>15602</td>\n",
       "      <td>[Walter Matthau, Jack Lemmon, Ann-Margret, Sop...</td>\n",
       "      <td>Howard Deutch</td>\n",
       "    </tr>\n",
       "    <tr>\n",
       "      <th>3</th>\n",
       "      <td>31357</td>\n",
       "      <td>[Whitney Houston, Angela Bassett, Loretta Devi...</td>\n",
       "      <td>Forest Whitaker</td>\n",
       "    </tr>\n",
       "    <tr>\n",
       "      <th>4</th>\n",
       "      <td>11862</td>\n",
       "      <td>[Steve Martin, Diane Keaton, Martin Short, Kim...</td>\n",
       "      <td>Charles Shyer</td>\n",
       "    </tr>\n",
       "  </tbody>\n",
       "</table>\n",
       "</div>"
      ],
      "text/plain": [
       "      id                                              actor    director_name\n",
       "0    862  [Tom Hanks, Tim Allen, Don Rickles, Jim Varney...    John Lasseter\n",
       "1   8844  [Robin Williams, Jonathan Hyde, Kirsten Dunst,...     Joe Johnston\n",
       "2  15602  [Walter Matthau, Jack Lemmon, Ann-Margret, Sop...    Howard Deutch\n",
       "3  31357  [Whitney Houston, Angela Bassett, Loretta Devi...  Forest Whitaker\n",
       "4  11862  [Steve Martin, Diane Keaton, Martin Short, Kim...    Charles Shyer"
      ]
     },
     "execution_count": 24,
     "metadata": {},
     "output_type": "execute_result"
    }
   ],
   "source": [
    "credits = credits.drop(columns = ['cast', 'crew'])\n",
    "credits.head()"
   ]
  },
  {
   "cell_type": "markdown",
   "metadata": {},
   "source": [
    "### Keywords"
   ]
  },
  {
   "cell_type": "code",
   "execution_count": 25,
   "metadata": {},
   "outputs": [
    {
     "data": {
      "text/html": [
       "<div>\n",
       "<style scoped>\n",
       "    .dataframe tbody tr th:only-of-type {\n",
       "        vertical-align: middle;\n",
       "    }\n",
       "\n",
       "    .dataframe tbody tr th {\n",
       "        vertical-align: top;\n",
       "    }\n",
       "\n",
       "    .dataframe thead th {\n",
       "        text-align: right;\n",
       "    }\n",
       "</style>\n",
       "<table border=\"1\" class=\"dataframe\">\n",
       "  <thead>\n",
       "    <tr style=\"text-align: right;\">\n",
       "      <th></th>\n",
       "      <th>id</th>\n",
       "      <th>keywords</th>\n",
       "    </tr>\n",
       "  </thead>\n",
       "  <tbody>\n",
       "    <tr>\n",
       "      <th>0</th>\n",
       "      <td>862</td>\n",
       "      <td>[{'id': 931, 'name': 'jealousy'}, {'id': 4290,...</td>\n",
       "    </tr>\n",
       "    <tr>\n",
       "      <th>1</th>\n",
       "      <td>8844</td>\n",
       "      <td>[{'id': 10090, 'name': 'board game'}, {'id': 1...</td>\n",
       "    </tr>\n",
       "    <tr>\n",
       "      <th>2</th>\n",
       "      <td>15602</td>\n",
       "      <td>[{'id': 1495, 'name': 'fishing'}, {'id': 12392...</td>\n",
       "    </tr>\n",
       "    <tr>\n",
       "      <th>3</th>\n",
       "      <td>31357</td>\n",
       "      <td>[{'id': 818, 'name': 'based on novel'}, {'id':...</td>\n",
       "    </tr>\n",
       "    <tr>\n",
       "      <th>4</th>\n",
       "      <td>11862</td>\n",
       "      <td>[{'id': 1009, 'name': 'baby'}, {'id': 1599, 'n...</td>\n",
       "    </tr>\n",
       "    <tr>\n",
       "      <th>...</th>\n",
       "      <td>...</td>\n",
       "      <td>...</td>\n",
       "    </tr>\n",
       "    <tr>\n",
       "      <th>46414</th>\n",
       "      <td>439050</td>\n",
       "      <td>[{'id': 10703, 'name': 'tragic love'}]</td>\n",
       "    </tr>\n",
       "    <tr>\n",
       "      <th>46415</th>\n",
       "      <td>111109</td>\n",
       "      <td>[{'id': 2679, 'name': 'artist'}, {'id': 14531,...</td>\n",
       "    </tr>\n",
       "    <tr>\n",
       "      <th>46416</th>\n",
       "      <td>67758</td>\n",
       "      <td>[]</td>\n",
       "    </tr>\n",
       "    <tr>\n",
       "      <th>46417</th>\n",
       "      <td>227506</td>\n",
       "      <td>[]</td>\n",
       "    </tr>\n",
       "    <tr>\n",
       "      <th>46418</th>\n",
       "      <td>461257</td>\n",
       "      <td>[]</td>\n",
       "    </tr>\n",
       "  </tbody>\n",
       "</table>\n",
       "<p>45432 rows × 2 columns</p>\n",
       "</div>"
      ],
      "text/plain": [
       "           id                                           keywords\n",
       "0         862  [{'id': 931, 'name': 'jealousy'}, {'id': 4290,...\n",
       "1        8844  [{'id': 10090, 'name': 'board game'}, {'id': 1...\n",
       "2       15602  [{'id': 1495, 'name': 'fishing'}, {'id': 12392...\n",
       "3       31357  [{'id': 818, 'name': 'based on novel'}, {'id':...\n",
       "4       11862  [{'id': 1009, 'name': 'baby'}, {'id': 1599, 'n...\n",
       "...       ...                                                ...\n",
       "46414  439050             [{'id': 10703, 'name': 'tragic love'}]\n",
       "46415  111109  [{'id': 2679, 'name': 'artist'}, {'id': 14531,...\n",
       "46416   67758                                                 []\n",
       "46417  227506                                                 []\n",
       "46418  461257                                                 []\n",
       "\n",
       "[45432 rows x 2 columns]"
      ]
     },
     "execution_count": 25,
     "metadata": {},
     "output_type": "execute_result"
    }
   ],
   "source": [
    "key=pd.read_csv('keywords.csv')\n",
    "key=key.drop_duplicates(subset='id', keep='first')\n",
    "key"
   ]
  },
  {
   "cell_type": "code",
   "execution_count": 26,
   "metadata": {},
   "outputs": [],
   "source": [
    "key['keywords'] = key['keywords'].fillna('[]').apply(literal_eval).apply(lambda x: [i['name'] for i in x] if isinstance(x, list) else [])\n",
    "key['keywords'] = key['keywords'].apply(lambda x: x if x else ['other'])\n"
   ]
  },
  {
   "cell_type": "code",
   "execution_count": 27,
   "metadata": {},
   "outputs": [
    {
     "data": {
      "text/html": [
       "<div>\n",
       "<style scoped>\n",
       "    .dataframe tbody tr th:only-of-type {\n",
       "        vertical-align: middle;\n",
       "    }\n",
       "\n",
       "    .dataframe tbody tr th {\n",
       "        vertical-align: top;\n",
       "    }\n",
       "\n",
       "    .dataframe thead th {\n",
       "        text-align: right;\n",
       "    }\n",
       "</style>\n",
       "<table border=\"1\" class=\"dataframe\">\n",
       "  <thead>\n",
       "    <tr style=\"text-align: right;\">\n",
       "      <th></th>\n",
       "      <th>id</th>\n",
       "      <th>keywords</th>\n",
       "    </tr>\n",
       "  </thead>\n",
       "  <tbody>\n",
       "    <tr>\n",
       "      <th>0</th>\n",
       "      <td>862</td>\n",
       "      <td>[jealousy, toy, boy, friendship, friends, riva...</td>\n",
       "    </tr>\n",
       "    <tr>\n",
       "      <th>1</th>\n",
       "      <td>8844</td>\n",
       "      <td>[board game, disappearance, based on children'...</td>\n",
       "    </tr>\n",
       "    <tr>\n",
       "      <th>2</th>\n",
       "      <td>15602</td>\n",
       "      <td>[fishing, best friend, duringcreditsstinger, o...</td>\n",
       "    </tr>\n",
       "    <tr>\n",
       "      <th>3</th>\n",
       "      <td>31357</td>\n",
       "      <td>[based on novel, interracial relationship, sin...</td>\n",
       "    </tr>\n",
       "    <tr>\n",
       "      <th>4</th>\n",
       "      <td>11862</td>\n",
       "      <td>[baby, midlife crisis, confidence, aging, daug...</td>\n",
       "    </tr>\n",
       "    <tr>\n",
       "      <th>...</th>\n",
       "      <td>...</td>\n",
       "      <td>...</td>\n",
       "    </tr>\n",
       "    <tr>\n",
       "      <th>46414</th>\n",
       "      <td>439050</td>\n",
       "      <td>[tragic love]</td>\n",
       "    </tr>\n",
       "    <tr>\n",
       "      <th>46415</th>\n",
       "      <td>111109</td>\n",
       "      <td>[artist, play, pinoy]</td>\n",
       "    </tr>\n",
       "    <tr>\n",
       "      <th>46416</th>\n",
       "      <td>67758</td>\n",
       "      <td>[other]</td>\n",
       "    </tr>\n",
       "    <tr>\n",
       "      <th>46417</th>\n",
       "      <td>227506</td>\n",
       "      <td>[other]</td>\n",
       "    </tr>\n",
       "    <tr>\n",
       "      <th>46418</th>\n",
       "      <td>461257</td>\n",
       "      <td>[other]</td>\n",
       "    </tr>\n",
       "  </tbody>\n",
       "</table>\n",
       "<p>45432 rows × 2 columns</p>\n",
       "</div>"
      ],
      "text/plain": [
       "           id                                           keywords\n",
       "0         862  [jealousy, toy, boy, friendship, friends, riva...\n",
       "1        8844  [board game, disappearance, based on children'...\n",
       "2       15602  [fishing, best friend, duringcreditsstinger, o...\n",
       "3       31357  [based on novel, interracial relationship, sin...\n",
       "4       11862  [baby, midlife crisis, confidence, aging, daug...\n",
       "...       ...                                                ...\n",
       "46414  439050                                      [tragic love]\n",
       "46415  111109                              [artist, play, pinoy]\n",
       "46416   67758                                            [other]\n",
       "46417  227506                                            [other]\n",
       "46418  461257                                            [other]\n",
       "\n",
       "[45432 rows x 2 columns]"
      ]
     },
     "execution_count": 27,
     "metadata": {},
     "output_type": "execute_result"
    }
   ],
   "source": [
    "key"
   ]
  },
  {
   "cell_type": "markdown",
   "metadata": {},
   "source": [
    "## Full data"
   ]
  },
  {
   "cell_type": "code",
   "execution_count": 28,
   "metadata": {},
   "outputs": [
    {
     "data": {
      "text/html": [
       "<div>\n",
       "<style scoped>\n",
       "    .dataframe tbody tr th:only-of-type {\n",
       "        vertical-align: middle;\n",
       "    }\n",
       "\n",
       "    .dataframe tbody tr th {\n",
       "        vertical-align: top;\n",
       "    }\n",
       "\n",
       "    .dataframe thead th {\n",
       "        text-align: right;\n",
       "    }\n",
       "</style>\n",
       "<table border=\"1\" class=\"dataframe\">\n",
       "  <thead>\n",
       "    <tr style=\"text-align: right;\">\n",
       "      <th></th>\n",
       "      <th>id</th>\n",
       "      <th>popularity</th>\n",
       "      <th>production_companies</th>\n",
       "      <th>production_countries</th>\n",
       "      <th>runtime</th>\n",
       "      <th>title</th>\n",
       "      <th>vote_average</th>\n",
       "      <th>vote_count</th>\n",
       "      <th>year</th>\n",
       "      <th>genres_list</th>\n",
       "      <th>actor</th>\n",
       "      <th>director_name</th>\n",
       "      <th>keywords</th>\n",
       "    </tr>\n",
       "  </thead>\n",
       "  <tbody>\n",
       "    <tr>\n",
       "      <th>0</th>\n",
       "      <td>862</td>\n",
       "      <td>21.946943</td>\n",
       "      <td>[Pixar Animation Studios]</td>\n",
       "      <td>[United States of America]</td>\n",
       "      <td>81.0</td>\n",
       "      <td>Toy Story</td>\n",
       "      <td>7.7</td>\n",
       "      <td>5415.0</td>\n",
       "      <td>1995.0</td>\n",
       "      <td>[Animation, Comedy, Family]</td>\n",
       "      <td>[Tom Hanks, Tim Allen, Don Rickles, Jim Varney...</td>\n",
       "      <td>John Lasseter</td>\n",
       "      <td>[jealousy, toy, boy, friendship, friends, riva...</td>\n",
       "    </tr>\n",
       "    <tr>\n",
       "      <th>1</th>\n",
       "      <td>8844</td>\n",
       "      <td>17.015539</td>\n",
       "      <td>[TriStar Pictures, Teitler Film, Interscope Co...</td>\n",
       "      <td>[United States of America]</td>\n",
       "      <td>104.0</td>\n",
       "      <td>Jumanji</td>\n",
       "      <td>6.9</td>\n",
       "      <td>2413.0</td>\n",
       "      <td>1995.0</td>\n",
       "      <td>[Adventure, Fantasy, Family]</td>\n",
       "      <td>[Robin Williams, Jonathan Hyde, Kirsten Dunst,...</td>\n",
       "      <td>Joe Johnston</td>\n",
       "      <td>[board game, disappearance, based on children'...</td>\n",
       "    </tr>\n",
       "    <tr>\n",
       "      <th>2</th>\n",
       "      <td>15602</td>\n",
       "      <td>11.712900</td>\n",
       "      <td>[Warner Bros., Lancaster Gate]</td>\n",
       "      <td>[United States of America]</td>\n",
       "      <td>101.0</td>\n",
       "      <td>Grumpier Old Men</td>\n",
       "      <td>6.5</td>\n",
       "      <td>92.0</td>\n",
       "      <td>1995.0</td>\n",
       "      <td>[Romance, Comedy]</td>\n",
       "      <td>[Walter Matthau, Jack Lemmon, Ann-Margret, Sop...</td>\n",
       "      <td>Howard Deutch</td>\n",
       "      <td>[fishing, best friend, duringcreditsstinger, o...</td>\n",
       "    </tr>\n",
       "    <tr>\n",
       "      <th>3</th>\n",
       "      <td>31357</td>\n",
       "      <td>3.859495</td>\n",
       "      <td>[Twentieth Century Fox Film Corporation]</td>\n",
       "      <td>[United States of America]</td>\n",
       "      <td>127.0</td>\n",
       "      <td>Waiting to Exhale</td>\n",
       "      <td>6.1</td>\n",
       "      <td>34.0</td>\n",
       "      <td>1995.0</td>\n",
       "      <td>[Comedy, Drama, Romance]</td>\n",
       "      <td>[Whitney Houston, Angela Bassett, Loretta Devi...</td>\n",
       "      <td>Forest Whitaker</td>\n",
       "      <td>[based on novel, interracial relationship, sin...</td>\n",
       "    </tr>\n",
       "    <tr>\n",
       "      <th>4</th>\n",
       "      <td>11862</td>\n",
       "      <td>8.387519</td>\n",
       "      <td>[Sandollar Productions, Touchstone Pictures]</td>\n",
       "      <td>[United States of America]</td>\n",
       "      <td>106.0</td>\n",
       "      <td>Father of the Bride Part II</td>\n",
       "      <td>5.7</td>\n",
       "      <td>173.0</td>\n",
       "      <td>1995.0</td>\n",
       "      <td>[Comedy]</td>\n",
       "      <td>[Steve Martin, Diane Keaton, Martin Short, Kim...</td>\n",
       "      <td>Charles Shyer</td>\n",
       "      <td>[baby, midlife crisis, confidence, aging, daug...</td>\n",
       "    </tr>\n",
       "    <tr>\n",
       "      <th>...</th>\n",
       "      <td>...</td>\n",
       "      <td>...</td>\n",
       "      <td>...</td>\n",
       "      <td>...</td>\n",
       "      <td>...</td>\n",
       "      <td>...</td>\n",
       "      <td>...</td>\n",
       "      <td>...</td>\n",
       "      <td>...</td>\n",
       "      <td>...</td>\n",
       "      <td>...</td>\n",
       "      <td>...</td>\n",
       "      <td>...</td>\n",
       "    </tr>\n",
       "    <tr>\n",
       "      <th>32311</th>\n",
       "      <td>222848</td>\n",
       "      <td>0.661558</td>\n",
       "      <td>[Concorde-New Horizons]</td>\n",
       "      <td>[United States of America]</td>\n",
       "      <td>85.0</td>\n",
       "      <td>Caged Heat 3000</td>\n",
       "      <td>3.5</td>\n",
       "      <td>1.0</td>\n",
       "      <td>1995.0</td>\n",
       "      <td>[Science Fiction]</td>\n",
       "      <td>[Lisa Boyle, Kena Land, Zaneta Polard, Don Yan...</td>\n",
       "      <td>Aaron Osborne</td>\n",
       "      <td>[other]</td>\n",
       "    </tr>\n",
       "    <tr>\n",
       "      <th>32312</th>\n",
       "      <td>30840</td>\n",
       "      <td>5.683753</td>\n",
       "      <td>[Westdeutscher Rundfunk (WDR), Working Title F...</td>\n",
       "      <td>[Canada, Germany, United Kingdom, United State...</td>\n",
       "      <td>104.0</td>\n",
       "      <td>Robin Hood</td>\n",
       "      <td>5.7</td>\n",
       "      <td>26.0</td>\n",
       "      <td>1991.0</td>\n",
       "      <td>[Drama, Action, Romance]</td>\n",
       "      <td>[Patrick Bergin, Uma Thurman, David Morrissey,...</td>\n",
       "      <td>John Irvin</td>\n",
       "      <td>[other]</td>\n",
       "    </tr>\n",
       "    <tr>\n",
       "      <th>32313</th>\n",
       "      <td>67758</td>\n",
       "      <td>0.903007</td>\n",
       "      <td>[American World Pictures]</td>\n",
       "      <td>[United States of America]</td>\n",
       "      <td>90.0</td>\n",
       "      <td>Betrayal</td>\n",
       "      <td>3.8</td>\n",
       "      <td>6.0</td>\n",
       "      <td>2003.0</td>\n",
       "      <td>[Action, Drama, Thriller]</td>\n",
       "      <td>[Erika Eleniak, Adam Baldwin, Julie du Page, J...</td>\n",
       "      <td>Mark L. Lester</td>\n",
       "      <td>[other]</td>\n",
       "    </tr>\n",
       "    <tr>\n",
       "      <th>32314</th>\n",
       "      <td>227506</td>\n",
       "      <td>0.003503</td>\n",
       "      <td>[Yermoliev]</td>\n",
       "      <td>[Russia]</td>\n",
       "      <td>87.0</td>\n",
       "      <td>Satan Triumphant</td>\n",
       "      <td>NaN</td>\n",
       "      <td>NaN</td>\n",
       "      <td>1917.0</td>\n",
       "      <td>[other]</td>\n",
       "      <td>[Iwan Mosschuchin, Nathalie Lissenko, Pavel Pa...</td>\n",
       "      <td>Yakov Protazanov</td>\n",
       "      <td>[other]</td>\n",
       "    </tr>\n",
       "    <tr>\n",
       "      <th>32315</th>\n",
       "      <td>461257</td>\n",
       "      <td>0.163015</td>\n",
       "      <td>[other]</td>\n",
       "      <td>[United Kingdom]</td>\n",
       "      <td>75.0</td>\n",
       "      <td>Queerama</td>\n",
       "      <td>NaN</td>\n",
       "      <td>NaN</td>\n",
       "      <td>2017.0</td>\n",
       "      <td>[other]</td>\n",
       "      <td>[unknown]</td>\n",
       "      <td>Daisy Asquith</td>\n",
       "      <td>[other]</td>\n",
       "    </tr>\n",
       "  </tbody>\n",
       "</table>\n",
       "<p>32251 rows × 13 columns</p>\n",
       "</div>"
      ],
      "text/plain": [
       "           id  popularity                               production_companies   \n",
       "0         862   21.946943                          [Pixar Animation Studios]  \\\n",
       "1        8844   17.015539  [TriStar Pictures, Teitler Film, Interscope Co...   \n",
       "2       15602   11.712900                     [Warner Bros., Lancaster Gate]   \n",
       "3       31357    3.859495           [Twentieth Century Fox Film Corporation]   \n",
       "4       11862    8.387519       [Sandollar Productions, Touchstone Pictures]   \n",
       "...       ...         ...                                                ...   \n",
       "32311  222848    0.661558                            [Concorde-New Horizons]   \n",
       "32312   30840    5.683753  [Westdeutscher Rundfunk (WDR), Working Title F...   \n",
       "32313   67758    0.903007                          [American World Pictures]   \n",
       "32314  227506    0.003503                                        [Yermoliev]   \n",
       "32315  461257    0.163015                                            [other]   \n",
       "\n",
       "                                    production_countries  runtime   \n",
       "0                             [United States of America]     81.0  \\\n",
       "1                             [United States of America]    104.0   \n",
       "2                             [United States of America]    101.0   \n",
       "3                             [United States of America]    127.0   \n",
       "4                             [United States of America]    106.0   \n",
       "...                                                  ...      ...   \n",
       "32311                         [United States of America]     85.0   \n",
       "32312  [Canada, Germany, United Kingdom, United State...    104.0   \n",
       "32313                         [United States of America]     90.0   \n",
       "32314                                           [Russia]     87.0   \n",
       "32315                                   [United Kingdom]     75.0   \n",
       "\n",
       "                             title  vote_average  vote_count    year   \n",
       "0                        Toy Story           7.7      5415.0  1995.0  \\\n",
       "1                          Jumanji           6.9      2413.0  1995.0   \n",
       "2                 Grumpier Old Men           6.5        92.0  1995.0   \n",
       "3                Waiting to Exhale           6.1        34.0  1995.0   \n",
       "4      Father of the Bride Part II           5.7       173.0  1995.0   \n",
       "...                            ...           ...         ...     ...   \n",
       "32311              Caged Heat 3000           3.5         1.0  1995.0   \n",
       "32312                   Robin Hood           5.7        26.0  1991.0   \n",
       "32313                     Betrayal           3.8         6.0  2003.0   \n",
       "32314             Satan Triumphant           NaN         NaN  1917.0   \n",
       "32315                     Queerama           NaN         NaN  2017.0   \n",
       "\n",
       "                        genres_list   \n",
       "0       [Animation, Comedy, Family]  \\\n",
       "1      [Adventure, Fantasy, Family]   \n",
       "2                 [Romance, Comedy]   \n",
       "3          [Comedy, Drama, Romance]   \n",
       "4                          [Comedy]   \n",
       "...                             ...   \n",
       "32311             [Science Fiction]   \n",
       "32312      [Drama, Action, Romance]   \n",
       "32313     [Action, Drama, Thriller]   \n",
       "32314                       [other]   \n",
       "32315                       [other]   \n",
       "\n",
       "                                                   actor     director_name   \n",
       "0      [Tom Hanks, Tim Allen, Don Rickles, Jim Varney...     John Lasseter  \\\n",
       "1      [Robin Williams, Jonathan Hyde, Kirsten Dunst,...      Joe Johnston   \n",
       "2      [Walter Matthau, Jack Lemmon, Ann-Margret, Sop...     Howard Deutch   \n",
       "3      [Whitney Houston, Angela Bassett, Loretta Devi...   Forest Whitaker   \n",
       "4      [Steve Martin, Diane Keaton, Martin Short, Kim...     Charles Shyer   \n",
       "...                                                  ...               ...   \n",
       "32311  [Lisa Boyle, Kena Land, Zaneta Polard, Don Yan...     Aaron Osborne   \n",
       "32312  [Patrick Bergin, Uma Thurman, David Morrissey,...        John Irvin   \n",
       "32313  [Erika Eleniak, Adam Baldwin, Julie du Page, J...    Mark L. Lester   \n",
       "32314  [Iwan Mosschuchin, Nathalie Lissenko, Pavel Pa...  Yakov Protazanov   \n",
       "32315                                          [unknown]     Daisy Asquith   \n",
       "\n",
       "                                                keywords  \n",
       "0      [jealousy, toy, boy, friendship, friends, riva...  \n",
       "1      [board game, disappearance, based on children'...  \n",
       "2      [fishing, best friend, duringcreditsstinger, o...  \n",
       "3      [based on novel, interracial relationship, sin...  \n",
       "4      [baby, midlife crisis, confidence, aging, daug...  \n",
       "...                                                  ...  \n",
       "32311                                            [other]  \n",
       "32312                                            [other]  \n",
       "32313                                            [other]  \n",
       "32314                                            [other]  \n",
       "32315                                            [other]  \n",
       "\n",
       "[32251 rows x 13 columns]"
      ]
     },
     "execution_count": 28,
     "metadata": {},
     "output_type": "execute_result"
    }
   ],
   "source": [
    "new['id'] = meta['id'].astype(int)\n",
    "merge_movies = pd.merge(new, credits, on='id', how='inner')\n",
    "merge_movies = pd.merge(merge_movies, key, on='id', how='inner')\n",
    "merge_movies.drop_duplicates(subset='id', keep='first', inplace=True)\n",
    "merge_movies"
   ]
  },
  {
   "cell_type": "code",
   "execution_count": 29,
   "metadata": {},
   "outputs": [
    {
     "data": {
      "text/plain": [
       "id                         0\n",
       "popularity                50\n",
       "production_companies       0\n",
       "production_countries       0\n",
       "runtime                  757\n",
       "title                      2\n",
       "vote_average            2250\n",
       "vote_count              2163\n",
       "year                      67\n",
       "genres_list                0\n",
       "actor                      0\n",
       "director_name              0\n",
       "keywords                   0\n",
       "dtype: int64"
      ]
     },
     "execution_count": 29,
     "metadata": {},
     "output_type": "execute_result"
    }
   ],
   "source": [
    "merge_movies.isnull().sum()"
   ]
  },
  {
   "cell_type": "code",
   "execution_count": 30,
   "metadata": {},
   "outputs": [
    {
     "data": {
      "text/html": [
       "<div>\n",
       "<style scoped>\n",
       "    .dataframe tbody tr th:only-of-type {\n",
       "        vertical-align: middle;\n",
       "    }\n",
       "\n",
       "    .dataframe tbody tr th {\n",
       "        vertical-align: top;\n",
       "    }\n",
       "\n",
       "    .dataframe thead th {\n",
       "        text-align: right;\n",
       "    }\n",
       "</style>\n",
       "<table border=\"1\" class=\"dataframe\">\n",
       "  <thead>\n",
       "    <tr style=\"text-align: right;\">\n",
       "      <th></th>\n",
       "      <th>id</th>\n",
       "      <th>popularity</th>\n",
       "      <th>production_companies</th>\n",
       "      <th>production_countries</th>\n",
       "      <th>runtime</th>\n",
       "      <th>title</th>\n",
       "      <th>vote_average</th>\n",
       "      <th>vote_count</th>\n",
       "      <th>year</th>\n",
       "      <th>genres_list</th>\n",
       "      <th>actor</th>\n",
       "      <th>director_name</th>\n",
       "      <th>keywords</th>\n",
       "    </tr>\n",
       "  </thead>\n",
       "  <tbody>\n",
       "    <tr>\n",
       "      <th>0</th>\n",
       "      <td>862</td>\n",
       "      <td>21.946943</td>\n",
       "      <td>[Pixar Animation Studios]</td>\n",
       "      <td>[United States of America]</td>\n",
       "      <td>81.0</td>\n",
       "      <td>Toy Story</td>\n",
       "      <td>7.7</td>\n",
       "      <td>5415.0</td>\n",
       "      <td>1995.0</td>\n",
       "      <td>[Animation, Comedy, Family]</td>\n",
       "      <td>[Tom Hanks, Tim Allen, Don Rickles, Jim Varney...</td>\n",
       "      <td>John Lasseter</td>\n",
       "      <td>[jealousy, toy, boy, friendship, friends, riva...</td>\n",
       "    </tr>\n",
       "    <tr>\n",
       "      <th>1</th>\n",
       "      <td>8844</td>\n",
       "      <td>17.015539</td>\n",
       "      <td>[TriStar Pictures, Teitler Film, Interscope Co...</td>\n",
       "      <td>[United States of America]</td>\n",
       "      <td>104.0</td>\n",
       "      <td>Jumanji</td>\n",
       "      <td>6.9</td>\n",
       "      <td>2413.0</td>\n",
       "      <td>1995.0</td>\n",
       "      <td>[Adventure, Fantasy, Family]</td>\n",
       "      <td>[Robin Williams, Jonathan Hyde, Kirsten Dunst,...</td>\n",
       "      <td>Joe Johnston</td>\n",
       "      <td>[board game, disappearance, based on children'...</td>\n",
       "    </tr>\n",
       "    <tr>\n",
       "      <th>2</th>\n",
       "      <td>15602</td>\n",
       "      <td>11.712900</td>\n",
       "      <td>[Warner Bros., Lancaster Gate]</td>\n",
       "      <td>[United States of America]</td>\n",
       "      <td>101.0</td>\n",
       "      <td>Grumpier Old Men</td>\n",
       "      <td>6.5</td>\n",
       "      <td>92.0</td>\n",
       "      <td>1995.0</td>\n",
       "      <td>[Romance, Comedy]</td>\n",
       "      <td>[Walter Matthau, Jack Lemmon, Ann-Margret, Sop...</td>\n",
       "      <td>Howard Deutch</td>\n",
       "      <td>[fishing, best friend, duringcreditsstinger, o...</td>\n",
       "    </tr>\n",
       "    <tr>\n",
       "      <th>3</th>\n",
       "      <td>31357</td>\n",
       "      <td>3.859495</td>\n",
       "      <td>[Twentieth Century Fox Film Corporation]</td>\n",
       "      <td>[United States of America]</td>\n",
       "      <td>127.0</td>\n",
       "      <td>Waiting to Exhale</td>\n",
       "      <td>6.1</td>\n",
       "      <td>34.0</td>\n",
       "      <td>1995.0</td>\n",
       "      <td>[Comedy, Drama, Romance]</td>\n",
       "      <td>[Whitney Houston, Angela Bassett, Loretta Devi...</td>\n",
       "      <td>Forest Whitaker</td>\n",
       "      <td>[based on novel, interracial relationship, sin...</td>\n",
       "    </tr>\n",
       "    <tr>\n",
       "      <th>4</th>\n",
       "      <td>11862</td>\n",
       "      <td>8.387519</td>\n",
       "      <td>[Sandollar Productions, Touchstone Pictures]</td>\n",
       "      <td>[United States of America]</td>\n",
       "      <td>106.0</td>\n",
       "      <td>Father of the Bride Part II</td>\n",
       "      <td>5.7</td>\n",
       "      <td>173.0</td>\n",
       "      <td>1995.0</td>\n",
       "      <td>[Comedy]</td>\n",
       "      <td>[Steve Martin, Diane Keaton, Martin Short, Kim...</td>\n",
       "      <td>Charles Shyer</td>\n",
       "      <td>[baby, midlife crisis, confidence, aging, daug...</td>\n",
       "    </tr>\n",
       "    <tr>\n",
       "      <th>...</th>\n",
       "      <td>...</td>\n",
       "      <td>...</td>\n",
       "      <td>...</td>\n",
       "      <td>...</td>\n",
       "      <td>...</td>\n",
       "      <td>...</td>\n",
       "      <td>...</td>\n",
       "      <td>...</td>\n",
       "      <td>...</td>\n",
       "      <td>...</td>\n",
       "      <td>...</td>\n",
       "      <td>...</td>\n",
       "      <td>...</td>\n",
       "    </tr>\n",
       "    <tr>\n",
       "      <th>32309</th>\n",
       "      <td>390959</td>\n",
       "      <td>0.076061</td>\n",
       "      <td>[other]</td>\n",
       "      <td>[other]</td>\n",
       "      <td>45.0</td>\n",
       "      <td>Shadow of the Blair Witch</td>\n",
       "      <td>7.0</td>\n",
       "      <td>2.0</td>\n",
       "      <td>2000.0</td>\n",
       "      <td>[Mystery, Horror]</td>\n",
       "      <td>[Tony Abatemarco, Andre Brooks, Mariclare Cost...</td>\n",
       "      <td>Ben Rock</td>\n",
       "      <td>[blair witch]</td>\n",
       "    </tr>\n",
       "    <tr>\n",
       "      <th>32310</th>\n",
       "      <td>289923</td>\n",
       "      <td>0.386450</td>\n",
       "      <td>[Neptune Salad Entertainment, Pirie Productions]</td>\n",
       "      <td>[United States of America]</td>\n",
       "      <td>30.0</td>\n",
       "      <td>The Burkittsville 7</td>\n",
       "      <td>7.0</td>\n",
       "      <td>1.0</td>\n",
       "      <td>2000.0</td>\n",
       "      <td>[Horror]</td>\n",
       "      <td>[Monty Bane, Lucy Butler, David Grammer, Bill ...</td>\n",
       "      <td>Ben Rock</td>\n",
       "      <td>[witch, mythology, legend, serial killer, mock...</td>\n",
       "    </tr>\n",
       "    <tr>\n",
       "      <th>32311</th>\n",
       "      <td>222848</td>\n",
       "      <td>0.661558</td>\n",
       "      <td>[Concorde-New Horizons]</td>\n",
       "      <td>[United States of America]</td>\n",
       "      <td>85.0</td>\n",
       "      <td>Caged Heat 3000</td>\n",
       "      <td>3.5</td>\n",
       "      <td>1.0</td>\n",
       "      <td>1995.0</td>\n",
       "      <td>[Science Fiction]</td>\n",
       "      <td>[Lisa Boyle, Kena Land, Zaneta Polard, Don Yan...</td>\n",
       "      <td>Aaron Osborne</td>\n",
       "      <td>[other]</td>\n",
       "    </tr>\n",
       "    <tr>\n",
       "      <th>32312</th>\n",
       "      <td>30840</td>\n",
       "      <td>5.683753</td>\n",
       "      <td>[Westdeutscher Rundfunk (WDR), Working Title F...</td>\n",
       "      <td>[Canada, Germany, United Kingdom, United State...</td>\n",
       "      <td>104.0</td>\n",
       "      <td>Robin Hood</td>\n",
       "      <td>5.7</td>\n",
       "      <td>26.0</td>\n",
       "      <td>1991.0</td>\n",
       "      <td>[Drama, Action, Romance]</td>\n",
       "      <td>[Patrick Bergin, Uma Thurman, David Morrissey,...</td>\n",
       "      <td>John Irvin</td>\n",
       "      <td>[other]</td>\n",
       "    </tr>\n",
       "    <tr>\n",
       "      <th>32313</th>\n",
       "      <td>67758</td>\n",
       "      <td>0.903007</td>\n",
       "      <td>[American World Pictures]</td>\n",
       "      <td>[United States of America]</td>\n",
       "      <td>90.0</td>\n",
       "      <td>Betrayal</td>\n",
       "      <td>3.8</td>\n",
       "      <td>6.0</td>\n",
       "      <td>2003.0</td>\n",
       "      <td>[Action, Drama, Thriller]</td>\n",
       "      <td>[Erika Eleniak, Adam Baldwin, Julie du Page, J...</td>\n",
       "      <td>Mark L. Lester</td>\n",
       "      <td>[other]</td>\n",
       "    </tr>\n",
       "  </tbody>\n",
       "</table>\n",
       "<p>29465 rows × 13 columns</p>\n",
       "</div>"
      ],
      "text/plain": [
       "           id  popularity                               production_companies   \n",
       "0         862   21.946943                          [Pixar Animation Studios]  \\\n",
       "1        8844   17.015539  [TriStar Pictures, Teitler Film, Interscope Co...   \n",
       "2       15602   11.712900                     [Warner Bros., Lancaster Gate]   \n",
       "3       31357    3.859495           [Twentieth Century Fox Film Corporation]   \n",
       "4       11862    8.387519       [Sandollar Productions, Touchstone Pictures]   \n",
       "...       ...         ...                                                ...   \n",
       "32309  390959    0.076061                                            [other]   \n",
       "32310  289923    0.386450   [Neptune Salad Entertainment, Pirie Productions]   \n",
       "32311  222848    0.661558                            [Concorde-New Horizons]   \n",
       "32312   30840    5.683753  [Westdeutscher Rundfunk (WDR), Working Title F...   \n",
       "32313   67758    0.903007                          [American World Pictures]   \n",
       "\n",
       "                                    production_countries  runtime   \n",
       "0                             [United States of America]     81.0  \\\n",
       "1                             [United States of America]    104.0   \n",
       "2                             [United States of America]    101.0   \n",
       "3                             [United States of America]    127.0   \n",
       "4                             [United States of America]    106.0   \n",
       "...                                                  ...      ...   \n",
       "32309                                            [other]     45.0   \n",
       "32310                         [United States of America]     30.0   \n",
       "32311                         [United States of America]     85.0   \n",
       "32312  [Canada, Germany, United Kingdom, United State...    104.0   \n",
       "32313                         [United States of America]     90.0   \n",
       "\n",
       "                             title  vote_average  vote_count    year   \n",
       "0                        Toy Story           7.7      5415.0  1995.0  \\\n",
       "1                          Jumanji           6.9      2413.0  1995.0   \n",
       "2                 Grumpier Old Men           6.5        92.0  1995.0   \n",
       "3                Waiting to Exhale           6.1        34.0  1995.0   \n",
       "4      Father of the Bride Part II           5.7       173.0  1995.0   \n",
       "...                            ...           ...         ...     ...   \n",
       "32309    Shadow of the Blair Witch           7.0         2.0  2000.0   \n",
       "32310          The Burkittsville 7           7.0         1.0  2000.0   \n",
       "32311              Caged Heat 3000           3.5         1.0  1995.0   \n",
       "32312                   Robin Hood           5.7        26.0  1991.0   \n",
       "32313                     Betrayal           3.8         6.0  2003.0   \n",
       "\n",
       "                        genres_list   \n",
       "0       [Animation, Comedy, Family]  \\\n",
       "1      [Adventure, Fantasy, Family]   \n",
       "2                 [Romance, Comedy]   \n",
       "3          [Comedy, Drama, Romance]   \n",
       "4                          [Comedy]   \n",
       "...                             ...   \n",
       "32309             [Mystery, Horror]   \n",
       "32310                      [Horror]   \n",
       "32311             [Science Fiction]   \n",
       "32312      [Drama, Action, Romance]   \n",
       "32313     [Action, Drama, Thriller]   \n",
       "\n",
       "                                                   actor    director_name   \n",
       "0      [Tom Hanks, Tim Allen, Don Rickles, Jim Varney...    John Lasseter  \\\n",
       "1      [Robin Williams, Jonathan Hyde, Kirsten Dunst,...     Joe Johnston   \n",
       "2      [Walter Matthau, Jack Lemmon, Ann-Margret, Sop...    Howard Deutch   \n",
       "3      [Whitney Houston, Angela Bassett, Loretta Devi...  Forest Whitaker   \n",
       "4      [Steve Martin, Diane Keaton, Martin Short, Kim...    Charles Shyer   \n",
       "...                                                  ...              ...   \n",
       "32309  [Tony Abatemarco, Andre Brooks, Mariclare Cost...         Ben Rock   \n",
       "32310  [Monty Bane, Lucy Butler, David Grammer, Bill ...         Ben Rock   \n",
       "32311  [Lisa Boyle, Kena Land, Zaneta Polard, Don Yan...    Aaron Osborne   \n",
       "32312  [Patrick Bergin, Uma Thurman, David Morrissey,...       John Irvin   \n",
       "32313  [Erika Eleniak, Adam Baldwin, Julie du Page, J...   Mark L. Lester   \n",
       "\n",
       "                                                keywords  \n",
       "0      [jealousy, toy, boy, friendship, friends, riva...  \n",
       "1      [board game, disappearance, based on children'...  \n",
       "2      [fishing, best friend, duringcreditsstinger, o...  \n",
       "3      [based on novel, interracial relationship, sin...  \n",
       "4      [baby, midlife crisis, confidence, aging, daug...  \n",
       "...                                                  ...  \n",
       "32309                                      [blair witch]  \n",
       "32310  [witch, mythology, legend, serial killer, mock...  \n",
       "32311                                            [other]  \n",
       "32312                                            [other]  \n",
       "32313                                            [other]  \n",
       "\n",
       "[29465 rows x 13 columns]"
      ]
     },
     "execution_count": 30,
     "metadata": {},
     "output_type": "execute_result"
    }
   ],
   "source": [
    "merge_movies = merge_movies.dropna()\n",
    "merge_movies"
   ]
  },
  {
   "cell_type": "code",
   "execution_count": 52,
   "metadata": {},
   "outputs": [],
   "source": [
    "merge_movies.to_csv('data.csv', index=False)"
   ]
  },
  {
   "cell_type": "markdown",
   "metadata": {},
   "source": [
    "## Visualize"
   ]
  },
  {
   "cell_type": "code",
   "execution_count": 36,
   "metadata": {},
   "outputs": [],
   "source": [
    "def get_counts(data, col):\n",
    "    counts = {}\n",
    "    for _, row in data.iterrows():\n",
    "        if isinstance(row[col], list):\n",
    "            genres = row[col]\n",
    "            for genre in genres:\n",
    "                if genre in counts:\n",
    "                    counts[genre] += 1\n",
    "                else:\n",
    "                    counts[genre] = 1\n",
    "    return counts"
   ]
  },
  {
   "cell_type": "code",
   "execution_count": 37,
   "metadata": {},
   "outputs": [
    {
     "data": {
      "application/vnd.plotly.v1+json": {
       "config": {
        "plotlyServerURL": "https://plot.ly"
       },
       "data": [
        {
         "alignmentgroup": "True",
         "hovertemplate": "color=Foreign<br>x=%{x}<br>y=%{y}<extra></extra>",
         "legendgroup": "Foreign",
         "marker": {
          "color": "#abaeab",
          "pattern": {
           "shape": ""
          }
         },
         "name": "Foreign",
         "offsetgroup": "Foreign",
         "orientation": "v",
         "showlegend": true,
         "textposition": "auto",
         "type": "bar",
         "x": [
          "Foreign"
         ],
         "xaxis": "x",
         "y": [
          623
         ],
         "yaxis": "y"
        },
        {
         "alignmentgroup": "True",
         "hovertemplate": "color=TV Movie<br>x=%{x}<br>y=%{y}<extra></extra>",
         "legendgroup": "TV Movie",
         "marker": {
          "color": "#abaeab",
          "pattern": {
           "shape": ""
          }
         },
         "name": "TV Movie",
         "offsetgroup": "TV Movie",
         "orientation": "v",
         "showlegend": true,
         "textposition": "auto",
         "type": "bar",
         "x": [
          "TV Movie"
         ],
         "xaxis": "x",
         "y": [
          638
         ],
         "yaxis": "y"
        },
        {
         "alignmentgroup": "True",
         "hovertemplate": "color=Western<br>x=%{x}<br>y=%{y}<extra></extra>",
         "legendgroup": "Western",
         "marker": {
          "color": "#abaeab",
          "pattern": {
           "shape": ""
          }
         },
         "name": "Western",
         "offsetgroup": "Western",
         "orientation": "v",
         "showlegend": true,
         "textposition": "auto",
         "type": "bar",
         "x": [
          "Western"
         ],
         "xaxis": "x",
         "y": [
          769
         ],
         "yaxis": "y"
        },
        {
         "alignmentgroup": "True",
         "hovertemplate": "color=History<br>x=%{x}<br>y=%{y}<extra></extra>",
         "legendgroup": "History",
         "marker": {
          "color": "#abaeab",
          "pattern": {
           "shape": ""
          }
         },
         "name": "History",
         "offsetgroup": "History",
         "orientation": "v",
         "showlegend": true,
         "textposition": "auto",
         "type": "bar",
         "x": [
          "History"
         ],
         "xaxis": "x",
         "y": [
          834
         ],
         "yaxis": "y"
        },
        {
         "alignmentgroup": "True",
         "hovertemplate": "color=War<br>x=%{x}<br>y=%{y}<extra></extra>",
         "legendgroup": "War",
         "marker": {
          "color": "#abaeab",
          "pattern": {
           "shape": ""
          }
         },
         "name": "War",
         "offsetgroup": "War",
         "orientation": "v",
         "showlegend": true,
         "textposition": "auto",
         "type": "bar",
         "x": [
          "War"
         ],
         "xaxis": "x",
         "y": [
          840
         ],
         "yaxis": "y"
        },
        {
         "alignmentgroup": "True",
         "hovertemplate": "color=other<br>x=%{x}<br>y=%{y}<extra></extra>",
         "legendgroup": "other",
         "marker": {
          "color": "#abaeab",
          "pattern": {
           "shape": ""
          }
         },
         "name": "other",
         "offsetgroup": "other",
         "orientation": "v",
         "showlegend": true,
         "textposition": "auto",
         "type": "bar",
         "x": [
          "other"
         ],
         "xaxis": "x",
         "y": [
          985
         ],
         "yaxis": "y"
        },
        {
         "alignmentgroup": "True",
         "hovertemplate": "color=Animation<br>x=%{x}<br>y=%{y}<extra></extra>",
         "legendgroup": "Animation",
         "marker": {
          "color": "#A0E045",
          "pattern": {
           "shape": ""
          }
         },
         "name": "Animation",
         "offsetgroup": "Animation",
         "orientation": "v",
         "showlegend": true,
         "textposition": "auto",
         "type": "bar",
         "x": [
          "Animation"
         ],
         "xaxis": "x",
         "y": [
          1203
         ],
         "yaxis": "y"
        },
        {
         "alignmentgroup": "True",
         "hovertemplate": "color=Music<br>x=%{x}<br>y=%{y}<extra></extra>",
         "legendgroup": "Music",
         "marker": {
          "color": "#A0E045",
          "pattern": {
           "shape": ""
          }
         },
         "name": "Music",
         "offsetgroup": "Music",
         "orientation": "v",
         "showlegend": true,
         "textposition": "auto",
         "type": "bar",
         "x": [
          "Music"
         ],
         "xaxis": "x",
         "y": [
          1266
         ],
         "yaxis": "y"
        },
        {
         "alignmentgroup": "True",
         "hovertemplate": "color=Fantasy<br>x=%{x}<br>y=%{y}<extra></extra>",
         "legendgroup": "Fantasy",
         "marker": {
          "color": "#A0E045",
          "pattern": {
           "shape": ""
          }
         },
         "name": "Fantasy",
         "offsetgroup": "Fantasy",
         "orientation": "v",
         "showlegend": true,
         "textposition": "auto",
         "type": "bar",
         "x": [
          "Fantasy"
         ],
         "xaxis": "x",
         "y": [
          1543
         ],
         "yaxis": "y"
        },
        {
         "alignmentgroup": "True",
         "hovertemplate": "color=Mystery<br>x=%{x}<br>y=%{y}<extra></extra>",
         "legendgroup": "Mystery",
         "marker": {
          "color": "#A0E045",
          "pattern": {
           "shape": ""
          }
         },
         "name": "Mystery",
         "offsetgroup": "Mystery",
         "orientation": "v",
         "showlegend": true,
         "textposition": "auto",
         "type": "bar",
         "x": [
          "Mystery"
         ],
         "xaxis": "x",
         "y": [
          1846
         ],
         "yaxis": "y"
        },
        {
         "alignmentgroup": "True",
         "hovertemplate": "color=Family<br>x=%{x}<br>y=%{y}<extra></extra>",
         "legendgroup": "Family",
         "marker": {
          "color": "#A0E045",
          "pattern": {
           "shape": ""
          }
         },
         "name": "Family",
         "offsetgroup": "Family",
         "orientation": "v",
         "showlegend": true,
         "textposition": "auto",
         "type": "bar",
         "x": [
          "Family"
         ],
         "xaxis": "x",
         "y": [
          2186
         ],
         "yaxis": "y"
        },
        {
         "alignmentgroup": "True",
         "hovertemplate": "color=Science Fiction<br>x=%{x}<br>y=%{y}<extra></extra>",
         "legendgroup": "Science Fiction",
         "marker": {
          "color": "#A0E045",
          "pattern": {
           "shape": ""
          }
         },
         "name": "Science Fiction",
         "offsetgroup": "Science Fiction",
         "orientation": "v",
         "showlegend": true,
         "textposition": "auto",
         "type": "bar",
         "x": [
          "Science Fiction"
         ],
         "xaxis": "x",
         "y": [
          2368
         ],
         "yaxis": "y"
        },
        {
         "alignmentgroup": "True",
         "hovertemplate": "color=Adventure<br>x=%{x}<br>y=%{y}<extra></extra>",
         "legendgroup": "Adventure",
         "marker": {
          "color": "#A0E045",
          "pattern": {
           "shape": ""
          }
         },
         "name": "Adventure",
         "offsetgroup": "Adventure",
         "orientation": "v",
         "showlegend": true,
         "textposition": "auto",
         "type": "bar",
         "x": [
          "Adventure"
         ],
         "xaxis": "x",
         "y": [
          2570
         ],
         "yaxis": "y"
        },
        {
         "alignmentgroup": "True",
         "hovertemplate": "color=Documentary<br>x=%{x}<br>y=%{y}<extra></extra>",
         "legendgroup": "Documentary",
         "marker": {
          "color": "#A0E045",
          "pattern": {
           "shape": ""
          }
         },
         "name": "Documentary",
         "offsetgroup": "Documentary",
         "orientation": "v",
         "showlegend": true,
         "textposition": "auto",
         "type": "bar",
         "x": [
          "Documentary"
         ],
         "xaxis": "x",
         "y": [
          2861
         ],
         "yaxis": "y"
        },
        {
         "alignmentgroup": "True",
         "hovertemplate": "color=Crime<br>x=%{x}<br>y=%{y}<extra></extra>",
         "legendgroup": "Crime",
         "marker": {
          "color": "#A0E045",
          "pattern": {
           "shape": ""
          }
         },
         "name": "Crime",
         "offsetgroup": "Crime",
         "orientation": "v",
         "showlegend": true,
         "textposition": "auto",
         "type": "bar",
         "x": [
          "Crime"
         ],
         "xaxis": "x",
         "y": [
          3024
         ],
         "yaxis": "y"
        },
        {
         "alignmentgroup": "True",
         "hovertemplate": "color=Horror<br>x=%{x}<br>y=%{y}<extra></extra>",
         "legendgroup": "Horror",
         "marker": {
          "color": "#A0E045",
          "pattern": {
           "shape": ""
          }
         },
         "name": "Horror",
         "offsetgroup": "Horror",
         "orientation": "v",
         "showlegend": true,
         "textposition": "auto",
         "type": "bar",
         "x": [
          "Horror"
         ],
         "xaxis": "x",
         "y": [
          3692
         ],
         "yaxis": "y"
        },
        {
         "alignmentgroup": "True",
         "hovertemplate": "color=Romance<br>x=%{x}<br>y=%{y}<extra></extra>",
         "legendgroup": "Romance",
         "marker": {
          "color": "#A0E045",
          "pattern": {
           "shape": ""
          }
         },
         "name": "Romance",
         "offsetgroup": "Romance",
         "orientation": "v",
         "showlegend": true,
         "textposition": "auto",
         "type": "bar",
         "x": [
          "Romance"
         ],
         "xaxis": "x",
         "y": [
          4547
         ],
         "yaxis": "y"
        },
        {
         "alignmentgroup": "True",
         "hovertemplate": "color=Action<br>x=%{x}<br>y=%{y}<extra></extra>",
         "legendgroup": "Action",
         "marker": {
          "color": "#A0E045",
          "pattern": {
           "shape": ""
          }
         },
         "name": "Action",
         "offsetgroup": "Action",
         "orientation": "v",
         "showlegend": true,
         "textposition": "auto",
         "type": "bar",
         "x": [
          "Action"
         ],
         "xaxis": "x",
         "y": [
          4558
         ],
         "yaxis": "y"
        },
        {
         "alignmentgroup": "True",
         "hovertemplate": "color=Thriller<br>x=%{x}<br>y=%{y}<extra></extra>",
         "legendgroup": "Thriller",
         "marker": {
          "color": "#A0E045",
          "pattern": {
           "shape": ""
          }
         },
         "name": "Thriller",
         "offsetgroup": "Thriller",
         "orientation": "v",
         "showlegend": true,
         "textposition": "auto",
         "type": "bar",
         "x": [
          "Thriller"
         ],
         "xaxis": "x",
         "y": [
          5789
         ],
         "yaxis": "y"
        },
        {
         "alignmentgroup": "True",
         "hovertemplate": "color=Comedy<br>x=%{x}<br>y=%{y}<extra></extra>",
         "legendgroup": "Comedy",
         "marker": {
          "color": "#A0E045",
          "pattern": {
           "shape": ""
          }
         },
         "name": "Comedy",
         "offsetgroup": "Comedy",
         "orientation": "v",
         "showlegend": true,
         "textposition": "auto",
         "type": "bar",
         "x": [
          "Comedy"
         ],
         "xaxis": "x",
         "y": [
          8776
         ],
         "yaxis": "y"
        },
        {
         "alignmentgroup": "True",
         "hovertemplate": "color=Drama<br>x=%{x}<br>y=%{y}<extra></extra>",
         "legendgroup": "Drama",
         "marker": {
          "color": "#A0E045",
          "pattern": {
           "shape": ""
          }
         },
         "name": "Drama",
         "offsetgroup": "Drama",
         "orientation": "v",
         "showlegend": true,
         "textposition": "auto",
         "type": "bar",
         "x": [
          "Drama"
         ],
         "xaxis": "x",
         "y": [
          12451
         ],
         "yaxis": "y"
        }
       ],
       "layout": {
        "barmode": "relative",
        "legend": {
         "title": {
          "text": "color"
         },
         "tracegroupgap": 0
        },
        "template": {
         "data": {
          "bar": [
           {
            "error_x": {
             "color": "#2a3f5f"
            },
            "error_y": {
             "color": "#2a3f5f"
            },
            "marker": {
             "line": {
              "color": "#E5ECF6",
              "width": 0.5
             },
             "pattern": {
              "fillmode": "overlay",
              "size": 10,
              "solidity": 0.2
             }
            },
            "type": "bar"
           }
          ],
          "barpolar": [
           {
            "marker": {
             "line": {
              "color": "#E5ECF6",
              "width": 0.5
             },
             "pattern": {
              "fillmode": "overlay",
              "size": 10,
              "solidity": 0.2
             }
            },
            "type": "barpolar"
           }
          ],
          "carpet": [
           {
            "aaxis": {
             "endlinecolor": "#2a3f5f",
             "gridcolor": "white",
             "linecolor": "white",
             "minorgridcolor": "white",
             "startlinecolor": "#2a3f5f"
            },
            "baxis": {
             "endlinecolor": "#2a3f5f",
             "gridcolor": "white",
             "linecolor": "white",
             "minorgridcolor": "white",
             "startlinecolor": "#2a3f5f"
            },
            "type": "carpet"
           }
          ],
          "choropleth": [
           {
            "colorbar": {
             "outlinewidth": 0,
             "ticks": ""
            },
            "type": "choropleth"
           }
          ],
          "contour": [
           {
            "colorbar": {
             "outlinewidth": 0,
             "ticks": ""
            },
            "colorscale": [
             [
              0,
              "#0d0887"
             ],
             [
              0.1111111111111111,
              "#46039f"
             ],
             [
              0.2222222222222222,
              "#7201a8"
             ],
             [
              0.3333333333333333,
              "#9c179e"
             ],
             [
              0.4444444444444444,
              "#bd3786"
             ],
             [
              0.5555555555555556,
              "#d8576b"
             ],
             [
              0.6666666666666666,
              "#ed7953"
             ],
             [
              0.7777777777777778,
              "#fb9f3a"
             ],
             [
              0.8888888888888888,
              "#fdca26"
             ],
             [
              1,
              "#f0f921"
             ]
            ],
            "type": "contour"
           }
          ],
          "contourcarpet": [
           {
            "colorbar": {
             "outlinewidth": 0,
             "ticks": ""
            },
            "type": "contourcarpet"
           }
          ],
          "heatmap": [
           {
            "colorbar": {
             "outlinewidth": 0,
             "ticks": ""
            },
            "colorscale": [
             [
              0,
              "#0d0887"
             ],
             [
              0.1111111111111111,
              "#46039f"
             ],
             [
              0.2222222222222222,
              "#7201a8"
             ],
             [
              0.3333333333333333,
              "#9c179e"
             ],
             [
              0.4444444444444444,
              "#bd3786"
             ],
             [
              0.5555555555555556,
              "#d8576b"
             ],
             [
              0.6666666666666666,
              "#ed7953"
             ],
             [
              0.7777777777777778,
              "#fb9f3a"
             ],
             [
              0.8888888888888888,
              "#fdca26"
             ],
             [
              1,
              "#f0f921"
             ]
            ],
            "type": "heatmap"
           }
          ],
          "heatmapgl": [
           {
            "colorbar": {
             "outlinewidth": 0,
             "ticks": ""
            },
            "colorscale": [
             [
              0,
              "#0d0887"
             ],
             [
              0.1111111111111111,
              "#46039f"
             ],
             [
              0.2222222222222222,
              "#7201a8"
             ],
             [
              0.3333333333333333,
              "#9c179e"
             ],
             [
              0.4444444444444444,
              "#bd3786"
             ],
             [
              0.5555555555555556,
              "#d8576b"
             ],
             [
              0.6666666666666666,
              "#ed7953"
             ],
             [
              0.7777777777777778,
              "#fb9f3a"
             ],
             [
              0.8888888888888888,
              "#fdca26"
             ],
             [
              1,
              "#f0f921"
             ]
            ],
            "type": "heatmapgl"
           }
          ],
          "histogram": [
           {
            "marker": {
             "pattern": {
              "fillmode": "overlay",
              "size": 10,
              "solidity": 0.2
             }
            },
            "type": "histogram"
           }
          ],
          "histogram2d": [
           {
            "colorbar": {
             "outlinewidth": 0,
             "ticks": ""
            },
            "colorscale": [
             [
              0,
              "#0d0887"
             ],
             [
              0.1111111111111111,
              "#46039f"
             ],
             [
              0.2222222222222222,
              "#7201a8"
             ],
             [
              0.3333333333333333,
              "#9c179e"
             ],
             [
              0.4444444444444444,
              "#bd3786"
             ],
             [
              0.5555555555555556,
              "#d8576b"
             ],
             [
              0.6666666666666666,
              "#ed7953"
             ],
             [
              0.7777777777777778,
              "#fb9f3a"
             ],
             [
              0.8888888888888888,
              "#fdca26"
             ],
             [
              1,
              "#f0f921"
             ]
            ],
            "type": "histogram2d"
           }
          ],
          "histogram2dcontour": [
           {
            "colorbar": {
             "outlinewidth": 0,
             "ticks": ""
            },
            "colorscale": [
             [
              0,
              "#0d0887"
             ],
             [
              0.1111111111111111,
              "#46039f"
             ],
             [
              0.2222222222222222,
              "#7201a8"
             ],
             [
              0.3333333333333333,
              "#9c179e"
             ],
             [
              0.4444444444444444,
              "#bd3786"
             ],
             [
              0.5555555555555556,
              "#d8576b"
             ],
             [
              0.6666666666666666,
              "#ed7953"
             ],
             [
              0.7777777777777778,
              "#fb9f3a"
             ],
             [
              0.8888888888888888,
              "#fdca26"
             ],
             [
              1,
              "#f0f921"
             ]
            ],
            "type": "histogram2dcontour"
           }
          ],
          "mesh3d": [
           {
            "colorbar": {
             "outlinewidth": 0,
             "ticks": ""
            },
            "type": "mesh3d"
           }
          ],
          "parcoords": [
           {
            "line": {
             "colorbar": {
              "outlinewidth": 0,
              "ticks": ""
             }
            },
            "type": "parcoords"
           }
          ],
          "pie": [
           {
            "automargin": true,
            "type": "pie"
           }
          ],
          "scatter": [
           {
            "fillpattern": {
             "fillmode": "overlay",
             "size": 10,
             "solidity": 0.2
            },
            "type": "scatter"
           }
          ],
          "scatter3d": [
           {
            "line": {
             "colorbar": {
              "outlinewidth": 0,
              "ticks": ""
             }
            },
            "marker": {
             "colorbar": {
              "outlinewidth": 0,
              "ticks": ""
             }
            },
            "type": "scatter3d"
           }
          ],
          "scattercarpet": [
           {
            "marker": {
             "colorbar": {
              "outlinewidth": 0,
              "ticks": ""
             }
            },
            "type": "scattercarpet"
           }
          ],
          "scattergeo": [
           {
            "marker": {
             "colorbar": {
              "outlinewidth": 0,
              "ticks": ""
             }
            },
            "type": "scattergeo"
           }
          ],
          "scattergl": [
           {
            "marker": {
             "colorbar": {
              "outlinewidth": 0,
              "ticks": ""
             }
            },
            "type": "scattergl"
           }
          ],
          "scattermapbox": [
           {
            "marker": {
             "colorbar": {
              "outlinewidth": 0,
              "ticks": ""
             }
            },
            "type": "scattermapbox"
           }
          ],
          "scatterpolar": [
           {
            "marker": {
             "colorbar": {
              "outlinewidth": 0,
              "ticks": ""
             }
            },
            "type": "scatterpolar"
           }
          ],
          "scatterpolargl": [
           {
            "marker": {
             "colorbar": {
              "outlinewidth": 0,
              "ticks": ""
             }
            },
            "type": "scatterpolargl"
           }
          ],
          "scatterternary": [
           {
            "marker": {
             "colorbar": {
              "outlinewidth": 0,
              "ticks": ""
             }
            },
            "type": "scatterternary"
           }
          ],
          "surface": [
           {
            "colorbar": {
             "outlinewidth": 0,
             "ticks": ""
            },
            "colorscale": [
             [
              0,
              "#0d0887"
             ],
             [
              0.1111111111111111,
              "#46039f"
             ],
             [
              0.2222222222222222,
              "#7201a8"
             ],
             [
              0.3333333333333333,
              "#9c179e"
             ],
             [
              0.4444444444444444,
              "#bd3786"
             ],
             [
              0.5555555555555556,
              "#d8576b"
             ],
             [
              0.6666666666666666,
              "#ed7953"
             ],
             [
              0.7777777777777778,
              "#fb9f3a"
             ],
             [
              0.8888888888888888,
              "#fdca26"
             ],
             [
              1,
              "#f0f921"
             ]
            ],
            "type": "surface"
           }
          ],
          "table": [
           {
            "cells": {
             "fill": {
              "color": "#EBF0F8"
             },
             "line": {
              "color": "white"
             }
            },
            "header": {
             "fill": {
              "color": "#C8D4E3"
             },
             "line": {
              "color": "white"
             }
            },
            "type": "table"
           }
          ]
         },
         "layout": {
          "annotationdefaults": {
           "arrowcolor": "#2a3f5f",
           "arrowhead": 0,
           "arrowwidth": 1
          },
          "autotypenumbers": "strict",
          "coloraxis": {
           "colorbar": {
            "outlinewidth": 0,
            "ticks": ""
           }
          },
          "colorscale": {
           "diverging": [
            [
             0,
             "#8e0152"
            ],
            [
             0.1,
             "#c51b7d"
            ],
            [
             0.2,
             "#de77ae"
            ],
            [
             0.3,
             "#f1b6da"
            ],
            [
             0.4,
             "#fde0ef"
            ],
            [
             0.5,
             "#f7f7f7"
            ],
            [
             0.6,
             "#e6f5d0"
            ],
            [
             0.7,
             "#b8e186"
            ],
            [
             0.8,
             "#7fbc41"
            ],
            [
             0.9,
             "#4d9221"
            ],
            [
             1,
             "#276419"
            ]
           ],
           "sequential": [
            [
             0,
             "#0d0887"
            ],
            [
             0.1111111111111111,
             "#46039f"
            ],
            [
             0.2222222222222222,
             "#7201a8"
            ],
            [
             0.3333333333333333,
             "#9c179e"
            ],
            [
             0.4444444444444444,
             "#bd3786"
            ],
            [
             0.5555555555555556,
             "#d8576b"
            ],
            [
             0.6666666666666666,
             "#ed7953"
            ],
            [
             0.7777777777777778,
             "#fb9f3a"
            ],
            [
             0.8888888888888888,
             "#fdca26"
            ],
            [
             1,
             "#f0f921"
            ]
           ],
           "sequentialminus": [
            [
             0,
             "#0d0887"
            ],
            [
             0.1111111111111111,
             "#46039f"
            ],
            [
             0.2222222222222222,
             "#7201a8"
            ],
            [
             0.3333333333333333,
             "#9c179e"
            ],
            [
             0.4444444444444444,
             "#bd3786"
            ],
            [
             0.5555555555555556,
             "#d8576b"
            ],
            [
             0.6666666666666666,
             "#ed7953"
            ],
            [
             0.7777777777777778,
             "#fb9f3a"
            ],
            [
             0.8888888888888888,
             "#fdca26"
            ],
            [
             1,
             "#f0f921"
            ]
           ]
          },
          "colorway": [
           "#636efa",
           "#EF553B",
           "#00cc96",
           "#ab63fa",
           "#FFA15A",
           "#19d3f3",
           "#FF6692",
           "#B6E880",
           "#FF97FF",
           "#FECB52"
          ],
          "font": {
           "color": "#2a3f5f"
          },
          "geo": {
           "bgcolor": "white",
           "lakecolor": "white",
           "landcolor": "#E5ECF6",
           "showlakes": true,
           "showland": true,
           "subunitcolor": "white"
          },
          "hoverlabel": {
           "align": "left"
          },
          "hovermode": "closest",
          "mapbox": {
           "style": "light"
          },
          "paper_bgcolor": "white",
          "plot_bgcolor": "#E5ECF6",
          "polar": {
           "angularaxis": {
            "gridcolor": "white",
            "linecolor": "white",
            "ticks": ""
           },
           "bgcolor": "#E5ECF6",
           "radialaxis": {
            "gridcolor": "white",
            "linecolor": "white",
            "ticks": ""
           }
          },
          "scene": {
           "xaxis": {
            "backgroundcolor": "#E5ECF6",
            "gridcolor": "white",
            "gridwidth": 2,
            "linecolor": "white",
            "showbackground": true,
            "ticks": "",
            "zerolinecolor": "white"
           },
           "yaxis": {
            "backgroundcolor": "#E5ECF6",
            "gridcolor": "white",
            "gridwidth": 2,
            "linecolor": "white",
            "showbackground": true,
            "ticks": "",
            "zerolinecolor": "white"
           },
           "zaxis": {
            "backgroundcolor": "#E5ECF6",
            "gridcolor": "white",
            "gridwidth": 2,
            "linecolor": "white",
            "showbackground": true,
            "ticks": "",
            "zerolinecolor": "white"
           }
          },
          "shapedefaults": {
           "line": {
            "color": "#2a3f5f"
           }
          },
          "ternary": {
           "aaxis": {
            "gridcolor": "white",
            "linecolor": "white",
            "ticks": ""
           },
           "baxis": {
            "gridcolor": "white",
            "linecolor": "white",
            "ticks": ""
           },
           "bgcolor": "#E5ECF6",
           "caxis": {
            "gridcolor": "white",
            "linecolor": "white",
            "ticks": ""
           }
          },
          "title": {
           "x": 0.05
          },
          "xaxis": {
           "automargin": true,
           "gridcolor": "white",
           "linecolor": "white",
           "ticks": "",
           "title": {
            "standoff": 15
           },
           "zerolinecolor": "white",
           "zerolinewidth": 2
          },
          "yaxis": {
           "automargin": true,
           "gridcolor": "white",
           "linecolor": "white",
           "ticks": "",
           "title": {
            "standoff": 15
           },
           "zerolinecolor": "white",
           "zerolinewidth": 2
          }
         }
        },
        "title": {
         "text": "Most Popular Genre"
        },
        "xaxis": {
         "anchor": "y",
         "domain": [
          0,
          1
         ],
         "title": {
          "text": "x"
         }
        },
        "yaxis": {
         "anchor": "x",
         "domain": [
          0,
          1
         ],
         "title": {
          "text": "y"
         }
        }
       }
      }
     },
     "metadata": {},
     "output_type": "display_data"
    }
   ],
   "source": [
    "# Get the base counts of each category and sort them by counts\n",
    "base_counts = get_counts(merge_movies, 'genres_list')\n",
    "base_counts = pd.DataFrame(index=base_counts.keys(), data=base_counts.values(), columns=['Counts'])\n",
    "base_counts.sort_values(by='Counts', inplace=True)\n",
    "\n",
    "# Plot the chart which shows top genres and separate by color where genre<1000\n",
    "colors = ['#abaeab' if count < 1000 else '#A0E045' for count in base_counts['Counts']]\n",
    "fig = px.bar(x=base_counts.index, y=base_counts['Counts'], title='Most Popular Genre', color_discrete_sequence=colors, color=base_counts.index)\n",
    "fig.show()"
   ]
  },
  {
   "cell_type": "code",
   "execution_count": 60,
   "metadata": {},
   "outputs": [],
   "source": [
    "def plot_value_counts_bar(data, col):\n",
    "    vc = data[col].value_counts().reset_index()\n",
    "    fig = px.bar(vc, y='count', x=col, color='count', title=col)  \n",
    "    return fig"
   ]
  },
  {
   "cell_type": "code",
   "execution_count": 61,
   "metadata": {},
   "outputs": [
    {
     "data": {
      "application/vnd.plotly.v1+json": {
       "config": {
        "plotlyServerURL": "https://plot.ly"
       },
       "data": [
        {
         "alignmentgroup": "True",
         "hovertemplate": "year=%{x}<br>count=%{marker.color}<extra></extra>",
         "legendgroup": "",
         "marker": {
          "color": [
           1267,
           1233,
           1176,
           1116,
           1048,
           1028,
           1004,
           948,
           932,
           864,
           802,
           712,
           599,
           584,
           563,
           541,
           507,
           500,
           496,
           443,
           441,
           415,
           390,
           373,
           358,
           348,
           324,
           320,
           317,
           302,
           299,
           268,
           266,
           241,
           233,
           219,
           216,
           211,
           209,
           208,
           202,
           201,
           199,
           194,
           187,
           182,
           182,
           180,
           178,
           168,
           162,
           161,
           159,
           157,
           156,
           151,
           150,
           149,
           146,
           144,
           144,
           142,
           138,
           136,
           133,
           133,
           133,
           127,
           127,
           127,
           125,
           124,
           123,
           118,
           115,
           115,
           113,
           113,
           113,
           112,
           111,
           107,
           107,
           105,
           99,
           87,
           69,
           52,
           49,
           47,
           33,
           27,
           26,
           25,
           25,
           23,
           23,
           20,
           18,
           18,
           16,
           15,
           13,
           10,
           9,
           9,
           8,
           8,
           7,
           6,
           5,
           5,
           5,
           5,
           4,
           4,
           3,
           3,
           3,
           3,
           2,
           2,
           2,
           2,
           1,
           1,
           1,
           1,
           1
          ],
          "coloraxis": "coloraxis",
          "pattern": {
           "shape": ""
          }
         },
         "name": "",
         "offsetgroup": "",
         "orientation": "v",
         "showlegend": false,
         "textposition": "auto",
         "type": "bar",
         "x": [
          2014,
          2013,
          2015,
          2012,
          2011,
          2009,
          2016,
          2008,
          2010,
          2007,
          2006,
          2005,
          2004,
          2002,
          2003,
          2001,
          2000,
          1998,
          1999,
          1996,
          1997,
          1995,
          1994,
          2017,
          1988,
          1993,
          1987,
          1989,
          1992,
          1990,
          1991,
          1986,
          1985,
          1984,
          1980,
          1982,
          1971,
          1983,
          1972,
          1981,
          1979,
          1974,
          1973,
          1970,
          1977,
          1978,
          1968,
          1957,
          1976,
          1975,
          1969,
          1966,
          1956,
          1967,
          1958,
          1964,
          1953,
          1951,
          1959,
          1952,
          1950,
          1955,
          1949,
          1954,
          1948,
          1965,
          1960,
          1963,
          1940,
          1947,
          1962,
          1941,
          1945,
          1961,
          1944,
          1942,
          1937,
          1935,
          1943,
          1939,
          1936,
          1934,
          1933,
          1946,
          1932,
          1938,
          1931,
          1930,
          1928,
          1929,
          1926,
          1916,
          1927,
          1924,
          1925,
          1921,
          1915,
          1922,
          1923,
          1920,
          1919,
          1914,
          1894,
          1912,
          1909,
          1917,
          1918,
          1900,
          1903,
          1901,
          1906,
          1910,
          1896,
          1898,
          1911,
          1913,
          1908,
          1897,
          1905,
          1907,
          1890,
          1892,
          1904,
          1899,
          1878,
          1902,
          1895,
          1883,
          1891
         ],
         "xaxis": "x",
         "y": [
          1267,
          1233,
          1176,
          1116,
          1048,
          1028,
          1004,
          948,
          932,
          864,
          802,
          712,
          599,
          584,
          563,
          541,
          507,
          500,
          496,
          443,
          441,
          415,
          390,
          373,
          358,
          348,
          324,
          320,
          317,
          302,
          299,
          268,
          266,
          241,
          233,
          219,
          216,
          211,
          209,
          208,
          202,
          201,
          199,
          194,
          187,
          182,
          182,
          180,
          178,
          168,
          162,
          161,
          159,
          157,
          156,
          151,
          150,
          149,
          146,
          144,
          144,
          142,
          138,
          136,
          133,
          133,
          133,
          127,
          127,
          127,
          125,
          124,
          123,
          118,
          115,
          115,
          113,
          113,
          113,
          112,
          111,
          107,
          107,
          105,
          99,
          87,
          69,
          52,
          49,
          47,
          33,
          27,
          26,
          25,
          25,
          23,
          23,
          20,
          18,
          18,
          16,
          15,
          13,
          10,
          9,
          9,
          8,
          8,
          7,
          6,
          5,
          5,
          5,
          5,
          4,
          4,
          3,
          3,
          3,
          3,
          2,
          2,
          2,
          2,
          1,
          1,
          1,
          1,
          1
         ],
         "yaxis": "y"
        }
       ],
       "layout": {
        "barmode": "relative",
        "coloraxis": {
         "colorbar": {
          "title": {
           "text": "count"
          }
         },
         "colorscale": [
          [
           0,
           "#0d0887"
          ],
          [
           0.1111111111111111,
           "#46039f"
          ],
          [
           0.2222222222222222,
           "#7201a8"
          ],
          [
           0.3333333333333333,
           "#9c179e"
          ],
          [
           0.4444444444444444,
           "#bd3786"
          ],
          [
           0.5555555555555556,
           "#d8576b"
          ],
          [
           0.6666666666666666,
           "#ed7953"
          ],
          [
           0.7777777777777778,
           "#fb9f3a"
          ],
          [
           0.8888888888888888,
           "#fdca26"
          ],
          [
           1,
           "#f0f921"
          ]
         ]
        },
        "legend": {
         "tracegroupgap": 0
        },
        "template": {
         "data": {
          "bar": [
           {
            "error_x": {
             "color": "#2a3f5f"
            },
            "error_y": {
             "color": "#2a3f5f"
            },
            "marker": {
             "line": {
              "color": "#E5ECF6",
              "width": 0.5
             },
             "pattern": {
              "fillmode": "overlay",
              "size": 10,
              "solidity": 0.2
             }
            },
            "type": "bar"
           }
          ],
          "barpolar": [
           {
            "marker": {
             "line": {
              "color": "#E5ECF6",
              "width": 0.5
             },
             "pattern": {
              "fillmode": "overlay",
              "size": 10,
              "solidity": 0.2
             }
            },
            "type": "barpolar"
           }
          ],
          "carpet": [
           {
            "aaxis": {
             "endlinecolor": "#2a3f5f",
             "gridcolor": "white",
             "linecolor": "white",
             "minorgridcolor": "white",
             "startlinecolor": "#2a3f5f"
            },
            "baxis": {
             "endlinecolor": "#2a3f5f",
             "gridcolor": "white",
             "linecolor": "white",
             "minorgridcolor": "white",
             "startlinecolor": "#2a3f5f"
            },
            "type": "carpet"
           }
          ],
          "choropleth": [
           {
            "colorbar": {
             "outlinewidth": 0,
             "ticks": ""
            },
            "type": "choropleth"
           }
          ],
          "contour": [
           {
            "colorbar": {
             "outlinewidth": 0,
             "ticks": ""
            },
            "colorscale": [
             [
              0,
              "#0d0887"
             ],
             [
              0.1111111111111111,
              "#46039f"
             ],
             [
              0.2222222222222222,
              "#7201a8"
             ],
             [
              0.3333333333333333,
              "#9c179e"
             ],
             [
              0.4444444444444444,
              "#bd3786"
             ],
             [
              0.5555555555555556,
              "#d8576b"
             ],
             [
              0.6666666666666666,
              "#ed7953"
             ],
             [
              0.7777777777777778,
              "#fb9f3a"
             ],
             [
              0.8888888888888888,
              "#fdca26"
             ],
             [
              1,
              "#f0f921"
             ]
            ],
            "type": "contour"
           }
          ],
          "contourcarpet": [
           {
            "colorbar": {
             "outlinewidth": 0,
             "ticks": ""
            },
            "type": "contourcarpet"
           }
          ],
          "heatmap": [
           {
            "colorbar": {
             "outlinewidth": 0,
             "ticks": ""
            },
            "colorscale": [
             [
              0,
              "#0d0887"
             ],
             [
              0.1111111111111111,
              "#46039f"
             ],
             [
              0.2222222222222222,
              "#7201a8"
             ],
             [
              0.3333333333333333,
              "#9c179e"
             ],
             [
              0.4444444444444444,
              "#bd3786"
             ],
             [
              0.5555555555555556,
              "#d8576b"
             ],
             [
              0.6666666666666666,
              "#ed7953"
             ],
             [
              0.7777777777777778,
              "#fb9f3a"
             ],
             [
              0.8888888888888888,
              "#fdca26"
             ],
             [
              1,
              "#f0f921"
             ]
            ],
            "type": "heatmap"
           }
          ],
          "heatmapgl": [
           {
            "colorbar": {
             "outlinewidth": 0,
             "ticks": ""
            },
            "colorscale": [
             [
              0,
              "#0d0887"
             ],
             [
              0.1111111111111111,
              "#46039f"
             ],
             [
              0.2222222222222222,
              "#7201a8"
             ],
             [
              0.3333333333333333,
              "#9c179e"
             ],
             [
              0.4444444444444444,
              "#bd3786"
             ],
             [
              0.5555555555555556,
              "#d8576b"
             ],
             [
              0.6666666666666666,
              "#ed7953"
             ],
             [
              0.7777777777777778,
              "#fb9f3a"
             ],
             [
              0.8888888888888888,
              "#fdca26"
             ],
             [
              1,
              "#f0f921"
             ]
            ],
            "type": "heatmapgl"
           }
          ],
          "histogram": [
           {
            "marker": {
             "pattern": {
              "fillmode": "overlay",
              "size": 10,
              "solidity": 0.2
             }
            },
            "type": "histogram"
           }
          ],
          "histogram2d": [
           {
            "colorbar": {
             "outlinewidth": 0,
             "ticks": ""
            },
            "colorscale": [
             [
              0,
              "#0d0887"
             ],
             [
              0.1111111111111111,
              "#46039f"
             ],
             [
              0.2222222222222222,
              "#7201a8"
             ],
             [
              0.3333333333333333,
              "#9c179e"
             ],
             [
              0.4444444444444444,
              "#bd3786"
             ],
             [
              0.5555555555555556,
              "#d8576b"
             ],
             [
              0.6666666666666666,
              "#ed7953"
             ],
             [
              0.7777777777777778,
              "#fb9f3a"
             ],
             [
              0.8888888888888888,
              "#fdca26"
             ],
             [
              1,
              "#f0f921"
             ]
            ],
            "type": "histogram2d"
           }
          ],
          "histogram2dcontour": [
           {
            "colorbar": {
             "outlinewidth": 0,
             "ticks": ""
            },
            "colorscale": [
             [
              0,
              "#0d0887"
             ],
             [
              0.1111111111111111,
              "#46039f"
             ],
             [
              0.2222222222222222,
              "#7201a8"
             ],
             [
              0.3333333333333333,
              "#9c179e"
             ],
             [
              0.4444444444444444,
              "#bd3786"
             ],
             [
              0.5555555555555556,
              "#d8576b"
             ],
             [
              0.6666666666666666,
              "#ed7953"
             ],
             [
              0.7777777777777778,
              "#fb9f3a"
             ],
             [
              0.8888888888888888,
              "#fdca26"
             ],
             [
              1,
              "#f0f921"
             ]
            ],
            "type": "histogram2dcontour"
           }
          ],
          "mesh3d": [
           {
            "colorbar": {
             "outlinewidth": 0,
             "ticks": ""
            },
            "type": "mesh3d"
           }
          ],
          "parcoords": [
           {
            "line": {
             "colorbar": {
              "outlinewidth": 0,
              "ticks": ""
             }
            },
            "type": "parcoords"
           }
          ],
          "pie": [
           {
            "automargin": true,
            "type": "pie"
           }
          ],
          "scatter": [
           {
            "fillpattern": {
             "fillmode": "overlay",
             "size": 10,
             "solidity": 0.2
            },
            "type": "scatter"
           }
          ],
          "scatter3d": [
           {
            "line": {
             "colorbar": {
              "outlinewidth": 0,
              "ticks": ""
             }
            },
            "marker": {
             "colorbar": {
              "outlinewidth": 0,
              "ticks": ""
             }
            },
            "type": "scatter3d"
           }
          ],
          "scattercarpet": [
           {
            "marker": {
             "colorbar": {
              "outlinewidth": 0,
              "ticks": ""
             }
            },
            "type": "scattercarpet"
           }
          ],
          "scattergeo": [
           {
            "marker": {
             "colorbar": {
              "outlinewidth": 0,
              "ticks": ""
             }
            },
            "type": "scattergeo"
           }
          ],
          "scattergl": [
           {
            "marker": {
             "colorbar": {
              "outlinewidth": 0,
              "ticks": ""
             }
            },
            "type": "scattergl"
           }
          ],
          "scattermapbox": [
           {
            "marker": {
             "colorbar": {
              "outlinewidth": 0,
              "ticks": ""
             }
            },
            "type": "scattermapbox"
           }
          ],
          "scatterpolar": [
           {
            "marker": {
             "colorbar": {
              "outlinewidth": 0,
              "ticks": ""
             }
            },
            "type": "scatterpolar"
           }
          ],
          "scatterpolargl": [
           {
            "marker": {
             "colorbar": {
              "outlinewidth": 0,
              "ticks": ""
             }
            },
            "type": "scatterpolargl"
           }
          ],
          "scatterternary": [
           {
            "marker": {
             "colorbar": {
              "outlinewidth": 0,
              "ticks": ""
             }
            },
            "type": "scatterternary"
           }
          ],
          "surface": [
           {
            "colorbar": {
             "outlinewidth": 0,
             "ticks": ""
            },
            "colorscale": [
             [
              0,
              "#0d0887"
             ],
             [
              0.1111111111111111,
              "#46039f"
             ],
             [
              0.2222222222222222,
              "#7201a8"
             ],
             [
              0.3333333333333333,
              "#9c179e"
             ],
             [
              0.4444444444444444,
              "#bd3786"
             ],
             [
              0.5555555555555556,
              "#d8576b"
             ],
             [
              0.6666666666666666,
              "#ed7953"
             ],
             [
              0.7777777777777778,
              "#fb9f3a"
             ],
             [
              0.8888888888888888,
              "#fdca26"
             ],
             [
              1,
              "#f0f921"
             ]
            ],
            "type": "surface"
           }
          ],
          "table": [
           {
            "cells": {
             "fill": {
              "color": "#EBF0F8"
             },
             "line": {
              "color": "white"
             }
            },
            "header": {
             "fill": {
              "color": "#C8D4E3"
             },
             "line": {
              "color": "white"
             }
            },
            "type": "table"
           }
          ]
         },
         "layout": {
          "annotationdefaults": {
           "arrowcolor": "#2a3f5f",
           "arrowhead": 0,
           "arrowwidth": 1
          },
          "autotypenumbers": "strict",
          "coloraxis": {
           "colorbar": {
            "outlinewidth": 0,
            "ticks": ""
           }
          },
          "colorscale": {
           "diverging": [
            [
             0,
             "#8e0152"
            ],
            [
             0.1,
             "#c51b7d"
            ],
            [
             0.2,
             "#de77ae"
            ],
            [
             0.3,
             "#f1b6da"
            ],
            [
             0.4,
             "#fde0ef"
            ],
            [
             0.5,
             "#f7f7f7"
            ],
            [
             0.6,
             "#e6f5d0"
            ],
            [
             0.7,
             "#b8e186"
            ],
            [
             0.8,
             "#7fbc41"
            ],
            [
             0.9,
             "#4d9221"
            ],
            [
             1,
             "#276419"
            ]
           ],
           "sequential": [
            [
             0,
             "#0d0887"
            ],
            [
             0.1111111111111111,
             "#46039f"
            ],
            [
             0.2222222222222222,
             "#7201a8"
            ],
            [
             0.3333333333333333,
             "#9c179e"
            ],
            [
             0.4444444444444444,
             "#bd3786"
            ],
            [
             0.5555555555555556,
             "#d8576b"
            ],
            [
             0.6666666666666666,
             "#ed7953"
            ],
            [
             0.7777777777777778,
             "#fb9f3a"
            ],
            [
             0.8888888888888888,
             "#fdca26"
            ],
            [
             1,
             "#f0f921"
            ]
           ],
           "sequentialminus": [
            [
             0,
             "#0d0887"
            ],
            [
             0.1111111111111111,
             "#46039f"
            ],
            [
             0.2222222222222222,
             "#7201a8"
            ],
            [
             0.3333333333333333,
             "#9c179e"
            ],
            [
             0.4444444444444444,
             "#bd3786"
            ],
            [
             0.5555555555555556,
             "#d8576b"
            ],
            [
             0.6666666666666666,
             "#ed7953"
            ],
            [
             0.7777777777777778,
             "#fb9f3a"
            ],
            [
             0.8888888888888888,
             "#fdca26"
            ],
            [
             1,
             "#f0f921"
            ]
           ]
          },
          "colorway": [
           "#636efa",
           "#EF553B",
           "#00cc96",
           "#ab63fa",
           "#FFA15A",
           "#19d3f3",
           "#FF6692",
           "#B6E880",
           "#FF97FF",
           "#FECB52"
          ],
          "font": {
           "color": "#2a3f5f"
          },
          "geo": {
           "bgcolor": "white",
           "lakecolor": "white",
           "landcolor": "#E5ECF6",
           "showlakes": true,
           "showland": true,
           "subunitcolor": "white"
          },
          "hoverlabel": {
           "align": "left"
          },
          "hovermode": "closest",
          "mapbox": {
           "style": "light"
          },
          "paper_bgcolor": "white",
          "plot_bgcolor": "#E5ECF6",
          "polar": {
           "angularaxis": {
            "gridcolor": "white",
            "linecolor": "white",
            "ticks": ""
           },
           "bgcolor": "#E5ECF6",
           "radialaxis": {
            "gridcolor": "white",
            "linecolor": "white",
            "ticks": ""
           }
          },
          "scene": {
           "xaxis": {
            "backgroundcolor": "#E5ECF6",
            "gridcolor": "white",
            "gridwidth": 2,
            "linecolor": "white",
            "showbackground": true,
            "ticks": "",
            "zerolinecolor": "white"
           },
           "yaxis": {
            "backgroundcolor": "#E5ECF6",
            "gridcolor": "white",
            "gridwidth": 2,
            "linecolor": "white",
            "showbackground": true,
            "ticks": "",
            "zerolinecolor": "white"
           },
           "zaxis": {
            "backgroundcolor": "#E5ECF6",
            "gridcolor": "white",
            "gridwidth": 2,
            "linecolor": "white",
            "showbackground": true,
            "ticks": "",
            "zerolinecolor": "white"
           }
          },
          "shapedefaults": {
           "line": {
            "color": "#2a3f5f"
           }
          },
          "ternary": {
           "aaxis": {
            "gridcolor": "white",
            "linecolor": "white",
            "ticks": ""
           },
           "baxis": {
            "gridcolor": "white",
            "linecolor": "white",
            "ticks": ""
           },
           "bgcolor": "#E5ECF6",
           "caxis": {
            "gridcolor": "white",
            "linecolor": "white",
            "ticks": ""
           }
          },
          "title": {
           "x": 0.05
          },
          "xaxis": {
           "automargin": true,
           "gridcolor": "white",
           "linecolor": "white",
           "ticks": "",
           "title": {
            "standoff": 15
           },
           "zerolinecolor": "white",
           "zerolinewidth": 2
          },
          "yaxis": {
           "automargin": true,
           "gridcolor": "white",
           "linecolor": "white",
           "ticks": "",
           "title": {
            "standoff": 15
           },
           "zerolinecolor": "white",
           "zerolinewidth": 2
          }
         }
        },
        "title": {
         "text": "year"
        },
        "xaxis": {
         "anchor": "y",
         "domain": [
          0,
          1
         ],
         "title": {
          "text": "year"
         }
        },
        "yaxis": {
         "anchor": "x",
         "domain": [
          0,
          1
         ],
         "title": {
          "text": "count"
         }
        }
       }
      }
     },
     "metadata": {},
     "output_type": "display_data"
    }
   ],
   "source": [
    "plot_value_counts_bar(merge_movies,'year')"
   ]
  },
  {
   "cell_type": "code",
   "execution_count": 55,
   "metadata": {},
   "outputs": [],
   "source": [
    "import math\n",
    "def get_ratings(data, col, ratings_col):\n",
    "    base_counts = get_counts(data, col)\n",
    "    category_ratings = {}\n",
    "    a = {}\n",
    "\n",
    "    for _, row in data.iterrows():\n",
    "        if isinstance(row[col], list):\n",
    "            genres = row[col]\n",
    "            for genre in genres:\n",
    "                if not math.isnan(row['vote_count']):\n",
    "                    if genre in category_ratings:\n",
    "                        category_ratings[genre] += row[ratings_col]\n",
    "                    else:\n",
    "                        category_ratings[genre] = row[ratings_col]\n",
    "    for genre in base_counts:\n",
    "        a[genre] = round(category_ratings[genre] / base_counts[genre], 2)\n",
    "    return a"
   ]
  },
  {
   "cell_type": "code",
   "execution_count": 58,
   "metadata": {},
   "outputs": [
    {
     "data": {
      "application/vnd.plotly.v1+json": {
       "config": {
        "plotlyServerURL": "https://plot.ly"
       },
       "data": [
        {
         "customdata": [
          [
           "other"
          ],
          [
           "Foreign"
          ],
          [
           "Documentary"
          ],
          [
           "TV Movie"
          ],
          [
           "Music"
          ],
          [
           "Western"
          ],
          [
           "Horror"
          ],
          [
           "Romance"
          ],
          [
           "Drama"
          ],
          [
           "Comedy"
          ],
          [
           "History"
          ],
          [
           "War"
          ],
          [
           "Mystery"
          ],
          [
           "Crime"
          ],
          [
           "Thriller"
          ],
          [
           "Family"
          ],
          [
           "Animation"
          ],
          [
           "Action"
          ],
          [
           "Science Fiction"
          ],
          [
           "Fantasy"
          ],
          [
           "Adventure"
          ]
         ],
         "domain": {
          "x": [
           0,
           1
          ],
          "y": [
           0,
           1
          ]
         },
         "hovertemplate": "label=%{label}<br>value=%{value}<br>color=%{customdata[0]}<extra></extra>",
         "labels": [
          "other",
          "Foreign",
          "Documentary",
          "TV Movie",
          "Music",
          "Western",
          "Horror",
          "Romance",
          "Drama",
          "Comedy",
          "History",
          "War",
          "Mystery",
          "Crime",
          "Thriller",
          "Family",
          "Animation",
          "Action",
          "Science Fiction",
          "Fantasy",
          "Adventure"
         ],
         "legendgroup": "",
         "marker": {
          "colors": [
           "#636efa",
           "#EF553B",
           "#00cc96",
           "#ab63fa",
           "#FFA15A",
           "#19d3f3",
           "#FF6692",
           "#B6E880",
           "#FF97FF",
           "#FECB52",
           "#636efa",
           "#EF553B",
           "#00cc96",
           "#ab63fa",
           "#FFA15A",
           "#19d3f3",
           "#FF6692",
           "#B6E880",
           "#FF97FF",
           "#FECB52",
           "#636efa"
          ]
         },
         "name": "",
         "showlegend": true,
         "type": "pie",
         "values": [
          4.05,
          6.81,
          15.54,
          24.24,
          81.69,
          90.19,
          117.63,
          127.78,
          137.55,
          147.47,
          155.1,
          167.74,
          207.08,
          232.96,
          233.78,
          296.49,
          336.51,
          356.56,
          402.91,
          467.75,
          539.26
         ]
        }
       ],
       "layout": {
        "legend": {
         "tracegroupgap": 0
        },
        "template": {
         "data": {
          "bar": [
           {
            "error_x": {
             "color": "#2a3f5f"
            },
            "error_y": {
             "color": "#2a3f5f"
            },
            "marker": {
             "line": {
              "color": "#E5ECF6",
              "width": 0.5
             },
             "pattern": {
              "fillmode": "overlay",
              "size": 10,
              "solidity": 0.2
             }
            },
            "type": "bar"
           }
          ],
          "barpolar": [
           {
            "marker": {
             "line": {
              "color": "#E5ECF6",
              "width": 0.5
             },
             "pattern": {
              "fillmode": "overlay",
              "size": 10,
              "solidity": 0.2
             }
            },
            "type": "barpolar"
           }
          ],
          "carpet": [
           {
            "aaxis": {
             "endlinecolor": "#2a3f5f",
             "gridcolor": "white",
             "linecolor": "white",
             "minorgridcolor": "white",
             "startlinecolor": "#2a3f5f"
            },
            "baxis": {
             "endlinecolor": "#2a3f5f",
             "gridcolor": "white",
             "linecolor": "white",
             "minorgridcolor": "white",
             "startlinecolor": "#2a3f5f"
            },
            "type": "carpet"
           }
          ],
          "choropleth": [
           {
            "colorbar": {
             "outlinewidth": 0,
             "ticks": ""
            },
            "type": "choropleth"
           }
          ],
          "contour": [
           {
            "colorbar": {
             "outlinewidth": 0,
             "ticks": ""
            },
            "colorscale": [
             [
              0,
              "#0d0887"
             ],
             [
              0.1111111111111111,
              "#46039f"
             ],
             [
              0.2222222222222222,
              "#7201a8"
             ],
             [
              0.3333333333333333,
              "#9c179e"
             ],
             [
              0.4444444444444444,
              "#bd3786"
             ],
             [
              0.5555555555555556,
              "#d8576b"
             ],
             [
              0.6666666666666666,
              "#ed7953"
             ],
             [
              0.7777777777777778,
              "#fb9f3a"
             ],
             [
              0.8888888888888888,
              "#fdca26"
             ],
             [
              1,
              "#f0f921"
             ]
            ],
            "type": "contour"
           }
          ],
          "contourcarpet": [
           {
            "colorbar": {
             "outlinewidth": 0,
             "ticks": ""
            },
            "type": "contourcarpet"
           }
          ],
          "heatmap": [
           {
            "colorbar": {
             "outlinewidth": 0,
             "ticks": ""
            },
            "colorscale": [
             [
              0,
              "#0d0887"
             ],
             [
              0.1111111111111111,
              "#46039f"
             ],
             [
              0.2222222222222222,
              "#7201a8"
             ],
             [
              0.3333333333333333,
              "#9c179e"
             ],
             [
              0.4444444444444444,
              "#bd3786"
             ],
             [
              0.5555555555555556,
              "#d8576b"
             ],
             [
              0.6666666666666666,
              "#ed7953"
             ],
             [
              0.7777777777777778,
              "#fb9f3a"
             ],
             [
              0.8888888888888888,
              "#fdca26"
             ],
             [
              1,
              "#f0f921"
             ]
            ],
            "type": "heatmap"
           }
          ],
          "heatmapgl": [
           {
            "colorbar": {
             "outlinewidth": 0,
             "ticks": ""
            },
            "colorscale": [
             [
              0,
              "#0d0887"
             ],
             [
              0.1111111111111111,
              "#46039f"
             ],
             [
              0.2222222222222222,
              "#7201a8"
             ],
             [
              0.3333333333333333,
              "#9c179e"
             ],
             [
              0.4444444444444444,
              "#bd3786"
             ],
             [
              0.5555555555555556,
              "#d8576b"
             ],
             [
              0.6666666666666666,
              "#ed7953"
             ],
             [
              0.7777777777777778,
              "#fb9f3a"
             ],
             [
              0.8888888888888888,
              "#fdca26"
             ],
             [
              1,
              "#f0f921"
             ]
            ],
            "type": "heatmapgl"
           }
          ],
          "histogram": [
           {
            "marker": {
             "pattern": {
              "fillmode": "overlay",
              "size": 10,
              "solidity": 0.2
             }
            },
            "type": "histogram"
           }
          ],
          "histogram2d": [
           {
            "colorbar": {
             "outlinewidth": 0,
             "ticks": ""
            },
            "colorscale": [
             [
              0,
              "#0d0887"
             ],
             [
              0.1111111111111111,
              "#46039f"
             ],
             [
              0.2222222222222222,
              "#7201a8"
             ],
             [
              0.3333333333333333,
              "#9c179e"
             ],
             [
              0.4444444444444444,
              "#bd3786"
             ],
             [
              0.5555555555555556,
              "#d8576b"
             ],
             [
              0.6666666666666666,
              "#ed7953"
             ],
             [
              0.7777777777777778,
              "#fb9f3a"
             ],
             [
              0.8888888888888888,
              "#fdca26"
             ],
             [
              1,
              "#f0f921"
             ]
            ],
            "type": "histogram2d"
           }
          ],
          "histogram2dcontour": [
           {
            "colorbar": {
             "outlinewidth": 0,
             "ticks": ""
            },
            "colorscale": [
             [
              0,
              "#0d0887"
             ],
             [
              0.1111111111111111,
              "#46039f"
             ],
             [
              0.2222222222222222,
              "#7201a8"
             ],
             [
              0.3333333333333333,
              "#9c179e"
             ],
             [
              0.4444444444444444,
              "#bd3786"
             ],
             [
              0.5555555555555556,
              "#d8576b"
             ],
             [
              0.6666666666666666,
              "#ed7953"
             ],
             [
              0.7777777777777778,
              "#fb9f3a"
             ],
             [
              0.8888888888888888,
              "#fdca26"
             ],
             [
              1,
              "#f0f921"
             ]
            ],
            "type": "histogram2dcontour"
           }
          ],
          "mesh3d": [
           {
            "colorbar": {
             "outlinewidth": 0,
             "ticks": ""
            },
            "type": "mesh3d"
           }
          ],
          "parcoords": [
           {
            "line": {
             "colorbar": {
              "outlinewidth": 0,
              "ticks": ""
             }
            },
            "type": "parcoords"
           }
          ],
          "pie": [
           {
            "automargin": true,
            "type": "pie"
           }
          ],
          "scatter": [
           {
            "fillpattern": {
             "fillmode": "overlay",
             "size": 10,
             "solidity": 0.2
            },
            "type": "scatter"
           }
          ],
          "scatter3d": [
           {
            "line": {
             "colorbar": {
              "outlinewidth": 0,
              "ticks": ""
             }
            },
            "marker": {
             "colorbar": {
              "outlinewidth": 0,
              "ticks": ""
             }
            },
            "type": "scatter3d"
           }
          ],
          "scattercarpet": [
           {
            "marker": {
             "colorbar": {
              "outlinewidth": 0,
              "ticks": ""
             }
            },
            "type": "scattercarpet"
           }
          ],
          "scattergeo": [
           {
            "marker": {
             "colorbar": {
              "outlinewidth": 0,
              "ticks": ""
             }
            },
            "type": "scattergeo"
           }
          ],
          "scattergl": [
           {
            "marker": {
             "colorbar": {
              "outlinewidth": 0,
              "ticks": ""
             }
            },
            "type": "scattergl"
           }
          ],
          "scattermapbox": [
           {
            "marker": {
             "colorbar": {
              "outlinewidth": 0,
              "ticks": ""
             }
            },
            "type": "scattermapbox"
           }
          ],
          "scatterpolar": [
           {
            "marker": {
             "colorbar": {
              "outlinewidth": 0,
              "ticks": ""
             }
            },
            "type": "scatterpolar"
           }
          ],
          "scatterpolargl": [
           {
            "marker": {
             "colorbar": {
              "outlinewidth": 0,
              "ticks": ""
             }
            },
            "type": "scatterpolargl"
           }
          ],
          "scatterternary": [
           {
            "marker": {
             "colorbar": {
              "outlinewidth": 0,
              "ticks": ""
             }
            },
            "type": "scatterternary"
           }
          ],
          "surface": [
           {
            "colorbar": {
             "outlinewidth": 0,
             "ticks": ""
            },
            "colorscale": [
             [
              0,
              "#0d0887"
             ],
             [
              0.1111111111111111,
              "#46039f"
             ],
             [
              0.2222222222222222,
              "#7201a8"
             ],
             [
              0.3333333333333333,
              "#9c179e"
             ],
             [
              0.4444444444444444,
              "#bd3786"
             ],
             [
              0.5555555555555556,
              "#d8576b"
             ],
             [
              0.6666666666666666,
              "#ed7953"
             ],
             [
              0.7777777777777778,
              "#fb9f3a"
             ],
             [
              0.8888888888888888,
              "#fdca26"
             ],
             [
              1,
              "#f0f921"
             ]
            ],
            "type": "surface"
           }
          ],
          "table": [
           {
            "cells": {
             "fill": {
              "color": "#EBF0F8"
             },
             "line": {
              "color": "white"
             }
            },
            "header": {
             "fill": {
              "color": "#C8D4E3"
             },
             "line": {
              "color": "white"
             }
            },
            "type": "table"
           }
          ]
         },
         "layout": {
          "annotationdefaults": {
           "arrowcolor": "#2a3f5f",
           "arrowhead": 0,
           "arrowwidth": 1
          },
          "autotypenumbers": "strict",
          "coloraxis": {
           "colorbar": {
            "outlinewidth": 0,
            "ticks": ""
           }
          },
          "colorscale": {
           "diverging": [
            [
             0,
             "#8e0152"
            ],
            [
             0.1,
             "#c51b7d"
            ],
            [
             0.2,
             "#de77ae"
            ],
            [
             0.3,
             "#f1b6da"
            ],
            [
             0.4,
             "#fde0ef"
            ],
            [
             0.5,
             "#f7f7f7"
            ],
            [
             0.6,
             "#e6f5d0"
            ],
            [
             0.7,
             "#b8e186"
            ],
            [
             0.8,
             "#7fbc41"
            ],
            [
             0.9,
             "#4d9221"
            ],
            [
             1,
             "#276419"
            ]
           ],
           "sequential": [
            [
             0,
             "#0d0887"
            ],
            [
             0.1111111111111111,
             "#46039f"
            ],
            [
             0.2222222222222222,
             "#7201a8"
            ],
            [
             0.3333333333333333,
             "#9c179e"
            ],
            [
             0.4444444444444444,
             "#bd3786"
            ],
            [
             0.5555555555555556,
             "#d8576b"
            ],
            [
             0.6666666666666666,
             "#ed7953"
            ],
            [
             0.7777777777777778,
             "#fb9f3a"
            ],
            [
             0.8888888888888888,
             "#fdca26"
            ],
            [
             1,
             "#f0f921"
            ]
           ],
           "sequentialminus": [
            [
             0,
             "#0d0887"
            ],
            [
             0.1111111111111111,
             "#46039f"
            ],
            [
             0.2222222222222222,
             "#7201a8"
            ],
            [
             0.3333333333333333,
             "#9c179e"
            ],
            [
             0.4444444444444444,
             "#bd3786"
            ],
            [
             0.5555555555555556,
             "#d8576b"
            ],
            [
             0.6666666666666666,
             "#ed7953"
            ],
            [
             0.7777777777777778,
             "#fb9f3a"
            ],
            [
             0.8888888888888888,
             "#fdca26"
            ],
            [
             1,
             "#f0f921"
            ]
           ]
          },
          "colorway": [
           "#636efa",
           "#EF553B",
           "#00cc96",
           "#ab63fa",
           "#FFA15A",
           "#19d3f3",
           "#FF6692",
           "#B6E880",
           "#FF97FF",
           "#FECB52"
          ],
          "font": {
           "color": "#2a3f5f"
          },
          "geo": {
           "bgcolor": "white",
           "lakecolor": "white",
           "landcolor": "#E5ECF6",
           "showlakes": true,
           "showland": true,
           "subunitcolor": "white"
          },
          "hoverlabel": {
           "align": "left"
          },
          "hovermode": "closest",
          "mapbox": {
           "style": "light"
          },
          "paper_bgcolor": "white",
          "plot_bgcolor": "#E5ECF6",
          "polar": {
           "angularaxis": {
            "gridcolor": "white",
            "linecolor": "white",
            "ticks": ""
           },
           "bgcolor": "#E5ECF6",
           "radialaxis": {
            "gridcolor": "white",
            "linecolor": "white",
            "ticks": ""
           }
          },
          "scene": {
           "xaxis": {
            "backgroundcolor": "#E5ECF6",
            "gridcolor": "white",
            "gridwidth": 2,
            "linecolor": "white",
            "showbackground": true,
            "ticks": "",
            "zerolinecolor": "white"
           },
           "yaxis": {
            "backgroundcolor": "#E5ECF6",
            "gridcolor": "white",
            "gridwidth": 2,
            "linecolor": "white",
            "showbackground": true,
            "ticks": "",
            "zerolinecolor": "white"
           },
           "zaxis": {
            "backgroundcolor": "#E5ECF6",
            "gridcolor": "white",
            "gridwidth": 2,
            "linecolor": "white",
            "showbackground": true,
            "ticks": "",
            "zerolinecolor": "white"
           }
          },
          "shapedefaults": {
           "line": {
            "color": "#2a3f5f"
           }
          },
          "ternary": {
           "aaxis": {
            "gridcolor": "white",
            "linecolor": "white",
            "ticks": ""
           },
           "baxis": {
            "gridcolor": "white",
            "linecolor": "white",
            "ticks": ""
           },
           "bgcolor": "#E5ECF6",
           "caxis": {
            "gridcolor": "white",
            "linecolor": "white",
            "ticks": ""
           }
          },
          "title": {
           "x": 0.05
          },
          "xaxis": {
           "automargin": true,
           "gridcolor": "white",
           "linecolor": "white",
           "ticks": "",
           "title": {
            "standoff": 15
           },
           "zerolinecolor": "white",
           "zerolinewidth": 2
          },
          "yaxis": {
           "automargin": true,
           "gridcolor": "white",
           "linecolor": "white",
           "ticks": "",
           "title": {
            "standoff": 15
           },
           "zerolinecolor": "white",
           "zerolinewidth": 2
          }
         }
        },
        "title": {
         "text": "Most Popular Genre by Votes"
        }
       }
      }
     },
     "metadata": {},
     "output_type": "display_data"
    }
   ],
   "source": [
    "base_counts = get_ratings(merge_movies, 'genres_list', 'vote_count')\n",
    "base_counts = pd.DataFrame(index=base_counts.keys(),\n",
    "                           data=base_counts.values(),\n",
    "                           columns=['Counts'])\n",
    "base_counts.sort_values(by='Counts', inplace=True)\n",
    "fig = px.pie(names=base_counts.index,\n",
    "             values=base_counts['Counts'],\n",
    "             title='Most Popular Genre by Votes',\n",
    "             color=base_counts.index)\n",
    "fig.show()"
   ]
  }
 ],
 "metadata": {
  "kernelspec": {
   "display_name": "Python 3",
   "language": "python",
   "name": "python3"
  },
  "language_info": {
   "codemirror_mode": {
    "name": "ipython",
    "version": 3
   },
   "file_extension": ".py",
   "mimetype": "text/x-python",
   "name": "python",
   "nbconvert_exporter": "python",
   "pygments_lexer": "ipython3",
   "version": "3.10.5"
  }
 },
 "nbformat": 4,
 "nbformat_minor": 2
}
